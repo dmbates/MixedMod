{
 "cells": [
  {
   "cell_type": "code",
   "execution_count": 1,
   "metadata": {
    "collapsed": false
   },
   "outputs": [
    {
     "name": "stderr",
     "output_type": "stream",
     "text": [
      "\u001b[1m\u001b[34mINFO: Recompiling stale cache file /home/juser/.julia/lib/v0.5/StatsBase.ji for module StatsBase.\n",
      "\u001b[0m\u001b[1m\u001b[34mINFO: Recompiling stale cache file /home/juser/.julia/lib/v0.5/DataFrames.ji for module DataFrames.\n",
      "\u001b[0m\u001b[1m\u001b[34mINFO: Recompiling stale cache file /home/juser/.julia/lib/v0.5/DataStreams.ji for module DataStreams.\n",
      "\u001b[0m\u001b[1m\u001b[34mINFO: Recompiling stale cache file /home/juser/.julia/lib/v0.5/Distributions.ji for module Distributions.\n",
      "\u001b[0m\u001b[1m\u001b[34mINFO: Recompiling stale cache file /home/juser/.julia/lib/v0.5/GLM.ji for module GLM.\n",
      "\u001b[0m\u001b[1m\u001b[34mINFO: Recompiling stale cache file /home/juser/.julia/lib/v0.5/MixedModels.ji for module MixedModels.\n",
      "\u001b[0m\u001b[1m\u001b[34mINFO: Recompiling stale cache file /home/juser/.julia/lib/v0.5/RCall.ji for module RCall.\n",
      "\u001b[0m\u001b[1m\u001b[34mINFO: Using R installation at /usr/lib/R\n",
      "\u001b[0m"
     ]
    }
   ],
   "source": [
    "using DataFrames, Feather, MixedModels, RCall"
   ]
  },
  {
   "cell_type": "code",
   "execution_count": 2,
   "metadata": {
    "collapsed": false
   },
   "outputs": [
    {
     "data": {
      "text/html": [
       "<table class=\"data-frame\"><thead><tr><th></th><th>G</th><th>H</th><th>Y</th><th>S</th><th>T</th><th>U</th><th>V</th><th>W</th><th>X</th><th>Z</th></tr></thead><tbody><tr><th>1</th><td>CategoricalArrays.CategoricalValue{String,UInt32} \"30\"</td><td>CategoricalArrays.CategoricalValue{String,UInt32} \"1\"</td><td>2267.0</td><td>1.0</td><td>-1.0</td><td>1.0</td><td>-1.0</td><td>1.0</td><td>-1.0</td><td>-1.0</td></tr><tr><th>2</th><td>CategoricalArrays.CategoricalValue{String,UInt32} \"30\"</td><td>CategoricalArrays.CategoricalValue{String,UInt32} \"2\"</td><td>3856.0</td><td>-1.0</td><td>1.0</td><td>-1.0</td><td>-1.0</td><td>1.0</td><td>-1.0</td><td>1.0</td></tr><tr><th>3</th><td>CategoricalArrays.CategoricalValue{String,UInt32} \"30\"</td><td>CategoricalArrays.CategoricalValue{String,UInt32} \"3\"</td><td>1567.0</td><td>-1.0</td><td>-1.0</td><td>-1.0</td><td>1.0</td><td>1.0</td><td>1.0</td><td>-1.0</td></tr><tr><th>4</th><td>CategoricalArrays.CategoricalValue{String,UInt32} \"30\"</td><td>CategoricalArrays.CategoricalValue{String,UInt32} \"4\"</td><td>1732.0</td><td>1.0</td><td>1.0</td><td>-1.0</td><td>1.0</td><td>-1.0</td><td>-1.0</td><td>-1.0</td></tr><tr><th>5</th><td>CategoricalArrays.CategoricalValue{String,UInt32} \"30\"</td><td>CategoricalArrays.CategoricalValue{String,UInt32} \"5\"</td><td>2660.0</td><td>1.0</td><td>-1.0</td><td>-1.0</td><td>-1.0</td><td>-1.0</td><td>1.0</td><td>1.0</td></tr><tr><th>6</th><td>CategoricalArrays.CategoricalValue{String,UInt32} \"30\"</td><td>CategoricalArrays.CategoricalValue{String,UInt32} \"6\"</td><td>2763.0</td><td>-1.0</td><td>1.0</td><td>1.0</td><td>-1.0</td><td>-1.0</td><td>1.0</td><td>-1.0</td></tr><tr><th>7</th><td>CategoricalArrays.CategoricalValue{String,UInt32} \"30\"</td><td>CategoricalArrays.CategoricalValue{String,UInt32} \"7\"</td><td>3528.0</td><td>-1.0</td><td>-1.0</td><td>1.0</td><td>1.0</td><td>-1.0</td><td>-1.0</td><td>1.0</td></tr><tr><th>8</th><td>CategoricalArrays.CategoricalValue{String,UInt32} \"30\"</td><td>CategoricalArrays.CategoricalValue{String,UInt32} \"8\"</td><td>1741.0</td><td>1.0</td><td>1.0</td><td>1.0</td><td>1.0</td><td>1.0</td><td>1.0</td><td>1.0</td></tr><tr><th>9</th><td>CategoricalArrays.CategoricalValue{String,UInt32} \"30\"</td><td>CategoricalArrays.CategoricalValue{String,UInt32} \"9\"</td><td>3692.0</td><td>1.0</td><td>-1.0</td><td>1.0</td><td>-1.0</td><td>1.0</td><td>-1.0</td><td>-1.0</td></tr><tr><th>10</th><td>CategoricalArrays.CategoricalValue{String,UInt32} \"30\"</td><td>CategoricalArrays.CategoricalValue{String,UInt32} \"10\"</td><td>1949.0</td><td>-1.0</td><td>1.0</td><td>-1.0</td><td>-1.0</td><td>1.0</td><td>-1.0</td><td>1.0</td></tr><tr><th>11</th><td>CategoricalArrays.CategoricalValue{String,UInt32} \"30\"</td><td>CategoricalArrays.CategoricalValue{String,UInt32} \"11\"</td><td>2189.0</td><td>-1.0</td><td>-1.0</td><td>-1.0</td><td>1.0</td><td>1.0</td><td>1.0</td><td>-1.0</td></tr><tr><th>12</th><td>CategoricalArrays.CategoricalValue{String,UInt32} \"30\"</td><td>CategoricalArrays.CategoricalValue{String,UInt32} \"12\"</td><td>2207.0</td><td>1.0</td><td>1.0</td><td>-1.0</td><td>1.0</td><td>-1.0</td><td>-1.0</td><td>-1.0</td></tr><tr><th>13</th><td>CategoricalArrays.CategoricalValue{String,UInt32} \"30\"</td><td>CategoricalArrays.CategoricalValue{String,UInt32} \"13\"</td><td>2078.0</td><td>1.0</td><td>-1.0</td><td>-1.0</td><td>-1.0</td><td>-1.0</td><td>1.0</td><td>1.0</td></tr><tr><th>14</th><td>CategoricalArrays.CategoricalValue{String,UInt32} \"30\"</td><td>CategoricalArrays.CategoricalValue{String,UInt32} \"14\"</td><td>1901.0</td><td>-1.0</td><td>1.0</td><td>1.0</td><td>-1.0</td><td>-1.0</td><td>1.0</td><td>-1.0</td></tr><tr><th>15</th><td>CategoricalArrays.CategoricalValue{String,UInt32} \"30\"</td><td>CategoricalArrays.CategoricalValue{String,UInt32} \"15\"</td><td>4015.0</td><td>-1.0</td><td>-1.0</td><td>1.0</td><td>1.0</td><td>-1.0</td><td>-1.0</td><td>1.0</td></tr><tr><th>16</th><td>CategoricalArrays.CategoricalValue{String,UInt32} \"30\"</td><td>CategoricalArrays.CategoricalValue{String,UInt32} \"16\"</td><td>1880.0</td><td>1.0</td><td>1.0</td><td>1.0</td><td>1.0</td><td>1.0</td><td>1.0</td><td>1.0</td></tr><tr><th>17</th><td>CategoricalArrays.CategoricalValue{String,UInt32} \"30\"</td><td>CategoricalArrays.CategoricalValue{String,UInt32} \"17\"</td><td>1444.0</td><td>1.0</td><td>-1.0</td><td>1.0</td><td>-1.0</td><td>1.0</td><td>-1.0</td><td>-1.0</td></tr><tr><th>18</th><td>CategoricalArrays.CategoricalValue{String,UInt32} \"30\"</td><td>CategoricalArrays.CategoricalValue{String,UInt32} \"18\"</td><td>1683.0</td><td>-1.0</td><td>1.0</td><td>-1.0</td><td>-1.0</td><td>1.0</td><td>-1.0</td><td>1.0</td></tr><tr><th>19</th><td>CategoricalArrays.CategoricalValue{String,UInt32} \"30\"</td><td>CategoricalArrays.CategoricalValue{String,UInt32} \"19\"</td><td>2037.0</td><td>-1.0</td><td>-1.0</td><td>-1.0</td><td>1.0</td><td>1.0</td><td>1.0</td><td>-1.0</td></tr><tr><th>20</th><td>CategoricalArrays.CategoricalValue{String,UInt32} \"30\"</td><td>CategoricalArrays.CategoricalValue{String,UInt32} \"20\"</td><td>1168.0</td><td>1.0</td><td>1.0</td><td>-1.0</td><td>1.0</td><td>-1.0</td><td>-1.0</td><td>-1.0</td></tr><tr><th>21</th><td>CategoricalArrays.CategoricalValue{String,UInt32} \"30\"</td><td>CategoricalArrays.CategoricalValue{String,UInt32} \"21\"</td><td>1930.0</td><td>1.0</td><td>-1.0</td><td>-1.0</td><td>-1.0</td><td>-1.0</td><td>1.0</td><td>1.0</td></tr><tr><th>22</th><td>CategoricalArrays.CategoricalValue{String,UInt32} \"30\"</td><td>CategoricalArrays.CategoricalValue{String,UInt32} \"22\"</td><td>1843.0</td><td>-1.0</td><td>1.0</td><td>1.0</td><td>-1.0</td><td>-1.0</td><td>1.0</td><td>-1.0</td></tr><tr><th>23</th><td>CategoricalArrays.CategoricalValue{String,UInt32} \"30\"</td><td>CategoricalArrays.CategoricalValue{String,UInt32} \"23\"</td><td>4969.0</td><td>-1.0</td><td>-1.0</td><td>1.0</td><td>1.0</td><td>-1.0</td><td>-1.0</td><td>1.0</td></tr><tr><th>24</th><td>CategoricalArrays.CategoricalValue{String,UInt32} \"30\"</td><td>CategoricalArrays.CategoricalValue{String,UInt32} \"24\"</td><td>1798.0</td><td>1.0</td><td>1.0</td><td>1.0</td><td>1.0</td><td>1.0</td><td>1.0</td><td>1.0</td></tr><tr><th>25</th><td>CategoricalArrays.CategoricalValue{String,UInt32} \"30\"</td><td>CategoricalArrays.CategoricalValue{String,UInt32} \"25\"</td><td>2436.0</td><td>1.0</td><td>-1.0</td><td>1.0</td><td>-1.0</td><td>1.0</td><td>-1.0</td><td>-1.0</td></tr><tr><th>26</th><td>CategoricalArrays.CategoricalValue{String,UInt32} \"30\"</td><td>CategoricalArrays.CategoricalValue{String,UInt32} \"26\"</td><td>2018.0</td><td>-1.0</td><td>1.0</td><td>-1.0</td><td>-1.0</td><td>1.0</td><td>-1.0</td><td>1.0</td></tr><tr><th>27</th><td>CategoricalArrays.CategoricalValue{String,UInt32} \"30\"</td><td>CategoricalArrays.CategoricalValue{String,UInt32} \"27\"</td><td>2278.0</td><td>-1.0</td><td>-1.0</td><td>-1.0</td><td>1.0</td><td>1.0</td><td>1.0</td><td>-1.0</td></tr><tr><th>28</th><td>CategoricalArrays.CategoricalValue{String,UInt32} \"30\"</td><td>CategoricalArrays.CategoricalValue{String,UInt32} \"28\"</td><td>1866.0</td><td>1.0</td><td>1.0</td><td>-1.0</td><td>1.0</td><td>-1.0</td><td>-1.0</td><td>-1.0</td></tr><tr><th>29</th><td>CategoricalArrays.CategoricalValue{String,UInt32} \"30\"</td><td>CategoricalArrays.CategoricalValue{String,UInt32} \"29\"</td><td>1743.0</td><td>1.0</td><td>-1.0</td><td>-1.0</td><td>-1.0</td><td>-1.0</td><td>1.0</td><td>1.0</td></tr><tr><th>30</th><td>CategoricalArrays.CategoricalValue{String,UInt32} \"30\"</td><td>CategoricalArrays.CategoricalValue{String,UInt32} \"30\"</td><td>1963.0</td><td>-1.0</td><td>1.0</td><td>1.0</td><td>-1.0</td><td>-1.0</td><td>1.0</td><td>-1.0</td></tr><tr><th>&vellip;</th><td>&vellip;</td><td>&vellip;</td><td>&vellip;</td><td>&vellip;</td><td>&vellip;</td><td>&vellip;</td><td>&vellip;</td><td>&vellip;</td><td>&vellip;</td><td>&vellip;</td></tr></tbody></table>"
      ],
      "text/plain": [
       "1790×10 DataFrames.DataFrame\n",
       "│ Row  │ G     │ H    │ Y      │ S    │ T    │ U    │ V    │ W    │ X    │\n",
       "├──────┼───────┼──────┼────────┼──────┼──────┼──────┼──────┼──────┼──────┤\n",
       "│ 1    │ \"30\"  │ \"1\"  │ 2267.0 │ 1.0  │ -1.0 │ 1.0  │ -1.0 │ 1.0  │ -1.0 │\n",
       "│ 2    │ \"30\"  │ \"2\"  │ 3856.0 │ -1.0 │ 1.0  │ -1.0 │ -1.0 │ 1.0  │ -1.0 │\n",
       "│ 3    │ \"30\"  │ \"3\"  │ 1567.0 │ -1.0 │ -1.0 │ -1.0 │ 1.0  │ 1.0  │ 1.0  │\n",
       "│ 4    │ \"30\"  │ \"4\"  │ 1732.0 │ 1.0  │ 1.0  │ -1.0 │ 1.0  │ -1.0 │ -1.0 │\n",
       "│ 5    │ \"30\"  │ \"5\"  │ 2660.0 │ 1.0  │ -1.0 │ -1.0 │ -1.0 │ -1.0 │ 1.0  │\n",
       "│ 6    │ \"30\"  │ \"6\"  │ 2763.0 │ -1.0 │ 1.0  │ 1.0  │ -1.0 │ -1.0 │ 1.0  │\n",
       "│ 7    │ \"30\"  │ \"7\"  │ 3528.0 │ -1.0 │ -1.0 │ 1.0  │ 1.0  │ -1.0 │ -1.0 │\n",
       "│ 8    │ \"30\"  │ \"8\"  │ 1741.0 │ 1.0  │ 1.0  │ 1.0  │ 1.0  │ 1.0  │ 1.0  │\n",
       "│ 9    │ \"30\"  │ \"9\"  │ 3692.0 │ 1.0  │ -1.0 │ 1.0  │ -1.0 │ 1.0  │ -1.0 │\n",
       "│ 10   │ \"30\"  │ \"10\" │ 1949.0 │ -1.0 │ 1.0  │ -1.0 │ -1.0 │ 1.0  │ -1.0 │\n",
       "│ 11   │ \"30\"  │ \"11\" │ 2189.0 │ -1.0 │ -1.0 │ -1.0 │ 1.0  │ 1.0  │ 1.0  │\n",
       "⋮\n",
       "│ 1779 │ \"103\" │ \"21\" │ 1309.0 │ 1.0  │ 1.0  │ -1.0 │ 1.0  │ -1.0 │ -1.0 │\n",
       "│ 1780 │ \"103\" │ \"22\" │ 1623.0 │ 1.0  │ -1.0 │ -1.0 │ -1.0 │ -1.0 │ 1.0  │\n",
       "│ 1781 │ \"103\" │ \"23\" │ 2706.0 │ -1.0 │ 1.0  │ 1.0  │ -1.0 │ -1.0 │ 1.0  │\n",
       "│ 1782 │ \"103\" │ \"24\" │ 4281.0 │ -1.0 │ -1.0 │ 1.0  │ 1.0  │ -1.0 │ -1.0 │\n",
       "│ 1783 │ \"103\" │ \"25\" │ 2075.0 │ 1.0  │ 1.0  │ 1.0  │ 1.0  │ 1.0  │ 1.0  │\n",
       "│ 1784 │ \"103\" │ \"26\" │ 3179.0 │ 1.0  │ -1.0 │ 1.0  │ -1.0 │ 1.0  │ -1.0 │\n",
       "│ 1785 │ \"103\" │ \"27\" │ 1216.0 │ -1.0 │ 1.0  │ -1.0 │ -1.0 │ 1.0  │ -1.0 │\n",
       "│ 1786 │ \"103\" │ \"28\" │ 2286.0 │ -1.0 │ -1.0 │ -1.0 │ 1.0  │ 1.0  │ 1.0  │\n",
       "│ 1787 │ \"103\" │ \"29\" │ 1202.0 │ 1.0  │ 1.0  │ -1.0 │ 1.0  │ -1.0 │ -1.0 │\n",
       "│ 1788 │ \"103\" │ \"30\" │ 1581.0 │ 1.0  │ -1.0 │ -1.0 │ -1.0 │ -1.0 │ 1.0  │\n",
       "│ 1789 │ \"103\" │ \"31\" │ 1601.0 │ -1.0 │ 1.0  │ 1.0  │ -1.0 │ -1.0 │ 1.0  │\n",
       "│ 1790 │ \"103\" │ \"32\" │ 1941.0 │ -1.0 │ -1.0 │ 1.0  │ 1.0  │ -1.0 │ -1.0 │\n",
       "\n",
       "│ Row  │ Z    │\n",
       "├──────┼──────┤\n",
       "│ 1    │ -1.0 │\n",
       "│ 2    │ 1.0  │\n",
       "│ 3    │ -1.0 │\n",
       "│ 4    │ -1.0 │\n",
       "│ 5    │ 1.0  │\n",
       "│ 6    │ -1.0 │\n",
       "│ 7    │ 1.0  │\n",
       "│ 8    │ 1.0  │\n",
       "│ 9    │ -1.0 │\n",
       "│ 10   │ 1.0  │\n",
       "│ 11   │ -1.0 │\n",
       "⋮\n",
       "│ 1779 │ -1.0 │\n",
       "│ 1780 │ 1.0  │\n",
       "│ 1781 │ -1.0 │\n",
       "│ 1782 │ 1.0  │\n",
       "│ 1783 │ 1.0  │\n",
       "│ 1784 │ -1.0 │\n",
       "│ 1785 │ 1.0  │\n",
       "│ 1786 │ -1.0 │\n",
       "│ 1787 │ -1.0 │\n",
       "│ 1788 │ 1.0  │\n",
       "│ 1789 │ -1.0 │\n",
       "│ 1790 │ 1.0  │"
      ]
     },
     "execution_count": 2,
     "metadata": {},
     "output_type": "execute_result"
    }
   ],
   "source": [
    "R\"\"\"\n",
    "load(\"kb07.rda\")\n",
    "\"\"\"\n",
    "@rget kb07"
   ]
  },
  {
   "cell_type": "code",
   "execution_count": null,
   "metadata": {
    "collapsed": true
   },
   "outputs": [],
   "source": [
    "@time mm1 = fit!(lmm(RTtrunc ~ 1+P+S+C+SP+SC+PC+SPC+\n",
    "        (1+S+P+C+SP+SC+PC+SPC|subj)+\n",
    "        (1+S+P+C+SP+SC+PC+SPC|item), kb07))"
   ]
  },
  {
   "cell_type": "code",
   "execution_count": null,
   "metadata": {
    "collapsed": true
   },
   "outputs": [],
   "source": [
    "mm1.optsum"
   ]
  },
  {
   "cell_type": "code",
   "execution_count": null,
   "metadata": {
    "collapsed": true
   },
   "outputs": [],
   "source": [
    "R\"\"\"\n",
    "baboon = readRDS(\"finaldat.tbt.rds\")\n",
    "str(baboon)\n",
    "baboon1 <- within(baboon, {stimulus <- factor(stimulus);lex <- factor(lex); Outcomes <- factor(Outcomes)})\n",
    "baboon <- within(baboon1, {id <- factor(id); dec.FINAL <- factor(dec.FINAL); dec.GAM2 <- factor(dec.GAM2)})\n",
    "str(baboon)\n",
    "\"\"\"\n",
    "@rget(baboon)"
   ]
  },
  {
   "cell_type": "code",
   "execution_count": null,
   "metadata": {
    "collapsed": true
   },
   "outputs": [],
   "source": [
    "for (n,v) in eachcol(baboon)\n",
    "    println(rpad(n, 20), typeof(v))\n",
    "end"
   ]
  },
  {
   "cell_type": "code",
   "execution_count": null,
   "metadata": {
    "collapsed": true
   },
   "outputs": [],
   "source": [
    "nms_ = [Symbol(replace(string(nm), '.', '_') for nm in names(baboon)]\n",
    "names!(baboon, nms_)\n",
    "baboon[:dec_HOG_0] = convert(Vector{Int}, baboon[:dec_HOG_0])\n",
    "for (n,v) in eachcol(baboon)\n",
    "    println(rpad(n, 20), typeof(v))\n",
    "end"
   ]
  },
  {
   "cell_type": "code",
   "execution_count": null,
   "metadata": {
    "collapsed": true
   },
   "outputs": [],
   "source": [
    "mm1 = fit!(glmm(acc ~ 1 + (1|subject) + dec_HOG_0 + (1|stimulus), baboon, Bernoulli()))"
   ]
  },
  {
   "cell_type": "code",
   "execution_count": null,
   "metadata": {
    "collapsed": true
   },
   "outputs": [],
   "source": [
    "@time mm1a = fit!(glmm(acc ~ 1 + (1|subject) + dec_HOG_0 + (1|stimulus), baboon, Bernoulli()), fast = true)"
   ]
  },
  {
   "cell_type": "code",
   "execution_count": null,
   "metadata": {
    "collapsed": true
   },
   "outputs": [],
   "source": [
    "mm1a.LMM.optsum"
   ]
  },
  {
   "cell_type": "code",
   "execution_count": null,
   "metadata": {
    "collapsed": true
   },
   "outputs": [],
   "source": [
    "@time mm1 = fit!(glmm(acc ~ 1 + (1|subject) + dec_HOG_0 + (1|stimulus), baboon, Bernoulli()))"
   ]
  },
  {
   "cell_type": "code",
   "execution_count": null,
   "metadata": {
    "collapsed": true
   },
   "outputs": [],
   "source": [
    "mm1.LMM.optsum"
   ]
  },
  {
   "cell_type": "code",
   "execution_count": null,
   "metadata": {
    "collapsed": true
   },
   "outputs": [],
   "source": [
    "@time mm2 = fit!(glmm(acc ~ 1 + (1|subject) + dec_HOG_0 + (1|stimulus) + (1|first_tri) + (1|last_tri), baboon, Bernoulli()))"
   ]
  }
 ],
 "metadata": {
  "kernelspec": {
   "display_name": "Julia 0.5.0",
   "language": "julia",
   "name": "julia-0.5"
  },
  "language_info": {
   "file_extension": ".jl",
   "mimetype": "application/julia",
   "name": "julia",
   "version": "0.5.0"
  }
 },
 "nbformat": 4,
 "nbformat_minor": 2
}
