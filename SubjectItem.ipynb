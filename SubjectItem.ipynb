{
 "cells": [
  {
   "cell_type": "code",
   "execution_count": 1,
   "metadata": {
    "collapsed": false
   },
   "outputs": [
    {
     "name": "stderr",
     "output_type": "stream",
     "text": [
      "\u001b[1m\u001b[34mINFO: Recompiling stale cache file /home/bates/.julia/lib/v0.5/DataStreams.ji for module DataStreams.\n",
      "\u001b[0m\u001b[1m\u001b[34mINFO: Recompiling stale cache file /home/bates/.julia/lib/v0.5/RCall.ji for module RCall.\n",
      "\u001b[0m\u001b[1m\u001b[34mINFO: Using R installation at /opt/anaconda3/lib/R\n",
      "\u001b[0m"
     ]
    }
   ],
   "source": [
    "using DataFrames, Feather, MixedModels, RCall"
   ]
  },
  {
   "cell_type": "code",
   "execution_count": 3,
   "metadata": {
    "collapsed": false
   },
   "outputs": [],
   "source": [
    "R\"\"\"\n",
    "load(\"kb07.rda\")\n",
    "\"\"\"\n",
    "@rget kb07;"
   ]
  },
  {
   "cell_type": "code",
   "execution_count": 4,
   "metadata": {
    "collapsed": false
   },
   "outputs": [
    {
     "name": "stdout",
     "output_type": "stream",
     "text": [
      " 53.580779 seconds (11.59 M allocations: 448.169 MB, 0.69% gc time)\n"
     ]
    },
    {
     "data": {
      "text/plain": [
       "Linear mixed model fit by maximum likelihood\n",
       " Formula: RTtrunc ~ 1 + P + S + C + SP + SC + PC + SPC + ((1 + S + P + C + SP + SC + PC + SPC) | subj) + ((1 + S + P + C + SP + SC + PC + SPC) | item)\n",
       "  logLik    -2 logLik     AIC        BIC    \n",
       "-1.42931726×10⁴2.85863452×10⁴2.87483452×10⁴2.91930328×10⁴\n",
       "\n",
       "Variance components:\n",
       "              Column     Variance   Std.Dev.    Corr.\n",
       " subj     (Intercept)   90612.3205 301.018804\n",
       "          S              5180.4346  71.975236 -0.44\n",
       "          P              5530.2096  74.365379 -0.47  0.08\n",
       "          C              7580.6305  87.066817  0.21 -0.20  0.41\n",
       "          SP             8838.5383  94.013501  0.19 -0.76 -0.54 -0.20\n",
       "          SC             1813.9315  42.590275  0.47 -0.53 -0.10 -0.44  0.28\n",
       "          PC             7393.0576  85.982892 -0.10  0.13 -0.05 -0.86 -0.06  0.70\n",
       "          SPC            3808.3909  61.712162 -0.48  0.41 -0.39 -0.09  0.18 -0.78 -0.39\n",
       " item     S            129609.6341 360.013380\n",
       "          S              1842.1843  42.920674 -0.35\n",
       "          P             62348.4893 249.696795 -0.68 -0.45\n",
       "          C              2920.9622  54.045927  0.20 -0.05 -0.18\n",
       "          SP             1054.5444  32.473750  0.57 -0.78  0.02  0.02\n",
       "          SC             1663.1372  40.781579  0.27  0.05 -0.26  0.45 -0.21\n",
       "          PC             4721.5379  68.713448  0.08 -0.24  0.21 -0.13 -0.26  0.02\n",
       "          SPC            4813.1935  69.377183  0.04 -0.50  0.32 -0.69  0.65 -0.67 -0.10\n",
       " Residual P            399646.8438 632.176276\n",
       " Number of obs: 1790; levels of grouping factors: 56, 32\n",
       "\n",
       "  Fixed-effects parameters:\n",
       "             Estimate Std.Error  z value P(>|z|)\n",
       "(Intercept)   2180.63   76.7573  28.4094  <1e-99\n",
       "P            -333.878   47.6492 -7.00702  <1e-11\n",
       "S            -66.9927   19.3229 -3.46701  0.0005\n",
       "C             78.9886   21.2119  3.72378  0.0002\n",
       "SP            22.1534   20.3491  1.08867  0.2763\n",
       "SC           -18.9216   17.5403 -1.07875  0.2807\n",
       "PC            5.25918   22.4247 0.234527  0.8146\n",
       "SPC          -23.9526   21.0171 -1.13967  0.2544\n"
      ]
     },
     "execution_count": 4,
     "metadata": {},
     "output_type": "execute_result"
    },
    {
     "name": "stdout",
     "output_type": "stream",
     "text": [
      "  "
     ]
    }
   ],
   "source": [
    "@time mm1 = fit!(lmm(RTtrunc ~ 1+P+S+C+SP+SC+PC+SPC+\n",
    "        (1+S+P+C+SP+SC+PC+SPC|subj)+\n",
    "        (1+S+P+C+SP+SC+PC+SPC|item), kb07))"
   ]
  },
  {
   "cell_type": "code",
   "execution_count": 5,
   "metadata": {
    "collapsed": false
   },
   "outputs": [
    {
     "data": {
      "text/plain": [
       "Initial parameter vector: [1.0,0.0,0.0,0.0,0.0,0.0,0.0,0.0,1.0,0.0  …  1.0,0.0,0.0,0.0,1.0,0.0,0.0,1.0,0.0,1.0]\n",
       "Initial objective value:  30014.36976860628\n",
       "\n",
       "Optimizer (from NLopt):   LN_BOBYQA\n",
       "Lower bounds:             [0.0,-Inf,-Inf,-Inf,-Inf,-Inf,-Inf,-Inf,0.0,-Inf  …  0.0,-Inf,-Inf,-Inf,0.0,-Inf,-Inf,0.0,-Inf,0.0]\n",
       "ftol_rel:                 1.0e-12\n",
       "ftol_abs:                 1.0e-8\n",
       "xtol_rel:                 0.0\n",
       "xtol_abs:                 [1.0e-10,1.0e-10,1.0e-10,1.0e-10,1.0e-10,1.0e-10,1.0e-10,1.0e-10,1.0e-10,1.0e-10  …  1.0e-10,1.0e-10,1.0e-10,1.0e-10,1.0e-10,1.0e-10,1.0e-10,1.0e-10,1.0e-10,1.0e-10]\n",
       "\n",
       "Function evaluations:     1742\n",
       "Final parameter vector:   [0.476163,-0.0495364,-0.055594,0.0292095,0.0289941,0.0319883,-0.0136437,-0.0464125,0.102512,-0.0167764  …  0.000173176,-0.0377045,0.0362933,0.0137344,0.029079,-0.0245135,-0.0120874,4.23458e-5,0.000132778,1.15826e-6]\n",
       "Final objective value:    28586.345191687305\n",
       "Return code:              FTOL_REACHED\n"
      ]
     },
     "execution_count": 5,
     "metadata": {},
     "output_type": "execute_result"
    }
   ],
   "source": [
    "mm1.optsum"
   ]
  },
  {
   "cell_type": "code",
   "execution_count": 6,
   "metadata": {
    "collapsed": false
   },
   "outputs": [
    {
     "data": {
      "text/plain": [
       "8×8 LowerTriangular{Float64,Array{Float64,2}}:\n",
       "  0.476163     ⋅           ⋅            ⋅          …   ⋅           ⋅         \n",
       " -0.0495364   0.102512     ⋅            ⋅              ⋅           ⋅         \n",
       " -0.055594   -0.0167764   0.102302      ⋅              ⋅           ⋅         \n",
       "  0.0292095  -0.0160742   0.0774595    0.108889        ⋅           ⋅         \n",
       "  0.0289941  -0.11122    -0.094225     0.00518803      ⋅           ⋅         \n",
       "  0.0319883  -0.024384    0.00557116  -0.053748    …   ⋅           ⋅         \n",
       " -0.0136437   0.0124569  -0.0128618   -0.134133       0.0          ⋅         \n",
       " -0.0464125   0.0218546  -0.0653738    0.0512141      7.48771e-7  0.000132175"
      ]
     },
     "execution_count": 6,
     "metadata": {},
     "output_type": "execute_result"
    }
   ],
   "source": [
    "mm1.Λ[1]"
   ]
  },
  {
   "cell_type": "code",
   "execution_count": 7,
   "metadata": {
    "collapsed": false
   },
   "outputs": [
    {
     "data": {
      "text/plain": [
       "8×8 LowerTriangular{Float64,Array{Float64,2}}:\n",
       "  0.569483      ⋅            ⋅         …    ⋅          ⋅            ⋅        \n",
       " -0.0234283    0.0637232     ⋅              ⋅          ⋅            ⋅        \n",
       " -0.266682    -0.288296     0.0421306       ⋅          ⋅            ⋅        \n",
       "  0.0174978    0.00218032  -0.0211528       ⋅          ⋅            ⋅        \n",
       "  0.0291642   -0.0320205   -0.025332        ⋅          ⋅            ⋅        \n",
       "  0.017738     0.00989025   0.0212628  …   0.029079    ⋅            ⋅        \n",
       "  0.00863582  -0.0246445    0.0955937     -0.0245135  4.23458e-5    ⋅        \n",
       "  0.00489853  -0.0568596   -0.0284809     -0.0120874  0.000132778  1.15826e-6"
      ]
     },
     "execution_count": 7,
     "metadata": {},
     "output_type": "execute_result"
    }
   ],
   "source": [
    "mm1.Λ[2]"
   ]
  },
  {
   "cell_type": "code",
   "execution_count": 8,
   "metadata": {
    "collapsed": false
   },
   "outputs": [
    {
     "name": "stdout",
     "output_type": "stream",
     "text": [
      "'data.frame':\t316871 obs. of  44 variables:\n",
      " $ ID           : int  1 2 3 4 5 6 7 8 9 10 ...\n",
      " $ trial        : int  1 2 3 4 5 6 7 8 9 10 ...\n",
      " $ subject      : Factor w/ 6 levels \"ARI\",\"ART\",\"CAU\",..: 4 4 4 4 4 4 4 4 4 4 ...\n",
      " $ stimulus     : Factor w/ 8139 levels \"ABBS\",\"ABBT\",..: 6929 1613 7705 7220 339 339 7244 6929 5483 92 ...\n",
      " $ lex          : Factor w/ 2 levels \"NW\",\"W\": 2 1 2 1 2 2 1 2 1 1 ...\n",
      " $ acc          : int  0 1 0 1 0 0 1 0 1 1 ...\n",
      " $ Response     : Factor w/ 2 levels \"NW\",\"W\": 1 1 1 1 1 1 1 1 1 1 ...\n",
      " $ Outcomes     : Factor w/ 2 levels \"NW\",\"W\": 2 1 2 1 2 2 1 2 1 1 ...\n",
      " $ Block        : num  1 1 1 1 1 1 1 1 1 1 ...\n",
      " $ dec.HOG      : Factor w/ 2 levels \"NW\",\"W\": 2 1 1 1 1 2 2 1 1 2 ...\n",
      " $ dec.HOG.0    : logi  FALSE TRUE FALSE TRUE FALSE TRUE ...\n",
      " $ actN         : num  0 0 0.279 0.147 0.308 ...\n",
      " $ actW         : num  0 0.144 0.112 0.278 0.266 ...\n",
      " $ priorN       : num  0 0 0.59 0.596 1.094 ...\n",
      " $ priorW       : num  0 0.507 0.544 0.979 1.025 ...\n",
      " $ first        : logi  TRUE TRUE TRUE TRUE TRUE FALSE ...\n",
      " $ agr          : num  0 1 1 1 1 0 0 1 1 0 ...\n",
      " $ acc.model    : num  1 1 0 1 0 1 0 0 1 0 ...\n",
      " $ diff         : num  0 -0.1438 -0.1666 -0.1312 -0.0422 ...\n",
      " $ diff.abs     : num  0 0.1438 0.1666 0.1312 0.0422 ...\n",
      " $ id           : Factor w/ 308 levels \"ACME\",\"AHEM\",..: 266 172 279 172 9 9 172 266 172 172 ...\n",
      " $ first.app    : Factor w/ 52 levels \"1\",\"3\",\"4\",\"5\",..: 1 NA 1 NA 1 1 NA 1 NA NA ...\n",
      " $ dist         : Factor w/ 62 levels \"0\",\"1\",\"2\",\"3\",..: 1 NA 1 NA 1 1 NA 1 NA NA ...\n",
      " $ first.app.num: num  1 1 1 1 1 1 1 1 1 1 ...\n",
      " $ first.trial  : num  1 1 1 1 1 1 1 1 1 1 ...\n",
      " $ priorsWDS    : num  0 0 0 0 0 ...\n",
      " $ actsWDS      : num  0 0 0 0 0 ...\n",
      " $ dec.FINAL    : Factor w/ 2 levels \"NW\",\"W\": 1 1 1 1 1 1 2 1 1 2 ...\n",
      " $ unique       : num  0 0 2 2 3 3 3 3 3 3 ...\n",
      " $ old20        : num  0 0 NA NA NA NA NA NA NA NA ...\n",
      " $ Correct      : logi  FALSE TRUE FALSE TRUE FALSE FALSE ...\n",
      " $ acc.f        : logi  FALSE TRUE FALSE TRUE FALSE FALSE ...\n",
      " $ first.tri    : Factor w/ 1991 levels \"ABB\",\"ABL\",\"ACH\",..: 1693 390 1873 1747 69 69 1750 1693 1354 16 ...\n",
      " $ last.tri     : Factor w/ 1539 levels \"ABS\",\"ABT\",\"ACE\",..: 942 310 270 597 40 40 633 942 1232 365 ...\n",
      " $ first.bi     : Factor w/ 184 levels \"AB\",\"AC\",\"AD\",..: 159 44 175 165 17 17 165 159 132 6 ...\n",
      " $ mid.bi       : Factor w/ 205 levels \"AB\",\"AC\",\"AD\",..: 136 56 48 94 11 11 97 136 167 63 ...\n",
      " $ last.bi      : Factor w/ 209 levels \"AB\",\"AD\",\"AF\",..: 152 178 116 86 118 118 125 152 67 107 ...\n",
      " $ id.f         : Factor w/ 308 levels \"ACME\",\"AHEM\",..: 266 172 279 172 9 9 172 266 172 172 ...\n",
      " $ dec.GAM      : logi  NA NA NA NA NA NA ...\n",
      " $ GAM          : num  0.206 0.139 0.115 0.139 0.113 ...\n",
      " $ acc.gam      : num  1 1 0 0 0 0 1 1 1 1 ...\n",
      " $ GAM2         : num  0.2599 0.1071 0.0872 0.1071 0.087 ...\n",
      " $ dec.GAM2     : Factor w/ 2 levels \"NW\",\"W\": 1 1 1 1 1 1 2 1 1 1 ...\n",
      " $ acc.gam2     : num  0 1 0 1 0 0 0 0 1 1 ...\n"
     ]
    },
    {
     "data": {
      "text/plain": [
       "RCall.RObject{RCall.NilSxp}\n",
       "NULL\n"
      ]
     },
     "execution_count": 8,
     "metadata": {},
     "output_type": "execute_result"
    }
   ],
   "source": [
    "R\"\"\"\n",
    "baboon <- within(readRDS(\"finaldat.tbt.rds\"), {\n",
    "    stimulus <- factor(stimulus)\n",
    "    lex <- factor(lex)\n",
    "    Outcomes <- factor(Outcomes)\n",
    "    id <- factor(id)\n",
    "    dec.FINAL <- factor(dec.FINAL)\n",
    "    dec.GAM2 <- factor(dec.GAM2)\n",
    "})\n",
    "str(baboon)\n",
    "\"\"\""
   ]
  },
  {
   "cell_type": "code",
   "execution_count": 9,
   "metadata": {
    "collapsed": false
   },
   "outputs": [],
   "source": [
    "@rget(baboon);"
   ]
  },
  {
   "cell_type": "code",
   "execution_count": 10,
   "metadata": {
    "collapsed": false
   },
   "outputs": [
    {
     "name": "stdout",
     "output_type": "stream",
     "text": [
      "ID                  Array{Int32,1}\n",
      "trial               Array{Int32,1}\n",
      "subject             CategoricalArrays.CategoricalArray{String,1,UInt32}\n",
      "stimulus            CategoricalArrays.CategoricalArray{String,1,UInt32}\n",
      "lex                 CategoricalArrays.CategoricalArray{String,1,UInt32}\n",
      "acc                 Array{Int32,1}\n",
      "Response            CategoricalArrays.CategoricalArray{String,1,UInt32}\n",
      "Outcomes            CategoricalArrays.CategoricalArray{String,1,UInt32}\n",
      "Block               Array{Float64,1}\n",
      "dec.HOG             CategoricalArrays.CategoricalArray{String,1,UInt32}\n",
      "dec.HOG.0           BitArray{1}\n",
      "actN                Array{Float64,1}\n",
      "actW                Array{Float64,1}\n",
      "priorN              Array{Float64,1}\n",
      "priorW              Array{Float64,1}\n",
      "first               BitArray{1}\n",
      "agr                 Array{Float64,1}\n",
      "acc.model           Array{Float64,1}\n",
      "diff                Array{Float64,1}\n",
      "diff.abs            Array{Float64,1}\n",
      "id                  CategoricalArrays.CategoricalArray{String,1,UInt32}\n",
      "first.app           CategoricalArrays.NullableCategoricalArray{String,1,UInt32}\n",
      "dist                CategoricalArrays.NullableCategoricalArray{String,1,UInt32}\n",
      "first.app.num       NullableArrays.NullableArray{Float64,1}\n",
      "first.trial         Array{Float64,1}\n",
      "priorsWDS           Array{Float64,1}\n",
      "actsWDS             Array{Float64,1}\n",
      "dec.FINAL           CategoricalArrays.CategoricalArray{String,1,UInt32}\n",
      "unique              Array{Float64,1}\n",
      "old20               NullableArrays.NullableArray{Float64,1}\n",
      "Correct             BitArray{1}\n",
      "acc.f               BitArray{1}\n",
      "first.tri           CategoricalArrays.CategoricalArray{String,1,UInt32}\n",
      "last.tri            CategoricalArrays.CategoricalArray{String,1,UInt32}\n",
      "first.bi            CategoricalArrays.CategoricalArray{String,1,UInt32}\n",
      "mid.bi              CategoricalArrays.CategoricalArray{String,1,UInt32}\n",
      "last.bi             CategoricalArrays.CategoricalArray{String,1,UInt32}\n",
      "id.f                CategoricalArrays.CategoricalArray{String,1,UInt32}\n",
      "dec.GAM             NullableArrays.NullableArray{Bool,1}\n",
      "GAM                 Array{Float64,1}\n",
      "acc.gam             Array{Float64,1}\n",
      "GAM2                Array{Float64,1}\n",
      "dec.GAM2            CategoricalArrays.CategoricalArray{String,1,UInt32}\n",
      "acc.gam2            Array{Float64,1}\n"
     ]
    }
   ],
   "source": [
    "for (n,v) in eachcol(baboon)\n",
    "    println(rpad(n, 20), typeof(v))\n",
    "end"
   ]
  },
  {
   "cell_type": "markdown",
   "metadata": {},
   "source": [
    "In Julia column names with embedded `.` characters must be quoted in an awkward way.  It is better to replace the `.` characters with `_`."
   ]
  },
  {
   "cell_type": "code",
   "execution_count": 11,
   "metadata": {
    "collapsed": false
   },
   "outputs": [
    {
     "name": "stdout",
     "output_type": "stream",
     "text": [
      "ID                  Array{Int32,1}\n",
      "trial               Array{Int32,1}\n",
      "subject             CategoricalArrays.CategoricalArray{String,1,UInt32}\n",
      "stimulus            CategoricalArrays.CategoricalArray{String,1,UInt32}\n",
      "lex                 CategoricalArrays.CategoricalArray{String,1,UInt32}\n",
      "acc                 Array{Int32,1}\n",
      "Response            CategoricalArrays.CategoricalArray{String,1,UInt32}\n",
      "Outcomes            CategoricalArrays.CategoricalArray{String,1,UInt32}\n",
      "Block               Array{Float64,1}\n",
      "dec_HOG             CategoricalArrays.CategoricalArray{String,1,UInt32}\n",
      "dec_HOG_0           DataArrays.DataArray{Int64,1}\n",
      "actN                Array{Float64,1}\n",
      "actW                Array{Float64,1}\n",
      "priorN              Array{Float64,1}\n",
      "priorW              Array{Float64,1}\n",
      "first               BitArray{1}\n",
      "agr                 Array{Float64,1}\n",
      "acc_model           Array{Float64,1}\n",
      "diff                Array{Float64,1}\n",
      "diff_abs            Array{Float64,1}\n",
      "id                  CategoricalArrays.CategoricalArray{String,1,UInt32}\n",
      "first_app           CategoricalArrays.NullableCategoricalArray{String,1,UInt32}\n",
      "dist                CategoricalArrays.NullableCategoricalArray{String,1,UInt32}\n",
      "first_app_num       NullableArrays.NullableArray{Float64,1}\n",
      "first_trial         Array{Float64,1}\n",
      "priorsWDS           Array{Float64,1}\n",
      "actsWDS             Array{Float64,1}\n",
      "dec_FINAL           CategoricalArrays.CategoricalArray{String,1,UInt32}\n",
      "unique              Array{Float64,1}\n",
      "old20               NullableArrays.NullableArray{Float64,1}\n",
      "Correct             BitArray{1}\n",
      "acc_f               BitArray{1}\n",
      "first_tri           CategoricalArrays.CategoricalArray{String,1,UInt32}\n",
      "last_tri            CategoricalArrays.CategoricalArray{String,1,UInt32}\n",
      "first_bi            CategoricalArrays.CategoricalArray{String,1,UInt32}\n",
      "mid_bi              CategoricalArrays.CategoricalArray{String,1,UInt32}\n",
      "last_bi             CategoricalArrays.CategoricalArray{String,1,UInt32}\n",
      "id_f                CategoricalArrays.CategoricalArray{String,1,UInt32}\n",
      "dec_GAM             NullableArrays.NullableArray{Bool,1}\n",
      "GAM                 Array{Float64,1}\n",
      "acc_gam             Array{Float64,1}\n",
      "GAM2                Array{Float64,1}\n",
      "dec_GAM2            CategoricalArrays.CategoricalArray{String,1,UInt32}\n",
      "acc_gam2            Array{Float64,1}\n"
     ]
    }
   ],
   "source": [
    "nms_ = [Symbol(replace(string(nm), '.', '_')) for nm in names(baboon)]\n",
    "names!(baboon, nms_)\n",
    "baboon[:dec_HOG_0] = convert(Vector{Int}, baboon[:dec_HOG_0])\n",
    "for (n,v) in eachcol(baboon)\n",
    "    println(rpad(n, 20), typeof(v))\n",
    "end"
   ]
  },
  {
   "cell_type": "code",
   "execution_count": 12,
   "metadata": {
    "collapsed": false
   },
   "outputs": [
    {
     "data": {
      "text/plain": [
       "Generalized Linear Mixed Model fit by minimizing the Laplace approximation to the deviance\n",
       "  Formula: acc ~ 1 + dec_HOG_0 + (1 | stimulus) + (1 | subject)\n",
       "  Distribution: Distributions.Bernoulli{Float64}\n",
       "  Link: GLM.LogitLink()\n",
       "\n",
       "  Deviance (Laplace approximation): 344103.0381\n",
       "\n",
       "Variance components:\n",
       "              Column     Variance   Std.Dev. \n",
       " stimulus (Intercept)  0.729003384 0.8538169\n",
       " subject  (Intercept)  0.019953909 0.1412583\n",
       "\n",
       " Number of obs: 316871; levels of grouping factors: 8139, 6\n",
       "\n",
       "Fixed-effects parameters:\n",
       "              Estimate Std.Error  z value P(>|z|)\n",
       "(Intercept)    1.06353 0.0587912    18.09  <1e-72\n",
       "dec_HOG_0    -0.176357 0.0131468 -13.4144  <1e-40\n"
      ]
     },
     "execution_count": 12,
     "metadata": {},
     "output_type": "execute_result"
    }
   ],
   "source": [
    "mm1 = fit!(glmm(acc ~ 1 + dec_HOG_0 + (1 | stimulus) + (1 | subject), baboon, Bernoulli()))"
   ]
  },
  {
   "cell_type": "code",
   "execution_count": 13,
   "metadata": {
    "collapsed": false
   },
   "outputs": [
    {
     "name": "stdout",
     "output_type": "stream",
     "text": [
      " 20.402963 seconds (210.08 k allocations: 1.302 GB, 1.35% gc time)\n"
     ]
    },
    {
     "data": {
      "text/plain": [
       "Generalized Linear Mixed Model fit by minimizing the Laplace approximation to the deviance\n",
       "  Formula: acc ~ 1 + dec_HOG_0 + (1 | stimulus) + (1 | subject)\n",
       "  Distribution: Distributions.Bernoulli{Float64}\n",
       "  Link: GLM.LogitLink()\n",
       "\n",
       "  Deviance (Laplace approximation): 344103.8657\n",
       "\n",
       "Variance components:\n",
       "              Column     Variance   Std.Dev.  \n",
       " stimulus (Intercept)  0.728887359 0.85374900\n",
       " subject  (Intercept)  0.021818356 0.14771038\n",
       "\n",
       " Number of obs: 316871; levels of grouping factors: 8139, 6\n",
       "\n",
       "Fixed-effects parameters:\n",
       "              Estimate Std.Error  z value P(>|z|)\n",
       "(Intercept)    1.01788 0.0613767  16.5841  <1e-61\n",
       "dec_HOG_0    -0.169316 0.0131424 -12.8832  <1e-37\n"
      ]
     },
     "execution_count": 13,
     "metadata": {},
     "output_type": "execute_result"
    }
   ],
   "source": [
    "@time mm1a = fit!(glmm(\n",
    "acc ~ 1 + dec_HOG_0 + (1 | stimulus) + (1 | subject), baboon, Bernoulli()), fast = true)"
   ]
  },
  {
   "cell_type": "code",
   "execution_count": 14,
   "metadata": {
    "collapsed": false
   },
   "outputs": [
    {
     "data": {
      "text/plain": [
       "Initial parameter vector: [1.0,1.0]\n",
       "Initial objective value:  344296.1817233196\n",
       "\n",
       "Optimizer (from NLopt):   LN_BOBYQA\n",
       "Lower bounds:             [0.0,0.0]\n",
       "ftol_rel:                 1.0e-12\n",
       "ftol_abs:                 1.0e-8\n",
       "xtol_rel:                 0.0\n",
       "xtol_abs:                 [1.0e-10,1.0e-10]\n",
       "\n",
       "Function evaluations:     35\n",
       "Final parameter vector:   [0.853749,0.14771]\n",
       "Final objective value:    344103.86574724223\n",
       "Return code:              FTOL_REACHED\n"
      ]
     },
     "execution_count": 14,
     "metadata": {},
     "output_type": "execute_result"
    }
   ],
   "source": [
    "mm1a.LMM.optsum"
   ]
  },
  {
   "cell_type": "code",
   "execution_count": 15,
   "metadata": {
    "collapsed": false
   },
   "outputs": [
    {
     "name": "stdout",
     "output_type": "stream",
     "text": [
      " 89.008223 seconds (248.00 k allocations: 4.008 GB, 0.53% gc time)\n"
     ]
    },
    {
     "data": {
      "text/plain": [
       "Generalized Linear Mixed Model fit by minimizing the Laplace approximation to the deviance\n",
       "  Formula: acc ~ 1 + dec_HOG_0 + (1 | stimulus) + (1 | subject)\n",
       "  Distribution: Distributions.Bernoulli{Float64}\n",
       "  Link: GLM.LogitLink()\n",
       "\n",
       "  Deviance (Laplace approximation): 344103.0381\n",
       "\n",
       "Variance components:\n",
       "              Column     Variance   Std.Dev. \n",
       " stimulus (Intercept)  0.729003384 0.8538169\n",
       " subject  (Intercept)  0.019953909 0.1412583\n",
       "\n",
       " Number of obs: 316871; levels of grouping factors: 8139, 6\n",
       "\n",
       "Fixed-effects parameters:\n",
       "              Estimate Std.Error  z value P(>|z|)\n",
       "(Intercept)    1.06353 0.0587912    18.09  <1e-72\n",
       "dec_HOG_0    -0.176357 0.0131468 -13.4144  <1e-40\n"
      ]
     },
     "execution_count": 15,
     "metadata": {},
     "output_type": "execute_result"
    }
   ],
   "source": [
    "@time mm1 = fit!(glmm(\n",
    "    acc ~ 1 + dec_HOG_0 + (1 | stimulus) + (1 | subject), baboon, Bernoulli()))"
   ]
  },
  {
   "cell_type": "code",
   "execution_count": 16,
   "metadata": {
    "collapsed": false
   },
   "outputs": [
    {
     "data": {
      "text/plain": [
       "Initial parameter vector: [1.0,1.0]\n",
       "Initial objective value:  344295.93829161214\n",
       "\n",
       "Optimizer (from NLopt):   LN_BOBYQA\n",
       "Lower bounds:             [0.0,0.0]\n",
       "ftol_rel:                 1.0e-12\n",
       "ftol_abs:                 1.0e-8\n",
       "xtol_rel:                 0.0\n",
       "xtol_abs:                 [1.0e-10,1.0e-10]\n",
       "\n",
       "Function evaluations:     81\n",
       "Final parameter vector:   [1.06353,-0.176357,0.853817,0.141258]\n",
       "Final objective value:    344103.0380669706\n",
       "Return code:              FTOL_REACHED\n"
      ]
     },
     "execution_count": 16,
     "metadata": {},
     "output_type": "execute_result"
    }
   ],
   "source": [
    "mm1.LMM.optsum"
   ]
  },
  {
   "cell_type": "code",
   "execution_count": 17,
   "metadata": {
    "collapsed": false
   },
   "outputs": [
    {
     "name": "stdout",
     "output_type": "stream",
     "text": [
      "1122.436415 seconds (210.29 M allocations: 110.799 GB, 1.67% gc time)\n"
     ]
    },
    {
     "data": {
      "text/plain": [
       "Generalized Linear Mixed Model fit by minimizing the Laplace approximation to the deviance\n",
       "  Formula: acc ~ 1 + dec_HOG_0 + (1 | stimulus) + (1 | first_tri) + (1 | last_tri) + (1 | subject)\n",
       "  Distribution: Distributions.Bernoulli{Float64}\n",
       "  Link: GLM.LogitLink()\n",
       "\n",
       "  Deviance (Laplace approximation): 337966.5911\n",
       "\n",
       "Variance components:\n",
       "               Column     Variance   Std.Dev.  \n",
       " stimulus  (Intercept)  0.016587679 0.12879316\n",
       " first_tri (Intercept)  0.225358482 0.47471937\n",
       " last_tri  (Intercept)  0.331953946 0.57615445\n",
       " subject   (Intercept)  0.021949342 0.14815310\n",
       "\n",
       " Number of obs: 316871; levels of grouping factors: 8139, 1991, 1539, 6\n",
       "\n",
       "Fixed-effects parameters:\n",
       "              Estimate Std.Error  z value P(>|z|)\n",
       "(Intercept)    1.09759  0.064784  16.9424  <1e-63\n",
       "dec_HOG_0    -0.132331 0.0130988 -10.1025  <1e-23\n"
      ]
     },
     "execution_count": 17,
     "metadata": {},
     "output_type": "execute_result"
    }
   ],
   "source": [
    "@time mm2 = fit!(glmm(\n",
    "    acc ~ 1 + dec_HOG_0 + (1 | stimulus) + (1 | first_tri) + (1 | last_tri) + (1 | subject),\n",
    "    baboon, Bernoulli()))"
   ]
  }
 ],
 "metadata": {
  "kernelspec": {
   "display_name": "Julia 0.5.0",
   "language": "julia",
   "name": "julia-0.5"
  },
  "language_info": {
   "file_extension": ".jl",
   "mimetype": "application/julia",
   "name": "julia",
   "version": "0.5.0"
  }
 },
 "nbformat": 4,
 "nbformat_minor": 2
}
