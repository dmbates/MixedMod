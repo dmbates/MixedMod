{
 "cells": [
  {
   "cell_type": "code",
   "execution_count": null,
   "metadata": {
    "collapsed": true
   },
   "outputs": [],
   "source": [
    "using DataFrames, Feather, MixedModels, RCall"
   ]
  },
  {
   "cell_type": "code",
   "execution_count": null,
   "metadata": {
    "collapsed": true
   },
   "outputs": [],
   "source": [
    "R\"\"\"\n",
    "load(\"kb07.rda\")\n",
    "\"\"\"\n",
    "@rget kb07"
   ]
  },
  {
   "cell_type": "code",
   "execution_count": null,
   "metadata": {
    "collapsed": true
   },
   "outputs": [],
   "source": [
    "@time mm1 = fit!(lmm(RTtrunc ~ 1+P+S+C+SP+SC+PC+SPC+\n",
    "        (1+S+P+C+SP+SC+PC+SPC|subj)+\n",
    "        (1+S+P+C+SP+SC+PC+SPC|item), kb07))"
   ]
  },
  {
   "cell_type": "code",
   "execution_count": null,
   "metadata": {
    "collapsed": true
   },
   "outputs": [],
   "source": [
    "mm1.optsum"
   ]
  },
  {
   "cell_type": "code",
   "execution_count": null,
   "metadata": {
    "collapsed": true
   },
   "outputs": [],
   "source": [
    "R\"\"\"\n",
    "baboon = readRDS(\"finaldat.tbt.rds\")\n",
    "str(baboon)\n",
    "baboon1 <- within(baboon, {stimulus <- factor(stimulus);lex <- factor(lex); Outcomes <- factor(Outcomes)})\n",
    "baboon <- within(baboon1, {id <- factor(id); dec.FINAL <- factor(dec.FINAL); dec.GAM2 <- factor(dec.GAM2)})\n",
    "str(baboon)\n",
    "\"\"\"\n",
    "@rget(baboon)"
   ]
  },
  {
   "cell_type": "code",
   "execution_count": null,
   "metadata": {
    "collapsed": true
   },
   "outputs": [],
   "source": [
    "for (n,v) in eachcol(baboon)\n",
    "    println(rpad(n, 20), typeof(v))\n",
    "end"
   ]
  },
  {
   "cell_type": "code",
   "execution_count": null,
   "metadata": {
    "collapsed": true
   },
   "outputs": [],
   "source": [
    "nms_ = [Symbol(replace(string(nm), '.', '_') for nm in names(baboon)]\n",
    "names!(baboon, nms_)\n",
    "baboon[:dec_HOG_0] = convert(Vector{Int}, baboon[:dec_HOG_0])\n",
    "for (n,v) in eachcol(baboon)\n",
    "    println(rpad(n, 20), typeof(v))\n",
    "end"
   ]
  },
  {
   "cell_type": "code",
   "execution_count": null,
   "metadata": {
    "collapsed": true
   },
   "outputs": [],
   "source": [
    "mm1 = fit!(glmm(acc ~ 1 + (1|subject) + dec_HOG_0 + (1|stimulus), baboon, Bernoulli()))"
   ]
  },
  {
   "cell_type": "code",
   "execution_count": null,
   "metadata": {
    "collapsed": true
   },
   "outputs": [],
   "source": [
    "@time mm1a = fit!(glmm(acc ~ 1 + (1|subject) + dec_HOG_0 + (1|stimulus), baboon, Bernoulli()), fast = true)"
   ]
  },
  {
   "cell_type": "code",
   "execution_count": null,
   "metadata": {
    "collapsed": true
   },
   "outputs": [],
   "source": [
    "mm1a.LMM.optsum"
   ]
  },
  {
   "cell_type": "code",
   "execution_count": null,
   "metadata": {
    "collapsed": true
   },
   "outputs": [],
   "source": [
    "@time mm1 = fit!(glmm(acc ~ 1 + (1|subject) + dec_HOG_0 + (1|stimulus), baboon, Bernoulli()))"
   ]
  },
  {
   "cell_type": "code",
   "execution_count": null,
   "metadata": {
    "collapsed": true
   },
   "outputs": [],
   "source": [
    "mm1.LMM.optsum"
   ]
  },
  {
   "cell_type": "code",
   "execution_count": null,
   "metadata": {
    "collapsed": true
   },
   "outputs": [],
   "source": [
    "@time mm2 = fit!(glmm(acc ~ 1 + (1|subject) + dec_HOG_0 + (1|stimulus) + (1|first_tri) + (1|last_tri), baboon, Bernoulli()))"
   ]
  }
 ],
 "metadata": {
  "kernelspec": {
   "display_name": "Julia 0.5.0",
   "language": "julia",
   "name": "julia-0.5"
  },
  "language_info": {
   "file_extension": ".jl",
   "mimetype": "application/julia",
   "name": "julia",
   "version": "0.5.0"
  }
 },
 "nbformat": 4,
 "nbformat_minor": 2
}
