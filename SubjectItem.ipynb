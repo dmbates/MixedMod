{
 "cells": [
  {
   "cell_type": "code",
   "execution_count": 2,
   "metadata": {
    "collapsed": false
   },
   "outputs": [],
   "source": [
    "using DataFrames, Feather, MixedModels, RCall"
   ]
  },
  {
   "cell_type": "code",
   "execution_count": 3,
   "metadata": {
    "collapsed": false
   },
   "outputs": [
    {
     "data": {
      "text/html": [
       "<table class=\"data-frame\"><thead><tr><th></th><th>subj</th><th>item</th><th>RTtrunc</th><th>S</th><th>P</th><th>C</th><th>SP</th><th>SC</th><th>PC</th><th>SPC</th></tr></thead><tbody><tr><th>1</th><td>CategoricalArrays.CategoricalValue{String,UInt32} \"30\"</td><td>CategoricalArrays.CategoricalValue{String,UInt32} \"1\"</td><td>2267.0</td><td>1.0</td><td>-1.0</td><td>1.0</td><td>-1.0</td><td>1.0</td><td>-1.0</td><td>-1.0</td></tr><tr><th>2</th><td>CategoricalArrays.CategoricalValue{String,UInt32} \"30\"</td><td>CategoricalArrays.CategoricalValue{String,UInt32} \"2\"</td><td>3856.0</td><td>-1.0</td><td>1.0</td><td>-1.0</td><td>-1.0</td><td>1.0</td><td>-1.0</td><td>1.0</td></tr><tr><th>3</th><td>CategoricalArrays.CategoricalValue{String,UInt32} \"30\"</td><td>CategoricalArrays.CategoricalValue{String,UInt32} \"3\"</td><td>1567.0</td><td>-1.0</td><td>-1.0</td><td>-1.0</td><td>1.0</td><td>1.0</td><td>1.0</td><td>-1.0</td></tr><tr><th>4</th><td>CategoricalArrays.CategoricalValue{String,UInt32} \"30\"</td><td>CategoricalArrays.CategoricalValue{String,UInt32} \"4\"</td><td>1732.0</td><td>1.0</td><td>1.0</td><td>-1.0</td><td>1.0</td><td>-1.0</td><td>-1.0</td><td>-1.0</td></tr><tr><th>5</th><td>CategoricalArrays.CategoricalValue{String,UInt32} \"30\"</td><td>CategoricalArrays.CategoricalValue{String,UInt32} \"5\"</td><td>2660.0</td><td>1.0</td><td>-1.0</td><td>-1.0</td><td>-1.0</td><td>-1.0</td><td>1.0</td><td>1.0</td></tr><tr><th>6</th><td>CategoricalArrays.CategoricalValue{String,UInt32} \"30\"</td><td>CategoricalArrays.CategoricalValue{String,UInt32} \"6\"</td><td>2763.0</td><td>-1.0</td><td>1.0</td><td>1.0</td><td>-1.0</td><td>-1.0</td><td>1.0</td><td>-1.0</td></tr><tr><th>7</th><td>CategoricalArrays.CategoricalValue{String,UInt32} \"30\"</td><td>CategoricalArrays.CategoricalValue{String,UInt32} \"7\"</td><td>3528.0</td><td>-1.0</td><td>-1.0</td><td>1.0</td><td>1.0</td><td>-1.0</td><td>-1.0</td><td>1.0</td></tr><tr><th>8</th><td>CategoricalArrays.CategoricalValue{String,UInt32} \"30\"</td><td>CategoricalArrays.CategoricalValue{String,UInt32} \"8\"</td><td>1741.0</td><td>1.0</td><td>1.0</td><td>1.0</td><td>1.0</td><td>1.0</td><td>1.0</td><td>1.0</td></tr><tr><th>9</th><td>CategoricalArrays.CategoricalValue{String,UInt32} \"30\"</td><td>CategoricalArrays.CategoricalValue{String,UInt32} \"9\"</td><td>3692.0</td><td>1.0</td><td>-1.0</td><td>1.0</td><td>-1.0</td><td>1.0</td><td>-1.0</td><td>-1.0</td></tr><tr><th>10</th><td>CategoricalArrays.CategoricalValue{String,UInt32} \"30\"</td><td>CategoricalArrays.CategoricalValue{String,UInt32} \"10\"</td><td>1949.0</td><td>-1.0</td><td>1.0</td><td>-1.0</td><td>-1.0</td><td>1.0</td><td>-1.0</td><td>1.0</td></tr><tr><th>11</th><td>CategoricalArrays.CategoricalValue{String,UInt32} \"30\"</td><td>CategoricalArrays.CategoricalValue{String,UInt32} \"11\"</td><td>2189.0</td><td>-1.0</td><td>-1.0</td><td>-1.0</td><td>1.0</td><td>1.0</td><td>1.0</td><td>-1.0</td></tr><tr><th>12</th><td>CategoricalArrays.CategoricalValue{String,UInt32} \"30\"</td><td>CategoricalArrays.CategoricalValue{String,UInt32} \"12\"</td><td>2207.0</td><td>1.0</td><td>1.0</td><td>-1.0</td><td>1.0</td><td>-1.0</td><td>-1.0</td><td>-1.0</td></tr><tr><th>13</th><td>CategoricalArrays.CategoricalValue{String,UInt32} \"30\"</td><td>CategoricalArrays.CategoricalValue{String,UInt32} \"13\"</td><td>2078.0</td><td>1.0</td><td>-1.0</td><td>-1.0</td><td>-1.0</td><td>-1.0</td><td>1.0</td><td>1.0</td></tr><tr><th>14</th><td>CategoricalArrays.CategoricalValue{String,UInt32} \"30\"</td><td>CategoricalArrays.CategoricalValue{String,UInt32} \"14\"</td><td>1901.0</td><td>-1.0</td><td>1.0</td><td>1.0</td><td>-1.0</td><td>-1.0</td><td>1.0</td><td>-1.0</td></tr><tr><th>15</th><td>CategoricalArrays.CategoricalValue{String,UInt32} \"30\"</td><td>CategoricalArrays.CategoricalValue{String,UInt32} \"15\"</td><td>4015.0</td><td>-1.0</td><td>-1.0</td><td>1.0</td><td>1.0</td><td>-1.0</td><td>-1.0</td><td>1.0</td></tr><tr><th>16</th><td>CategoricalArrays.CategoricalValue{String,UInt32} \"30\"</td><td>CategoricalArrays.CategoricalValue{String,UInt32} \"16\"</td><td>1880.0</td><td>1.0</td><td>1.0</td><td>1.0</td><td>1.0</td><td>1.0</td><td>1.0</td><td>1.0</td></tr><tr><th>17</th><td>CategoricalArrays.CategoricalValue{String,UInt32} \"30\"</td><td>CategoricalArrays.CategoricalValue{String,UInt32} \"17\"</td><td>1444.0</td><td>1.0</td><td>-1.0</td><td>1.0</td><td>-1.0</td><td>1.0</td><td>-1.0</td><td>-1.0</td></tr><tr><th>18</th><td>CategoricalArrays.CategoricalValue{String,UInt32} \"30\"</td><td>CategoricalArrays.CategoricalValue{String,UInt32} \"18\"</td><td>1683.0</td><td>-1.0</td><td>1.0</td><td>-1.0</td><td>-1.0</td><td>1.0</td><td>-1.0</td><td>1.0</td></tr><tr><th>19</th><td>CategoricalArrays.CategoricalValue{String,UInt32} \"30\"</td><td>CategoricalArrays.CategoricalValue{String,UInt32} \"19\"</td><td>2037.0</td><td>-1.0</td><td>-1.0</td><td>-1.0</td><td>1.0</td><td>1.0</td><td>1.0</td><td>-1.0</td></tr><tr><th>20</th><td>CategoricalArrays.CategoricalValue{String,UInt32} \"30\"</td><td>CategoricalArrays.CategoricalValue{String,UInt32} \"20\"</td><td>1168.0</td><td>1.0</td><td>1.0</td><td>-1.0</td><td>1.0</td><td>-1.0</td><td>-1.0</td><td>-1.0</td></tr><tr><th>21</th><td>CategoricalArrays.CategoricalValue{String,UInt32} \"30\"</td><td>CategoricalArrays.CategoricalValue{String,UInt32} \"21\"</td><td>1930.0</td><td>1.0</td><td>-1.0</td><td>-1.0</td><td>-1.0</td><td>-1.0</td><td>1.0</td><td>1.0</td></tr><tr><th>22</th><td>CategoricalArrays.CategoricalValue{String,UInt32} \"30\"</td><td>CategoricalArrays.CategoricalValue{String,UInt32} \"22\"</td><td>1843.0</td><td>-1.0</td><td>1.0</td><td>1.0</td><td>-1.0</td><td>-1.0</td><td>1.0</td><td>-1.0</td></tr><tr><th>23</th><td>CategoricalArrays.CategoricalValue{String,UInt32} \"30\"</td><td>CategoricalArrays.CategoricalValue{String,UInt32} \"23\"</td><td>4969.0</td><td>-1.0</td><td>-1.0</td><td>1.0</td><td>1.0</td><td>-1.0</td><td>-1.0</td><td>1.0</td></tr><tr><th>24</th><td>CategoricalArrays.CategoricalValue{String,UInt32} \"30\"</td><td>CategoricalArrays.CategoricalValue{String,UInt32} \"24\"</td><td>1798.0</td><td>1.0</td><td>1.0</td><td>1.0</td><td>1.0</td><td>1.0</td><td>1.0</td><td>1.0</td></tr><tr><th>25</th><td>CategoricalArrays.CategoricalValue{String,UInt32} \"30\"</td><td>CategoricalArrays.CategoricalValue{String,UInt32} \"25\"</td><td>2436.0</td><td>1.0</td><td>-1.0</td><td>1.0</td><td>-1.0</td><td>1.0</td><td>-1.0</td><td>-1.0</td></tr><tr><th>26</th><td>CategoricalArrays.CategoricalValue{String,UInt32} \"30\"</td><td>CategoricalArrays.CategoricalValue{String,UInt32} \"26\"</td><td>2018.0</td><td>-1.0</td><td>1.0</td><td>-1.0</td><td>-1.0</td><td>1.0</td><td>-1.0</td><td>1.0</td></tr><tr><th>27</th><td>CategoricalArrays.CategoricalValue{String,UInt32} \"30\"</td><td>CategoricalArrays.CategoricalValue{String,UInt32} \"27\"</td><td>2278.0</td><td>-1.0</td><td>-1.0</td><td>-1.0</td><td>1.0</td><td>1.0</td><td>1.0</td><td>-1.0</td></tr><tr><th>28</th><td>CategoricalArrays.CategoricalValue{String,UInt32} \"30\"</td><td>CategoricalArrays.CategoricalValue{String,UInt32} \"28\"</td><td>1866.0</td><td>1.0</td><td>1.0</td><td>-1.0</td><td>1.0</td><td>-1.0</td><td>-1.0</td><td>-1.0</td></tr><tr><th>29</th><td>CategoricalArrays.CategoricalValue{String,UInt32} \"30\"</td><td>CategoricalArrays.CategoricalValue{String,UInt32} \"29\"</td><td>1743.0</td><td>1.0</td><td>-1.0</td><td>-1.0</td><td>-1.0</td><td>-1.0</td><td>1.0</td><td>1.0</td></tr><tr><th>30</th><td>CategoricalArrays.CategoricalValue{String,UInt32} \"30\"</td><td>CategoricalArrays.CategoricalValue{String,UInt32} \"30\"</td><td>1963.0</td><td>-1.0</td><td>1.0</td><td>1.0</td><td>-1.0</td><td>-1.0</td><td>1.0</td><td>-1.0</td></tr><tr><th>&vellip;</th><td>&vellip;</td><td>&vellip;</td><td>&vellip;</td><td>&vellip;</td><td>&vellip;</td><td>&vellip;</td><td>&vellip;</td><td>&vellip;</td><td>&vellip;</td><td>&vellip;</td></tr></tbody></table>"
      ],
      "text/plain": [
       "1790×10 DataFrames.DataFrame\n",
       "│ Row  │ subj  │ item │ RTtrunc │ S    │ P    │ C    │ SP   │ SC   │ PC   │\n",
       "├──────┼───────┼──────┼─────────┼──────┼──────┼──────┼──────┼──────┼──────┤\n",
       "│ 1    │ \"30\"  │ \"1\"  │ 2267.0  │ 1.0  │ -1.0 │ 1.0  │ -1.0 │ 1.0  │ -1.0 │\n",
       "│ 2    │ \"30\"  │ \"2\"  │ 3856.0  │ -1.0 │ 1.0  │ -1.0 │ -1.0 │ 1.0  │ -1.0 │\n",
       "│ 3    │ \"30\"  │ \"3\"  │ 1567.0  │ -1.0 │ -1.0 │ -1.0 │ 1.0  │ 1.0  │ 1.0  │\n",
       "│ 4    │ \"30\"  │ \"4\"  │ 1732.0  │ 1.0  │ 1.0  │ -1.0 │ 1.0  │ -1.0 │ -1.0 │\n",
       "│ 5    │ \"30\"  │ \"5\"  │ 2660.0  │ 1.0  │ -1.0 │ -1.0 │ -1.0 │ -1.0 │ 1.0  │\n",
       "│ 6    │ \"30\"  │ \"6\"  │ 2763.0  │ -1.0 │ 1.0  │ 1.0  │ -1.0 │ -1.0 │ 1.0  │\n",
       "│ 7    │ \"30\"  │ \"7\"  │ 3528.0  │ -1.0 │ -1.0 │ 1.0  │ 1.0  │ -1.0 │ -1.0 │\n",
       "│ 8    │ \"30\"  │ \"8\"  │ 1741.0  │ 1.0  │ 1.0  │ 1.0  │ 1.0  │ 1.0  │ 1.0  │\n",
       "│ 9    │ \"30\"  │ \"9\"  │ 3692.0  │ 1.0  │ -1.0 │ 1.0  │ -1.0 │ 1.0  │ -1.0 │\n",
       "│ 10   │ \"30\"  │ \"10\" │ 1949.0  │ -1.0 │ 1.0  │ -1.0 │ -1.0 │ 1.0  │ -1.0 │\n",
       "│ 11   │ \"30\"  │ \"11\" │ 2189.0  │ -1.0 │ -1.0 │ -1.0 │ 1.0  │ 1.0  │ 1.0  │\n",
       "⋮\n",
       "│ 1779 │ \"103\" │ \"21\" │ 1309.0  │ 1.0  │ 1.0  │ -1.0 │ 1.0  │ -1.0 │ -1.0 │\n",
       "│ 1780 │ \"103\" │ \"22\" │ 1623.0  │ 1.0  │ -1.0 │ -1.0 │ -1.0 │ -1.0 │ 1.0  │\n",
       "│ 1781 │ \"103\" │ \"23\" │ 2706.0  │ -1.0 │ 1.0  │ 1.0  │ -1.0 │ -1.0 │ 1.0  │\n",
       "│ 1782 │ \"103\" │ \"24\" │ 4281.0  │ -1.0 │ -1.0 │ 1.0  │ 1.0  │ -1.0 │ -1.0 │\n",
       "│ 1783 │ \"103\" │ \"25\" │ 2075.0  │ 1.0  │ 1.0  │ 1.0  │ 1.0  │ 1.0  │ 1.0  │\n",
       "│ 1784 │ \"103\" │ \"26\" │ 3179.0  │ 1.0  │ -1.0 │ 1.0  │ -1.0 │ 1.0  │ -1.0 │\n",
       "│ 1785 │ \"103\" │ \"27\" │ 1216.0  │ -1.0 │ 1.0  │ -1.0 │ -1.0 │ 1.0  │ -1.0 │\n",
       "│ 1786 │ \"103\" │ \"28\" │ 2286.0  │ -1.0 │ -1.0 │ -1.0 │ 1.0  │ 1.0  │ 1.0  │\n",
       "│ 1787 │ \"103\" │ \"29\" │ 1202.0  │ 1.0  │ 1.0  │ -1.0 │ 1.0  │ -1.0 │ -1.0 │\n",
       "│ 1788 │ \"103\" │ \"30\" │ 1581.0  │ 1.0  │ -1.0 │ -1.0 │ -1.0 │ -1.0 │ 1.0  │\n",
       "│ 1789 │ \"103\" │ \"31\" │ 1601.0  │ -1.0 │ 1.0  │ 1.0  │ -1.0 │ -1.0 │ 1.0  │\n",
       "│ 1790 │ \"103\" │ \"32\" │ 1941.0  │ -1.0 │ -1.0 │ 1.0  │ 1.0  │ -1.0 │ -1.0 │\n",
       "\n",
       "│ Row  │ SPC  │\n",
       "├──────┼──────┤\n",
       "│ 1    │ -1.0 │\n",
       "│ 2    │ 1.0  │\n",
       "│ 3    │ -1.0 │\n",
       "│ 4    │ -1.0 │\n",
       "│ 5    │ 1.0  │\n",
       "│ 6    │ -1.0 │\n",
       "│ 7    │ 1.0  │\n",
       "│ 8    │ 1.0  │\n",
       "│ 9    │ -1.0 │\n",
       "│ 10   │ 1.0  │\n",
       "│ 11   │ -1.0 │\n",
       "⋮\n",
       "│ 1779 │ -1.0 │\n",
       "│ 1780 │ 1.0  │\n",
       "│ 1781 │ -1.0 │\n",
       "│ 1782 │ 1.0  │\n",
       "│ 1783 │ 1.0  │\n",
       "│ 1784 │ -1.0 │\n",
       "│ 1785 │ 1.0  │\n",
       "│ 1786 │ -1.0 │\n",
       "│ 1787 │ -1.0 │\n",
       "│ 1788 │ 1.0  │\n",
       "│ 1789 │ -1.0 │\n",
       "│ 1790 │ 1.0  │"
      ]
     },
     "execution_count": 3,
     "metadata": {},
     "output_type": "execute_result"
    }
   ],
   "source": [
    "R\"\"\"\n",
    "load(\"kb07.rda\")\n",
    "\"\"\"\n",
    "@rget kb07"
   ]
  },
  {
   "cell_type": "code",
   "execution_count": 4,
   "metadata": {
    "collapsed": false
   },
   "outputs": [
    {
     "name": "stdout",
     "output_type": "stream",
     "text": [
      " 47.887393 seconds (12.31 M allocations: 469.532 MB, 0.71% gc time)\n"
     ]
    },
    {
     "data": {
      "text/plain": [
       "Linear mixed model fit by maximum likelihood\n",
       " Formula: RTtrunc ~ 1 + P + S + C + SP + SC + PC + SPC + ((1 + S + P + C + SP + SC + PC + SPC) | subj) + ((1 + S + P + C + SP + SC + PC + SPC) | item)\n",
       "  logLik    -2 logLik     AIC        BIC    \n",
       "-1.42931589×10⁴2.85863178×10⁴2.87483178×10⁴2.91930054×10⁴\n",
       "\n",
       "Variance components:\n",
       "              Column     Variance   Std.Dev.    Corr.\n",
       " subj     (Intercept)   90763.9565 301.270570\n",
       "          S              5182.0798  71.986664 -0.43\n",
       "          P              5545.4108  74.467515 -0.47  0.07\n",
       "          C              7587.8585  87.108315  0.21 -0.20  0.41\n",
       "          SP             8833.1173  93.984665  0.20 -0.76 -0.54 -0.20\n",
       "          SC             1820.3019  42.664996  0.47 -0.53 -0.11 -0.44  0.28\n",
       "          PC             7423.6991  86.160891 -0.10  0.13 -0.05 -0.86 -0.06  0.70\n",
       "          SPC            3800.6727  61.649596 -0.48  0.41 -0.39 -0.09  0.18 -0.78 -0.39\n",
       " item     S            129891.5088 360.404646\n",
       "          S              1855.6360  43.077094 -0.34\n",
       "          P             62410.2607 249.820457 -0.68 -0.45\n",
       "          C              2946.3911  54.280670  0.20 -0.03 -0.18\n",
       "          SP             1043.5221  32.303592  0.57 -0.76  0.02  0.02\n",
       "          SC             1620.9596  40.261143  0.28 -0.03 -0.27  0.44 -0.21\n",
       "          PC             4702.6601  68.575944  0.08 -0.23  0.21 -0.13 -0.26  0.02\n",
       "          SPC            4823.1367  69.448806  0.04 -0.47  0.32 -0.69  0.65 -0.68 -0.10\n",
       " Residual P            399603.0526 632.141640\n",
       " Number of obs: 1790; levels of grouping factors: 56, 32\n",
       "\n",
       "  Fixed-effects parameters:\n",
       "             Estimate Std.Error  z value P(>|z|)\n",
       "(Intercept)   2180.63   76.8321  28.3817  <1e-99\n",
       "P            -333.881    47.672 -7.00372  <1e-11\n",
       "S            -66.9898   19.3339 -3.46489  0.0005\n",
       "C             78.9869   21.2331  3.71998  0.0002\n",
       "SP            22.1516   20.3376   1.0892  0.2761\n",
       "SC           -18.9245   17.5053 -1.08107  0.2797\n",
       "PC            5.26205   22.4232  0.23467  0.8145\n",
       "SPC          -23.9509   21.0206  -1.1394  0.2545\n"
      ]
     },
     "execution_count": 4,
     "metadata": {},
     "output_type": "execute_result"
    },
    {
     "name": "stdout",
     "output_type": "stream",
     "text": [
      "  "
     ]
    }
   ],
   "source": [
    "@time mm1 = fit!(lmm(RTtrunc ~ 1+P+S+C+SP+SC+PC+SPC+\n",
    "        (1+S+P+C+SP+SC+PC+SPC|subj)+\n",
    "        (1+S+P+C+SP+SC+PC+SPC|item), kb07))"
   ]
  },
  {
   "cell_type": "code",
   "execution_count": 5,
   "metadata": {
    "collapsed": false
   },
   "outputs": [
    {
     "data": {
      "text/plain": [
       "Initial parameter vector: [1.0,0.0,0.0,0.0,0.0,0.0,0.0,0.0,1.0,0.0  …  1.0,0.0,0.0,0.0,1.0,0.0,0.0,1.0,0.0,1.0]\n",
       "Initial objective value:  30014.369768606266\n",
       "\n",
       "Optimizer (from NLopt):   LN_BOBYQA\n",
       "Lower bounds:             [0.0,-Inf,-Inf,-Inf,-Inf,-Inf,-Inf,-Inf,0.0,-Inf  …  0.0,-Inf,-Inf,-Inf,0.0,-Inf,-Inf,0.0,-Inf,0.0]\n",
       "ftol_rel:                 1.0e-12\n",
       "ftol_abs:                 1.0e-8\n",
       "xtol_rel:                 0.0\n",
       "xtol_abs:                 [1.0e-10,1.0e-10,1.0e-10,1.0e-10,1.0e-10,1.0e-10,1.0e-10,1.0e-10,1.0e-10,1.0e-10  …  1.0e-10,1.0e-10,1.0e-10,1.0e-10,1.0e-10,1.0e-10,1.0e-10,1.0e-10,1.0e-10,1.0e-10]\n",
       "\n",
       "Function evaluations:     3004\n",
       "Final parameter vector:   [0.476587,-0.0494588,-0.0557771,0.0295059,0.0291185,0.0319441,-0.0139247,-0.0463832,0.102576,-0.0171056  …  0.0217563,-0.0540848,-0.0314254,0.0548198,0.00332154,-0.00322669,-0.00114002,0.0,2.45394e-5,0.0]\n",
       "Final objective value:    28586.31778461955\n",
       "Return code:              FTOL_REACHED\n"
      ]
     },
     "execution_count": 5,
     "metadata": {},
     "output_type": "execute_result"
    }
   ],
   "source": [
    "mm1.optsum"
   ]
  },
  {
   "cell_type": "code",
   "execution_count": 6,
   "metadata": {
    "collapsed": false
   },
   "outputs": [
    {
     "data": {
      "text/plain": [
       "8×8 LowerTriangular{Float64,Array{Float64,2}}:\n",
       "  0.476587     ⋅           ⋅         …    ⋅            ⋅           ⋅ \n",
       " -0.0494588   0.102576     ⋅              ⋅            ⋅           ⋅ \n",
       " -0.0557771  -0.0171056   0.102341        ⋅            ⋅           ⋅ \n",
       "  0.0295059  -0.0166174   0.0779474       ⋅            ⋅           ⋅ \n",
       "  0.0291185  -0.110961   -0.0944238       ⋅            ⋅           ⋅ \n",
       "  0.0319441  -0.0243193   0.0051321  …   0.0           ⋅           ⋅ \n",
       " -0.0139247   0.0126819  -0.013294      -4.80495e-5   0.0          ⋅ \n",
       " -0.0463832   0.0217468  -0.0650993      6.08936e-5  -1.02556e-5  0.0"
      ]
     },
     "execution_count": 6,
     "metadata": {},
     "output_type": "execute_result"
    }
   ],
   "source": [
    "mm1.Λ[1]"
   ]
  },
  {
   "cell_type": "code",
   "execution_count": 7,
   "metadata": {
    "collapsed": false
   },
   "outputs": [
    {
     "data": {
      "text/plain": [
       "8×8 LowerTriangular{Float64,Array{Float64,2}}:\n",
       "  0.570133      ⋅            ⋅          …    ⋅           ⋅           ⋅ \n",
       " -0.0234022    0.0640003     ⋅               ⋅           ⋅           ⋅ \n",
       " -0.267115    -0.288091     0.0428247        ⋅           ⋅           ⋅ \n",
       "  0.0173654    0.00315179  -0.0149244        ⋅           ⋅           ⋅ \n",
       "  0.0290604   -0.0308161   -0.0170848        ⋅           ⋅           ⋅ \n",
       "  0.0178631    0.00466057  -0.0166032   …   0.00332154   ⋅           ⋅ \n",
       "  0.00848668  -0.0238131    0.100625       -0.00322669  0.0          ⋅ \n",
       "  0.00486306  -0.0536795   -0.00612213     -0.00114002  2.45394e-5  0.0"
      ]
     },
     "execution_count": 7,
     "metadata": {},
     "output_type": "execute_result"
    }
   ],
   "source": [
    "mm1.Λ[2]"
   ]
  },
  {
   "cell_type": "code",
   "execution_count": 9,
   "metadata": {
    "collapsed": false
   },
   "outputs": [
    {
     "name": "stdout",
     "output_type": "stream",
     "text": [
      "'data.frame':\t316871 obs. of  44 variables:\n",
      " $ ID           : int  1 2 3 4 5 6 7 8 9 10 ...\n",
      " $ trial        : int  1 2 3 4 5 6 7 8 9 10 ...\n",
      " $ subject      : Factor w/ 6 levels \"ARI\",\"ART\",\"CAU\",..: 4 4 4 4 4 4 4 4 4 4 ...\n",
      " $ stimulus     : Factor w/ 8139 levels \"ABBS\",\"ABBT\",..: 6929 1613 7705 7220 339 339 7244 6929 5483 92 ...\n",
      " $ lex          : Factor w/ 2 levels \"NW\",\"W\": 2 1 2 1 2 2 1 2 1 1 ...\n",
      " $ acc          : int  0 1 0 1 0 0 1 0 1 1 ...\n",
      " $ Response     : Factor w/ 2 levels \"NW\",\"W\": 1 1 1 1 1 1 1 1 1 1 ...\n",
      " $ Outcomes     : Factor w/ 2 levels \"NW\",\"W\": 2 1 2 1 2 2 1 2 1 1 ...\n",
      " $ Block        : num  1 1 1 1 1 1 1 1 1 1 ...\n",
      " $ dec.HOG      : Factor w/ 2 levels \"NW\",\"W\": 2 1 1 1 1 2 2 1 1 2 ...\n",
      " $ dec.HOG.0    : logi  FALSE TRUE FALSE TRUE FALSE TRUE ...\n",
      " $ actN         : num  0 0 0.279 0.147 0.308 ...\n",
      " $ actW         : num  0 0.144 0.112 0.278 0.266 ...\n",
      " $ priorN       : num  0 0 0.59 0.596 1.094 ...\n",
      " $ priorW       : num  0 0.507 0.544 0.979 1.025 ...\n",
      " $ first        : logi  TRUE TRUE TRUE TRUE TRUE FALSE ...\n",
      " $ agr          : num  0 1 1 1 1 0 0 1 1 0 ...\n",
      " $ acc.model    : num  1 1 0 1 0 1 0 0 1 0 ...\n",
      " $ diff         : num  0 -0.1438 -0.1666 -0.1312 -0.0422 ...\n",
      " $ diff.abs     : num  0 0.1438 0.1666 0.1312 0.0422 ...\n",
      " $ id           : Factor w/ 308 levels \"ACME\",\"AHEM\",..: 266 172 279 172 9 9 172 266 172 172 ...\n",
      " $ first.app    : Factor w/ 52 levels \"1\",\"3\",\"4\",\"5\",..: 1 NA 1 NA 1 1 NA 1 NA NA ...\n",
      " $ dist         : Factor w/ 62 levels \"0\",\"1\",\"2\",\"3\",..: 1 NA 1 NA 1 1 NA 1 NA NA ...\n",
      " $ first.app.num: num  1 1 1 1 1 1 1 1 1 1 ...\n",
      " $ first.trial  : num  1 1 1 1 1 1 1 1 1 1 ...\n",
      " $ priorsWDS    : num  0 0 0 0 0 ...\n",
      " $ actsWDS      : num  0 0 0 0 0 ...\n",
      " $ dec.FINAL    : Factor w/ 2 levels \"NW\",\"W\": 1 1 1 1 1 1 2 1 1 2 ...\n",
      " $ unique       : num  0 0 2 2 3 3 3 3 3 3 ...\n",
      " $ old20        : num  0 0 NA NA NA NA NA NA NA NA ...\n",
      " $ Correct      : logi  FALSE TRUE FALSE TRUE FALSE FALSE ...\n",
      " $ acc.f        : logi  FALSE TRUE FALSE TRUE FALSE FALSE ...\n",
      " $ first.tri    : Factor w/ 1991 levels \"ABB\",\"ABL\",\"ACH\",..: 1693 390 1873 1747 69 69 1750 1693 1354 16 ...\n",
      " $ last.tri     : Factor w/ 1539 levels \"ABS\",\"ABT\",\"ACE\",..: 942 310 270 597 40 40 633 942 1232 365 ...\n",
      " $ first.bi     : Factor w/ 184 levels \"AB\",\"AC\",\"AD\",..: 159 44 175 165 17 17 165 159 132 6 ...\n",
      " $ mid.bi       : Factor w/ 205 levels \"AB\",\"AC\",\"AD\",..: 136 56 48 94 11 11 97 136 167 63 ...\n",
      " $ last.bi      : Factor w/ 209 levels \"AB\",\"AD\",\"AF\",..: 152 178 116 86 118 118 125 152 67 107 ...\n",
      " $ id.f         : Factor w/ 308 levels \"ACME\",\"AHEM\",..: 266 172 279 172 9 9 172 266 172 172 ...\n",
      " $ dec.GAM      : logi  NA NA NA NA NA NA ...\n",
      " $ GAM          : num  0.206 0.139 0.115 0.139 0.113 ...\n",
      " $ acc.gam      : num  1 1 0 0 0 0 1 1 1 1 ...\n",
      " $ GAM2         : num  0.2599 0.1071 0.0872 0.1071 0.087 ...\n",
      " $ dec.GAM2     : Factor w/ 2 levels \"NW\",\"W\": 1 1 1 1 1 1 2 1 1 1 ...\n",
      " $ acc.gam2     : num  0 1 0 1 0 0 0 0 1 1 ...\n"
     ]
    },
    {
     "data": {
      "text/plain": [
       "RCall.RObject{RCall.NilSxp}\n",
       "NULL\n"
      ]
     },
     "execution_count": 9,
     "metadata": {},
     "output_type": "execute_result"
    }
   ],
   "source": [
    "R\"\"\"\n",
    "baboon <- within(readRDS(\"finaldat.tbt.rds\"), {\n",
    "    stimulus <- factor(stimulus)\n",
    "    lex <- factor(lex)\n",
    "    Outcomes <- factor(Outcomes)\n",
    "    id <- factor(id)\n",
    "    dec.FINAL <- factor(dec.FINAL)\n",
    "    dec.GAM2 <- factor(dec.GAM2)\n",
    "})\n",
    "str(baboon)\n",
    "\"\"\""
   ]
  },
  {
   "cell_type": "code",
   "execution_count": 10,
   "metadata": {
    "collapsed": false
   },
   "outputs": [
    {
     "data": {
      "text/html": [
       "<table class=\"data-frame\"><thead><tr><th></th><th>ID</th><th>trial</th><th>subject</th><th>stimulus</th><th>lex</th><th>acc</th><th>Response</th><th>Outcomes</th><th>Block</th><th>dec.HOG</th><th>dec.HOG.0</th><th>actN</th><th>actW</th><th>priorN</th><th>priorW</th><th>first</th><th>agr</th><th>acc.model</th><th>diff</th><th>diff.abs</th><th>id</th><th>first.app</th><th>dist</th><th>first.app.num</th><th>first.trial</th><th>priorsWDS</th><th>actsWDS</th><th>dec.FINAL</th><th>unique</th><th>old20</th><th>Correct</th><th>acc.f</th><th>first.tri</th><th>last.tri</th><th>first.bi</th><th>mid.bi</th><th>last.bi</th><th>id.f</th><th>dec.GAM</th><th>GAM</th><th>acc.gam</th><th>GAM2</th><th>dec.GAM2</th><th>acc.gam2</th></tr></thead><tbody><tr><th>1</th><td>1</td><td>1</td><td>CategoricalArrays.CategoricalValue{String,UInt32} \"DAN\"</td><td>CategoricalArrays.CategoricalValue{String,UInt32} \"TORE\"</td><td>CategoricalArrays.CategoricalValue{String,UInt32} \"W\"</td><td>0</td><td>CategoricalArrays.CategoricalValue{String,UInt32} \"NW\"</td><td>CategoricalArrays.CategoricalValue{String,UInt32} \"W\"</td><td>1.0</td><td>CategoricalArrays.CategoricalValue{String,UInt32} \"W\"</td><td>false</td><td>0.0</td><td>0.0</td><td>0.0</td><td>0.0</td><td>true</td><td>0.0</td><td>1.0</td><td>0.0</td><td>0.0</td><td>CategoricalArrays.CategoricalValue{String,UInt32} \"TORE\"</td><td>Nullable{CategoricalArrays.CategoricalValue{String,UInt32}}(\"1\")</td><td>Nullable{CategoricalArrays.CategoricalValue{String,UInt32}}(\"0\")</td><td>Nullable{Float64}(1.0)</td><td>1.0</td><td>0.0</td><td>0.0</td><td>CategoricalArrays.CategoricalValue{String,UInt32} \"NW\"</td><td>0.0</td><td>Nullable{Float64}(0.0)</td><td>false</td><td>false</td><td>CategoricalArrays.CategoricalValue{String,UInt32} \"TOR\"</td><td>CategoricalArrays.CategoricalValue{String,UInt32} \"ORE\"</td><td>CategoricalArrays.CategoricalValue{String,UInt32} \"TO\"</td><td>CategoricalArrays.CategoricalValue{String,UInt32} \"OR\"</td><td>CategoricalArrays.CategoricalValue{String,UInt32} \"RE\"</td><td>CategoricalArrays.CategoricalValue{String,UInt32} \"TORE\"</td><td>Nullable{Bool}()</td><td>0.2062368170069923</td><td>1.0</td><td>0.25987500414963216</td><td>CategoricalArrays.CategoricalValue{String,UInt32} \"NW\"</td><td>0.0</td></tr><tr><th>2</th><td>2</td><td>2</td><td>CategoricalArrays.CategoricalValue{String,UInt32} \"DAN\"</td><td>CategoricalArrays.CategoricalValue{String,UInt32} \"EFTD\"</td><td>CategoricalArrays.CategoricalValue{String,UInt32} \"NW\"</td><td>1</td><td>CategoricalArrays.CategoricalValue{String,UInt32} \"NW\"</td><td>CategoricalArrays.CategoricalValue{String,UInt32} \"NW\"</td><td>1.0</td><td>CategoricalArrays.CategoricalValue{String,UInt32} \"NW\"</td><td>true</td><td>0.0</td><td>0.1437792</td><td>0.0</td><td>0.507456</td><td>true</td><td>1.0</td><td>1.0</td><td>-0.1437792</td><td>0.1437792</td><td>CategoricalArrays.CategoricalValue{String,UInt32} \"NW\"</td><td>Nullable{CategoricalArrays.CategoricalValue{String,UInt32}}()</td><td>Nullable{CategoricalArrays.CategoricalValue{String,UInt32}}()</td><td>Nullable{Float64}(1.0)</td><td>1.0</td><td>0.0</td><td>0.0</td><td>CategoricalArrays.CategoricalValue{String,UInt32} \"NW\"</td><td>0.0</td><td>Nullable{Float64}(0.0)</td><td>true</td><td>true</td><td>CategoricalArrays.CategoricalValue{String,UInt32} \"EFT\"</td><td>CategoricalArrays.CategoricalValue{String,UInt32} \"FTD\"</td><td>CategoricalArrays.CategoricalValue{String,UInt32} \"EF\"</td><td>CategoricalArrays.CategoricalValue{String,UInt32} \"FT\"</td><td>CategoricalArrays.CategoricalValue{String,UInt32} \"TD\"</td><td>CategoricalArrays.CategoricalValue{String,UInt32} \"NW\"</td><td>Nullable{Bool}()</td><td>0.13887392574438628</td><td>1.0</td><td>0.10708209244674337</td><td>CategoricalArrays.CategoricalValue{String,UInt32} \"NW\"</td><td>1.0</td></tr><tr><th>3</th><td>3</td><td>3</td><td>CategoricalArrays.CategoricalValue{String,UInt32} \"DAN\"</td><td>CategoricalArrays.CategoricalValue{String,UInt32} \"WEND\"</td><td>CategoricalArrays.CategoricalValue{String,UInt32} \"W\"</td><td>0</td><td>CategoricalArrays.CategoricalValue{String,UInt32} \"NW\"</td><td>CategoricalArrays.CategoricalValue{String,UInt32} \"W\"</td><td>1.0</td><td>CategoricalArrays.CategoricalValue{String,UInt32} \"NW\"</td><td>false</td><td>0.2788</td><td>0.11215115904</td><td>0.5904</td><td>0.5442404705280001</td><td>true</td><td>1.0</td><td>0.0</td><td>-0.16664884096</td><td>0.16664884096</td><td>CategoricalArrays.CategoricalValue{String,UInt32} \"WEND\"</td><td>Nullable{CategoricalArrays.CategoricalValue{String,UInt32}}(\"1\")</td><td>Nullable{CategoricalArrays.CategoricalValue{String,UInt32}}(\"0\")</td><td>Nullable{Float64}(1.0)</td><td>1.0</td><td>0.0</td><td>0.0</td><td>CategoricalArrays.CategoricalValue{String,UInt32} \"NW\"</td><td>2.0</td><td>Nullable{Float64}()</td><td>false</td><td>false</td><td>CategoricalArrays.CategoricalValue{String,UInt32} \"WEN\"</td><td>CategoricalArrays.CategoricalValue{String,UInt32} \"END\"</td><td>CategoricalArrays.CategoricalValue{String,UInt32} \"WE\"</td><td>CategoricalArrays.CategoricalValue{String,UInt32} \"EN\"</td><td>CategoricalArrays.CategoricalValue{String,UInt32} \"ND\"</td><td>CategoricalArrays.CategoricalValue{String,UInt32} \"WEND\"</td><td>Nullable{Bool}()</td><td>0.11514119807185226</td><td>0.0</td><td>0.08722512223687921</td><td>CategoricalArrays.CategoricalValue{String,UInt32} \"NW\"</td><td>0.0</td></tr><tr><th>4</th><td>4</td><td>4</td><td>CategoricalArrays.CategoricalValue{String,UInt32} \"DAN\"</td><td>CategoricalArrays.CategoricalValue{String,UInt32} \"ULKH\"</td><td>CategoricalArrays.CategoricalValue{String,UInt32} \"NW\"</td><td>1</td><td>CategoricalArrays.CategoricalValue{String,UInt32} \"NW\"</td><td>CategoricalArrays.CategoricalValue{String,UInt32} \"NW\"</td><td>1.0</td><td>CategoricalArrays.CategoricalValue{String,UInt32} \"NW\"</td><td>true</td><td>0.1467308</td><td>0.2779147168</td><td>0.595976</td><td>0.978676162816</td><td>true</td><td>1.0</td><td>1.0</td><td>-0.13118391680000002</td><td>0.13118391680000002</td><td>CategoricalArrays.CategoricalValue{String,UInt32} \"NW\"</td><td>Nullable{CategoricalArrays.CategoricalValue{String,UInt32}}()</td><td>Nullable{CategoricalArrays.CategoricalValue{String,UInt32}}()</td><td>Nullable{Float64}(1.0)</td><td>1.0</td><td>0.0</td><td>0.0</td><td>CategoricalArrays.CategoricalValue{String,UInt32} \"NW\"</td><td>2.0</td><td>Nullable{Float64}()</td><td>true</td><td>true</td><td>CategoricalArrays.CategoricalValue{String,UInt32} \"ULK\"</td><td>CategoricalArrays.CategoricalValue{String,UInt32} \"LKH\"</td><td>CategoricalArrays.CategoricalValue{String,UInt32} \"UL\"</td><td>CategoricalArrays.CategoricalValue{String,UInt32} \"LK\"</td><td>CategoricalArrays.CategoricalValue{String,UInt32} \"KH\"</td><td>CategoricalArrays.CategoricalValue{String,UInt32} \"NW\"</td><td>Nullable{Bool}()</td><td>0.13887392574438628</td><td>0.0</td><td>0.10708209244674337</td><td>CategoricalArrays.CategoricalValue{String,UInt32} \"NW\"</td><td>1.0</td></tr><tr><th>5</th><td>5</td><td>5</td><td>CategoricalArrays.CategoricalValue{String,UInt32} \"DAN\"</td><td>CategoricalArrays.CategoricalValue{String,UInt32} \"BANG\"</td><td>CategoricalArrays.CategoricalValue{String,UInt32} \"W\"</td><td>0</td><td>CategoricalArrays.CategoricalValue{String,UInt32} \"NW\"</td><td>CategoricalArrays.CategoricalValue{String,UInt32} \"W\"</td><td>1.0</td><td>CategoricalArrays.CategoricalValue{String,UInt32} \"NW\"</td><td>false</td><td>0.308002402192</td><td>0.265771442216832</td><td>1.09361253568</td><td>1.025165736642304</td><td>true</td><td>1.0</td><td>0.0</td><td>-0.04223095997516796</td><td>0.04223095997516796</td><td>CategoricalArrays.CategoricalValue{String,UInt32} \"BANG\"</td><td>Nullable{CategoricalArrays.CategoricalValue{String,UInt32}}(\"1\")</td><td>Nullable{CategoricalArrays.CategoricalValue{String,UInt32}}(\"0\")</td><td>Nullable{Float64}(1.0)</td><td>1.0</td><td>0.0</td><td>0.0</td><td>CategoricalArrays.CategoricalValue{String,UInt32} \"NW\"</td><td>3.0</td><td>Nullable{Float64}()</td><td>false</td><td>false</td><td>CategoricalArrays.CategoricalValue{String,UInt32} \"BAN\"</td><td>CategoricalArrays.CategoricalValue{String,UInt32} \"ANG\"</td><td>CategoricalArrays.CategoricalValue{String,UInt32} \"BA\"</td><td>CategoricalArrays.CategoricalValue{String,UInt32} \"AN\"</td><td>CategoricalArrays.CategoricalValue{String,UInt32} \"NG\"</td><td>CategoricalArrays.CategoricalValue{String,UInt32} \"BANG\"</td><td>Nullable{Bool}()</td><td>0.1129526080898336</td><td>0.0</td><td>0.08697661530559922</td><td>CategoricalArrays.CategoricalValue{String,UInt32} \"NW\"</td><td>0.0</td></tr><tr><th>6</th><td>6</td><td>6</td><td>CategoricalArrays.CategoricalValue{String,UInt32} \"DAN\"</td><td>CategoricalArrays.CategoricalValue{String,UInt32} \"BANG\"</td><td>CategoricalArrays.CategoricalValue{String,UInt32} \"W\"</td><td>0</td><td>CategoricalArrays.CategoricalValue{String,UInt32} \"NW\"</td><td>CategoricalArrays.CategoricalValue{String,UInt32} \"W\"</td><td>1.0</td><td>CategoricalArrays.CategoricalValue{String,UInt32} \"W\"</td><td>true</td><td>0.19712153740287996</td><td>0.5881969817202196</td><td>1.125028780703584</td><td>1.3337280843937558</td><td>false</td><td>0.0</td><td>1.0</td><td>0.39107544431733965</td><td>0.39107544431733965</td><td>CategoricalArrays.CategoricalValue{String,UInt32} \"BANG\"</td><td>Nullable{CategoricalArrays.CategoricalValue{String,UInt32}}(\"1\")</td><td>Nullable{CategoricalArrays.CategoricalValue{String,UInt32}}(\"0\")</td><td>Nullable{Float64}(1.0)</td><td>1.0</td><td>0.36</td><td>0.36</td><td>CategoricalArrays.CategoricalValue{String,UInt32} \"NW\"</td><td>3.0</td><td>Nullable{Float64}()</td><td>false</td><td>false</td><td>CategoricalArrays.CategoricalValue{String,UInt32} \"BAN\"</td><td>CategoricalArrays.CategoricalValue{String,UInt32} \"ANG\"</td><td>CategoricalArrays.CategoricalValue{String,UInt32} \"BA\"</td><td>CategoricalArrays.CategoricalValue{String,UInt32} \"AN\"</td><td>CategoricalArrays.CategoricalValue{String,UInt32} \"NG\"</td><td>CategoricalArrays.CategoricalValue{String,UInt32} \"BANG\"</td><td>Nullable{Bool}()</td><td>0.1129526080898336</td><td>0.0</td><td>0.1464283253460917</td><td>CategoricalArrays.CategoricalValue{String,UInt32} \"NW\"</td><td>0.0</td></tr><tr><th>7</th><td>7</td><td>7</td><td>CategoricalArrays.CategoricalValue{String,UInt32} \"DAN\"</td><td>CategoricalArrays.CategoricalValue{String,UInt32} \"ULNX\"</td><td>CategoricalArrays.CategoricalValue{String,UInt32} \"NW\"</td><td>1</td><td>CategoricalArrays.CategoricalValue{String,UInt32} \"NW\"</td><td>CategoricalArrays.CategoricalValue{String,UInt32} \"NW\"</td><td>1.0</td><td>CategoricalArrays.CategoricalValue{String,UInt32} \"W\"</td><td>false</td><td>0.4188819050301837</td><td>0.3411822416038525</td><td>1.1451351775186778</td><td>1.3046613309744766</td><td>true</td><td>0.0</td><td>0.0</td><td>0.07769966342633117</td><td>0.07769966342633117</td><td>CategoricalArrays.CategoricalValue{String,UInt32} \"NW\"</td><td>Nullable{CategoricalArrays.CategoricalValue{String,UInt32}}()</td><td>Nullable{CategoricalArrays.CategoricalValue{String,UInt32}}()</td><td>Nullable{Float64}(1.0)</td><td>1.0</td><td>0.0</td><td>0.0</td><td>CategoricalArrays.CategoricalValue{String,UInt32} \"W\"</td><td>3.0</td><td>Nullable{Float64}()</td><td>true</td><td>true</td><td>CategoricalArrays.CategoricalValue{String,UInt32} \"ULN\"</td><td>CategoricalArrays.CategoricalValue{String,UInt32} \"LNX\"</td><td>CategoricalArrays.CategoricalValue{String,UInt32} \"UL\"</td><td>CategoricalArrays.CategoricalValue{String,UInt32} \"LN\"</td><td>CategoricalArrays.CategoricalValue{String,UInt32} \"NX\"</td><td>CategoricalArrays.CategoricalValue{String,UInt32} \"NW\"</td><td>Nullable{Bool}()</td><td>0.13887392574438628</td><td>1.0</td><td>0.2090750102403841</td><td>CategoricalArrays.CategoricalValue{String,UInt32} \"W\"</td><td>0.0</td></tr><tr><th>8</th><td>8</td><td>8</td><td>CategoricalArrays.CategoricalValue{String,UInt32} \"DAN\"</td><td>CategoricalArrays.CategoricalValue{String,UInt32} \"TORE\"</td><td>CategoricalArrays.CategoricalValue{String,UInt32} \"W\"</td><td>0</td><td>CategoricalArrays.CategoricalValue{String,UInt32} \"NW\"</td><td>CategoricalArrays.CategoricalValue{String,UInt32} \"W\"</td><td>1.0</td><td>CategoricalArrays.CategoricalValue{String,UInt32} \"NW\"</td><td>true</td><td>0.36042770066006885</td><td>0.6218448152760975</td><td>1.477252365634529</td><td>1.3552923480328787</td><td>false</td><td>1.0</td><td>0.0</td><td>0.2614171146160286</td><td>0.2614171146160286</td><td>CategoricalArrays.CategoricalValue{String,UInt32} \"TORE\"</td><td>Nullable{CategoricalArrays.CategoricalValue{String,UInt32}}(\"1\")</td><td>Nullable{CategoricalArrays.CategoricalValue{String,UInt32}}(\"0\")</td><td>Nullable{Float64}(1.0)</td><td>1.0</td><td>0.4250378332822238</td><td>0.31150490065052017</td><td>CategoricalArrays.CategoricalValue{String,UInt32} \"NW\"</td><td>3.0</td><td>Nullable{Float64}()</td><td>false</td><td>false</td><td>CategoricalArrays.CategoricalValue{String,UInt32} \"TOR\"</td><td>CategoricalArrays.CategoricalValue{String,UInt32} \"ORE\"</td><td>CategoricalArrays.CategoricalValue{String,UInt32} \"TO\"</td><td>CategoricalArrays.CategoricalValue{String,UInt32} \"OR\"</td><td>CategoricalArrays.CategoricalValue{String,UInt32} \"RE\"</td><td>CategoricalArrays.CategoricalValue{String,UInt32} \"TORE\"</td><td>Nullable{Bool}()</td><td>0.2062368170069923</td><td>1.0</td><td>0.16316744279843487</td><td>CategoricalArrays.CategoricalValue{String,UInt32} \"NW\"</td><td>0.0</td></tr><tr><th>9</th><td>9</td><td>9</td><td>CategoricalArrays.CategoricalValue{String,UInt32} \"DAN\"</td><td>CategoricalArrays.CategoricalValue{String,UInt32} \"PSHA\"</td><td>CategoricalArrays.CategoricalValue{String,UInt32} \"NW\"</td><td>1</td><td>CategoricalArrays.CategoricalValue{String,UInt32} \"NW\"</td><td>CategoricalArrays.CategoricalValue{String,UInt32} \"NW\"</td><td>1.0</td><td>CategoricalArrays.CategoricalValue{String,UInt32} \"NW\"</td><td>true</td><td>0.3351099871808513</td><td>0.4252212803564832</td><td>1.513295135700536</td><td>1.3318445420829679</td><td>true</td><td>1.0</td><td>1.0</td><td>-0.09011129317563193</td><td>0.09011129317563193</td><td>CategoricalArrays.CategoricalValue{String,UInt32} \"NW\"</td><td>Nullable{CategoricalArrays.CategoricalValue{String,UInt32}}()</td><td>Nullable{CategoricalArrays.CategoricalValue{String,UInt32}}()</td><td>Nullable{Float64}(1.0)</td><td>1.0</td><td>0.0</td><td>0.0</td><td>CategoricalArrays.CategoricalValue{String,UInt32} \"NW\"</td><td>3.0</td><td>Nullable{Float64}()</td><td>true</td><td>true</td><td>CategoricalArrays.CategoricalValue{String,UInt32} \"PSH\"</td><td>CategoricalArrays.CategoricalValue{String,UInt32} \"SHA\"</td><td>CategoricalArrays.CategoricalValue{String,UInt32} \"PS\"</td><td>CategoricalArrays.CategoricalValue{String,UInt32} \"SH\"</td><td>CategoricalArrays.CategoricalValue{String,UInt32} \"HA\"</td><td>CategoricalArrays.CategoricalValue{String,UInt32} \"NW\"</td><td>Nullable{Bool}()</td><td>0.13887392574438628</td><td>1.0</td><td>0.10708209244674337</td><td>CategoricalArrays.CategoricalValue{String,UInt32} \"NW\"</td><td>1.0</td></tr><tr><th>10</th><td>10</td><td>10</td><td>CategoricalArrays.CategoricalValue{String,UInt32} \"DAN\"</td><td>CategoricalArrays.CategoricalValue{String,UInt32} \"AHMF\"</td><td>CategoricalArrays.CategoricalValue{String,UInt32} \"NW\"</td><td>1</td><td>CategoricalArrays.CategoricalValue{String,UInt32} \"NW\"</td><td>CategoricalArrays.CategoricalValue{String,UInt32} \"NW\"</td><td>1.0</td><td>CategoricalArrays.CategoricalValue{String,UInt32} \"W\"</td><td>false</td><td>0.4178795982386951</td><td>0.32796562239350663</td><td>1.8950281166624514</td><td>1.3936364055049357</td><td>true</td><td>0.0</td><td>0.0</td><td>0.08991397584518845</td><td>0.08991397584518845</td><td>CategoricalArrays.CategoricalValue{String,UInt32} \"NW\"</td><td>Nullable{CategoricalArrays.CategoricalValue{String,UInt32}}()</td><td>Nullable{CategoricalArrays.CategoricalValue{String,UInt32}}()</td><td>Nullable{Float64}(1.0)</td><td>1.0</td><td>0.0</td><td>0.0</td><td>CategoricalArrays.CategoricalValue{String,UInt32} \"W\"</td><td>3.0</td><td>Nullable{Float64}()</td><td>true</td><td>true</td><td>CategoricalArrays.CategoricalValue{String,UInt32} \"AHM\"</td><td>CategoricalArrays.CategoricalValue{String,UInt32} \"HMF\"</td><td>CategoricalArrays.CategoricalValue{String,UInt32} \"AH\"</td><td>CategoricalArrays.CategoricalValue{String,UInt32} \"HM\"</td><td>CategoricalArrays.CategoricalValue{String,UInt32} \"MF\"</td><td>CategoricalArrays.CategoricalValue{String,UInt32} \"NW\"</td><td>Nullable{Bool}()</td><td>0.13887392574438628</td><td>1.0</td><td>0.2090750102403841</td><td>CategoricalArrays.CategoricalValue{String,UInt32} \"NW\"</td><td>1.0</td></tr><tr><th>11</th><td>11</td><td>11</td><td>CategoricalArrays.CategoricalValue{String,UInt32} \"DAN\"</td><td>CategoricalArrays.CategoricalValue{String,UInt32} \"BOOR\"</td><td>CategoricalArrays.CategoricalValue{String,UInt32} \"W\"</td><td>0</td><td>CategoricalArrays.CategoricalValue{String,UInt32} \"NW\"</td><td>CategoricalArrays.CategoricalValue{String,UInt32} \"W\"</td><td>1.0</td><td>CategoricalArrays.CategoricalValue{String,UInt32} \"NW\"</td><td>false</td><td>0.568138944679437</td><td>0.3611100457876516</td><td>2.237270291059686</td><td>1.4635586761992314</td><td>true</td><td>1.0</td><td>0.0</td><td>-0.20702889889178544</td><td>0.20702889889178544</td><td>CategoricalArrays.CategoricalValue{String,UInt32} \"BOOR\"</td><td>Nullable{CategoricalArrays.CategoricalValue{String,UInt32}}(\"1\")</td><td>Nullable{CategoricalArrays.CategoricalValue{String,UInt32}}(\"0\")</td><td>Nullable{Float64}(1.0)</td><td>1.0</td><td>0.0</td><td>0.0</td><td>CategoricalArrays.CategoricalValue{String,UInt32} \"NW\"</td><td>4.0</td><td>Nullable{Float64}()</td><td>false</td><td>false</td><td>CategoricalArrays.CategoricalValue{String,UInt32} \"BOO\"</td><td>CategoricalArrays.CategoricalValue{String,UInt32} \"OOR\"</td><td>CategoricalArrays.CategoricalValue{String,UInt32} \"BO\"</td><td>CategoricalArrays.CategoricalValue{String,UInt32} \"OO\"</td><td>CategoricalArrays.CategoricalValue{String,UInt32} \"OR\"</td><td>CategoricalArrays.CategoricalValue{String,UInt32} \"BOOR\"</td><td>Nullable{Bool}()</td><td>0.2256027443349701</td><td>1.0</td><td>0.1687749360675236</td><td>CategoricalArrays.CategoricalValue{String,UInt32} \"NW\"</td><td>0.0</td></tr><tr><th>12</th><td>12</td><td>12</td><td>CategoricalArrays.CategoricalValue{String,UInt32} \"DAN\"</td><td>CategoricalArrays.CategoricalValue{String,UInt32} \"KRBA\"</td><td>CategoricalArrays.CategoricalValue{String,UInt32} \"NW\"</td><td>1</td><td>CategoricalArrays.CategoricalValue{String,UInt32} \"NW\"</td><td>CategoricalArrays.CategoricalValue{String,UInt32} \"NW\"</td><td>1.0</td><td>CategoricalArrays.CategoricalValue{String,UInt32} \"W\"</td><td>true</td><td>0.5055617553578965</td><td>0.520949305730681</td><td>2.2630182059100545</td><td>1.7590470863305792</td><td>true</td><td>0.0</td><td>0.0</td><td>-0.015387550372784498</td><td>0.015387550372784498</td><td>CategoricalArrays.CategoricalValue{String,UInt32} \"NW\"</td><td>Nullable{CategoricalArrays.CategoricalValue{String,UInt32}}()</td><td>Nullable{CategoricalArrays.CategoricalValue{String,UInt32}}()</td><td>Nullable{Float64}(1.0)</td><td>1.0</td><td>0.0</td><td>0.0</td><td>CategoricalArrays.CategoricalValue{String,UInt32} \"W\"</td><td>4.0</td><td>Nullable{Float64}()</td><td>true</td><td>true</td><td>CategoricalArrays.CategoricalValue{String,UInt32} \"KRB\"</td><td>CategoricalArrays.CategoricalValue{String,UInt32} \"RBA\"</td><td>CategoricalArrays.CategoricalValue{String,UInt32} \"KR\"</td><td>CategoricalArrays.CategoricalValue{String,UInt32} \"RB\"</td><td>CategoricalArrays.CategoricalValue{String,UInt32} \"BA\"</td><td>CategoricalArrays.CategoricalValue{String,UInt32} \"NW\"</td><td>Nullable{Bool}()</td><td>0.13887392574438628</td><td>1.0</td><td>0.2090750102403841</td><td>CategoricalArrays.CategoricalValue{String,UInt32} \"NW\"</td><td>1.0</td></tr><tr><th>13</th><td>13</td><td>13</td><td>CategoricalArrays.CategoricalValue{String,UInt32} \"DAN\"</td><td>CategoricalArrays.CategoricalValue{String,UInt32} \"KRBO\"</td><td>CategoricalArrays.CategoricalValue{String,UInt32} \"NW\"</td><td>1</td><td>CategoricalArrays.CategoricalValue{String,UInt32} \"NW\"</td><td>CategoricalArrays.CategoricalValue{String,UInt32} \"NW\"</td><td>1.0</td><td>CategoricalArrays.CategoricalValue{String,UInt32} \"NW\"</td><td>false</td><td>0.6873169364819905</td><td>0.32865810690161174</td><td>2.5380957023741284</td><td>1.8521329932445314</td><td>true</td><td>1.0</td><td>1.0</td><td>0.3586588295803788</td><td>0.3586588295803788</td><td>CategoricalArrays.CategoricalValue{String,UInt32} \"NW\"</td><td>Nullable{CategoricalArrays.CategoricalValue{String,UInt32}}()</td><td>Nullable{CategoricalArrays.CategoricalValue{String,UInt32}}()</td><td>Nullable{Float64}(1.0)</td><td>1.0</td><td>0.0</td><td>0.0</td><td>CategoricalArrays.CategoricalValue{String,UInt32} \"NW\"</td><td>4.0</td><td>Nullable{Float64}()</td><td>true</td><td>true</td><td>CategoricalArrays.CategoricalValue{String,UInt32} \"KRB\"</td><td>CategoricalArrays.CategoricalValue{String,UInt32} \"RBO\"</td><td>CategoricalArrays.CategoricalValue{String,UInt32} \"KR\"</td><td>CategoricalArrays.CategoricalValue{String,UInt32} \"RB\"</td><td>CategoricalArrays.CategoricalValue{String,UInt32} \"BO\"</td><td>CategoricalArrays.CategoricalValue{String,UInt32} \"NW\"</td><td>Nullable{Bool}()</td><td>0.13887392574438628</td><td>1.0</td><td>0.10708209244674337</td><td>CategoricalArrays.CategoricalValue{String,UInt32} \"NW\"</td><td>1.0</td></tr><tr><th>14</th><td>14</td><td>14</td><td>CategoricalArrays.CategoricalValue{String,UInt32} \"DAN\"</td><td>CategoricalArrays.CategoricalValue{String,UInt32} \"WEND\"</td><td>CategoricalArrays.CategoricalValue{String,UInt32} \"W\"</td><td>0</td><td>CategoricalArrays.CategoricalValue{String,UInt32} \"NW\"</td><td>CategoricalArrays.CategoricalValue{String,UInt32} \"W\"</td><td>1.0</td><td>CategoricalArrays.CategoricalValue{String,UInt32} \"NW\"</td><td>true</td><td>0.6249940489159261</td><td>0.6436684195137856</td><td>2.7131408004659474</td><td>1.902926694051502</td><td>false</td><td>1.0</td><td>0.0</td><td>0.01867437059785948</td><td>0.01867437059785948</td><td>CategoricalArrays.CategoricalValue{String,UInt32} \"WEND\"</td><td>Nullable{CategoricalArrays.CategoricalValue{String,UInt32}}(\"1\")</td><td>Nullable{CategoricalArrays.CategoricalValue{String,UInt32}}(\"0\")</td><td>Nullable{Float64}(1.0)</td><td>1.0</td><td>0.43222674925195226</td><td>0.27192472971973936</td><td>CategoricalArrays.CategoricalValue{String,UInt32} \"NW\"</td><td>4.0</td><td>Nullable{Float64}()</td><td>false</td><td>false</td><td>CategoricalArrays.CategoricalValue{String,UInt32} \"WEN\"</td><td>CategoricalArrays.CategoricalValue{String,UInt32} \"END\"</td><td>CategoricalArrays.CategoricalValue{String,UInt32} \"WE\"</td><td>CategoricalArrays.CategoricalValue{String,UInt32} \"EN\"</td><td>CategoricalArrays.CategoricalValue{String,UInt32} \"ND\"</td><td>CategoricalArrays.CategoricalValue{String,UInt32} \"WEND\"</td><td>Nullable{Bool}()</td><td>0.11514119807185226</td><td>0.0</td><td>0.08722512223687921</td><td>CategoricalArrays.CategoricalValue{String,UInt32} \"W\"</td><td>1.0</td></tr><tr><th>15</th><td>15</td><td>15</td><td>CategoricalArrays.CategoricalValue{String,UInt32} \"DAN\"</td><td>CategoricalArrays.CategoricalValue{String,UInt32} \"BANG\"</td><td>CategoricalArrays.CategoricalValue{String,UInt32} \"W\"</td><td>0</td><td>CategoricalArrays.CategoricalValue{String,UInt32} \"NW\"</td><td>CategoricalArrays.CategoricalValue{String,UInt32} \"W\"</td><td>1.0</td><td>CategoricalArrays.CategoricalValue{String,UInt32} \"W\"</td><td>true</td><td>0.3832328411075255</td><td>0.6876564100292255</td><td>2.706552640504477</td><td>2.011903927356604</td><td>false</td><td>0.0</td><td>1.0</td><td>0.3044235689217</td><td>0.3044235689217</td><td>CategoricalArrays.CategoricalValue{String,UInt32} \"BANG\"</td><td>Nullable{CategoricalArrays.CategoricalValue{String,UInt32}}(\"1\")</td><td>Nullable{CategoricalArrays.CategoricalValue{String,UInt32}}(\"0\")</td><td>Nullable{Float64}(1.0)</td><td>1.0</td><td>0.7124766969801002</td><td>0.4503912335210228</td><td>CategoricalArrays.CategoricalValue{String,UInt32} \"NW\"</td><td>4.0</td><td>Nullable{Float64}()</td><td>false</td><td>false</td><td>CategoricalArrays.CategoricalValue{String,UInt32} \"BAN\"</td><td>CategoricalArrays.CategoricalValue{String,UInt32} \"ANG\"</td><td>CategoricalArrays.CategoricalValue{String,UInt32} \"BA\"</td><td>CategoricalArrays.CategoricalValue{String,UInt32} \"AN\"</td><td>CategoricalArrays.CategoricalValue{String,UInt32} \"NG\"</td><td>CategoricalArrays.CategoricalValue{String,UInt32} \"BANG\"</td><td>Nullable{Bool}()</td><td>0.1129526080898336</td><td>0.0</td><td>0.1464283253460917</td><td>CategoricalArrays.CategoricalValue{String,UInt32} \"W\"</td><td>1.0</td></tr><tr><th>16</th><td>16</td><td>16</td><td>CategoricalArrays.CategoricalValue{String,UInt32} \"DAN\"</td><td>CategoricalArrays.CategoricalValue{String,UInt32} \"KRBU\"</td><td>CategoricalArrays.CategoricalValue{String,UInt32} \"NW\"</td><td>1</td><td>CategoricalArrays.CategoricalValue{String,UInt32} \"NW\"</td><td>CategoricalArrays.CategoricalValue{String,UInt32} \"NW\"</td><td>1.0</td><td>CategoricalArrays.CategoricalValue{String,UInt32} \"W\"</td><td>true</td><td>0.5266507478900385</td><td>0.6086774846057903</td><td>2.7422667870787496</td><td>1.9573390304677665</td><td>true</td><td>0.0</td><td>0.0</td><td>-0.08202673671575178</td><td>0.08202673671575178</td><td>CategoricalArrays.CategoricalValue{String,UInt32} \"NW\"</td><td>Nullable{CategoricalArrays.CategoricalValue{String,UInt32}}()</td><td>Nullable{CategoricalArrays.CategoricalValue{String,UInt32}}()</td><td>Nullable{Float64}(1.0)</td><td>1.0</td><td>0.0</td><td>0.0</td><td>CategoricalArrays.CategoricalValue{String,UInt32} \"W\"</td><td>4.0</td><td>Nullable{Float64}()</td><td>true</td><td>true</td><td>CategoricalArrays.CategoricalValue{String,UInt32} \"KRB\"</td><td>CategoricalArrays.CategoricalValue{String,UInt32} \"RBU\"</td><td>CategoricalArrays.CategoricalValue{String,UInt32} \"KR\"</td><td>CategoricalArrays.CategoricalValue{String,UInt32} \"RB\"</td><td>CategoricalArrays.CategoricalValue{String,UInt32} \"BU\"</td><td>CategoricalArrays.CategoricalValue{String,UInt32} \"NW\"</td><td>Nullable{Bool}()</td><td>0.13887392574438628</td><td>1.0</td><td>0.2090750102403841</td><td>CategoricalArrays.CategoricalValue{String,UInt32} \"NW\"</td><td>1.0</td></tr><tr><th>17</th><td>17</td><td>17</td><td>CategoricalArrays.CategoricalValue{String,UInt32} \"DAN\"</td><td>CategoricalArrays.CategoricalValue{String,UInt32} \"IMMF\"</td><td>CategoricalArrays.CategoricalValue{String,UInt32} \"NW\"</td><td>1</td><td>CategoricalArrays.CategoricalValue{String,UInt32} \"NW\"</td><td>CategoricalArrays.CategoricalValue{String,UInt32} \"NW\"</td><td>1.0</td><td>CategoricalArrays.CategoricalValue{String,UInt32} \"W\"</td><td>false</td><td>0.7292386192298955</td><td>0.45576392175339214</td><td>3.0149721675068792</td><td>2.045789697381184</td><td>true</td><td>0.0</td><td>0.0</td><td>0.2734746974765034</td><td>0.2734746974765034</td><td>CategoricalArrays.CategoricalValue{String,UInt32} \"NW\"</td><td>Nullable{CategoricalArrays.CategoricalValue{String,UInt32}}()</td><td>Nullable{CategoricalArrays.CategoricalValue{String,UInt32}}()</td><td>Nullable{Float64}(1.0)</td><td>1.0</td><td>0.0</td><td>0.0</td><td>CategoricalArrays.CategoricalValue{String,UInt32} \"W\"</td><td>4.0</td><td>Nullable{Float64}()</td><td>true</td><td>true</td><td>CategoricalArrays.CategoricalValue{String,UInt32} \"IMM\"</td><td>CategoricalArrays.CategoricalValue{String,UInt32} \"MMF\"</td><td>CategoricalArrays.CategoricalValue{String,UInt32} \"IM\"</td><td>CategoricalArrays.CategoricalValue{String,UInt32} \"MM\"</td><td>CategoricalArrays.CategoricalValue{String,UInt32} \"MF\"</td><td>CategoricalArrays.CategoricalValue{String,UInt32} \"NW\"</td><td>Nullable{Bool}()</td><td>0.13887392574438628</td><td>1.0</td><td>0.2090750102403841</td><td>CategoricalArrays.CategoricalValue{String,UInt32} \"NW\"</td><td>1.0</td></tr><tr><th>18</th><td>18</td><td>18</td><td>CategoricalArrays.CategoricalValue{String,UInt32} \"DAN\"</td><td>CategoricalArrays.CategoricalValue{String,UInt32} \"BANG\"</td><td>CategoricalArrays.CategoricalValue{String,UInt32} \"W\"</td><td>0</td><td>CategoricalArrays.CategoricalValue{String,UInt32} \"NW\"</td><td>CategoricalArrays.CategoricalValue{String,UInt32} \"W\"</td><td>1.0</td><td>CategoricalArrays.CategoricalValue{String,UInt32} \"NW\"</td><td>true</td><td>0.3803915042519067</td><td>0.4156373000514585</td><td>3.174829686713549</td><td>2.117701704616902</td><td>false</td><td>1.0</td><td>0.0</td><td>0.03524579579955178</td><td>0.03524579579955178</td><td>CategoricalArrays.CategoricalValue{String,UInt32} \"BANG\"</td><td>Nullable{CategoricalArrays.CategoricalValue{String,UInt32}}(\"1\")</td><td>Nullable{CategoricalArrays.CategoricalValue{String,UInt32}}(\"0\")</td><td>Nullable{Float64}(1.0)</td><td>1.0</td><td>0.9382362117391297</td><td>0.6260483107128529</td><td>CategoricalArrays.CategoricalValue{String,UInt32} \"NW\"</td><td>4.0</td><td>Nullable{Float64}()</td><td>false</td><td>false</td><td>CategoricalArrays.CategoricalValue{String,UInt32} \"BAN\"</td><td>CategoricalArrays.CategoricalValue{String,UInt32} \"ANG\"</td><td>CategoricalArrays.CategoricalValue{String,UInt32} \"BA\"</td><td>CategoricalArrays.CategoricalValue{String,UInt32} \"AN\"</td><td>CategoricalArrays.CategoricalValue{String,UInt32} \"NG\"</td><td>CategoricalArrays.CategoricalValue{String,UInt32} \"BANG\"</td><td>Nullable{Bool}()</td><td>0.1129526080898336</td><td>0.0</td><td>0.08697661530559922</td><td>CategoricalArrays.CategoricalValue{String,UInt32} \"NW\"</td><td>0.0</td></tr><tr><th>19</th><td>19</td><td>19</td><td>CategoricalArrays.CategoricalValue{String,UInt32} \"DAN\"</td><td>CategoricalArrays.CategoricalValue{String,UInt32} \"PSMI\"</td><td>CategoricalArrays.CategoricalValue{String,UInt32} \"NW\"</td><td>1</td><td>CategoricalArrays.CategoricalValue{String,UInt32} \"NW\"</td><td>CategoricalArrays.CategoricalValue{String,UInt32} \"NW\"</td><td>1.0</td><td>CategoricalArrays.CategoricalValue{String,UInt32} \"W\"</td><td>false</td><td>0.8239675560461959</td><td>0.6389703910993396</td><td>3.2057083133330315</td><td>2.432141360349312</td><td>true</td><td>0.0</td><td>0.0</td><td>0.18499716494685625</td><td>0.18499716494685625</td><td>CategoricalArrays.CategoricalValue{String,UInt32} \"NW\"</td><td>Nullable{CategoricalArrays.CategoricalValue{String,UInt32}}()</td><td>Nullable{CategoricalArrays.CategoricalValue{String,UInt32}}()</td><td>Nullable{Float64}(1.0)</td><td>1.0</td><td>0.0</td><td>0.0</td><td>CategoricalArrays.CategoricalValue{String,UInt32} \"W\"</td><td>4.0</td><td>Nullable{Float64}()</td><td>true</td><td>true</td><td>CategoricalArrays.CategoricalValue{String,UInt32} \"PSM\"</td><td>CategoricalArrays.CategoricalValue{String,UInt32} \"SMI\"</td><td>CategoricalArrays.CategoricalValue{String,UInt32} \"PS\"</td><td>CategoricalArrays.CategoricalValue{String,UInt32} \"SM\"</td><td>CategoricalArrays.CategoricalValue{String,UInt32} \"MI\"</td><td>CategoricalArrays.CategoricalValue{String,UInt32} \"NW\"</td><td>Nullable{Bool}()</td><td>0.13887392574438628</td><td>1.0</td><td>0.2090750102403841</td><td>CategoricalArrays.CategoricalValue{String,UInt32} \"NW\"</td><td>1.0</td></tr><tr><th>20</th><td>20</td><td>20</td><td>CategoricalArrays.CategoricalValue{String,UInt32} \"DAN\"</td><td>CategoricalArrays.CategoricalValue{String,UInt32} \"OHMF\"</td><td>CategoricalArrays.CategoricalValue{String,UInt32} \"NW\"</td><td>1</td><td>CategoricalArrays.CategoricalValue{String,UInt32} \"NW\"</td><td>CategoricalArrays.CategoricalValue{String,UInt32} \"NW\"</td><td>1.0</td><td>CategoricalArrays.CategoricalValue{String,UInt32} \"NW\"</td><td>false</td><td>0.8653872024161436</td><td>0.3085045893081632</td><td>3.3067509361625147</td><td>2.5008166898382402</td><td>true</td><td>1.0</td><td>1.0</td><td>0.5568826131079805</td><td>0.5568826131079805</td><td>CategoricalArrays.CategoricalValue{String,UInt32} \"NW\"</td><td>Nullable{CategoricalArrays.CategoricalValue{String,UInt32}}()</td><td>Nullable{CategoricalArrays.CategoricalValue{String,UInt32}}()</td><td>Nullable{Float64}(1.0)</td><td>1.0</td><td>0.0</td><td>0.0</td><td>CategoricalArrays.CategoricalValue{String,UInt32} \"NW\"</td><td>4.0</td><td>Nullable{Float64}()</td><td>true</td><td>true</td><td>CategoricalArrays.CategoricalValue{String,UInt32} \"OHM\"</td><td>CategoricalArrays.CategoricalValue{String,UInt32} \"HMF\"</td><td>CategoricalArrays.CategoricalValue{String,UInt32} \"OH\"</td><td>CategoricalArrays.CategoricalValue{String,UInt32} \"HM\"</td><td>CategoricalArrays.CategoricalValue{String,UInt32} \"MF\"</td><td>CategoricalArrays.CategoricalValue{String,UInt32} \"NW\"</td><td>Nullable{Bool}()</td><td>0.13887392574438628</td><td>1.0</td><td>0.10708209244674337</td><td>CategoricalArrays.CategoricalValue{String,UInt32} \"W\"</td><td>0.0</td></tr><tr><th>21</th><td>21</td><td>21</td><td>CategoricalArrays.CategoricalValue{String,UInt32} \"DAN\"</td><td>CategoricalArrays.CategoricalValue{String,UInt32} \"GNFO\"</td><td>CategoricalArrays.CategoricalValue{String,UInt32} \"NW\"</td><td>1</td><td>CategoricalArrays.CategoricalValue{String,UInt32} \"NW\"</td><td>CategoricalArrays.CategoricalValue{String,UInt32} \"NW\"</td><td>1.0</td><td>CategoricalArrays.CategoricalValue{String,UInt32} \"W\"</td><td>false</td><td>0.6759378607146718</td><td>0.4578226640326666</td><td>3.3862263318560237</td><td>2.562990056480252</td><td>true</td><td>0.0</td><td>0.0</td><td>0.21811519668200519</td><td>0.21811519668200519</td><td>CategoricalArrays.CategoricalValue{String,UInt32} \"NW\"</td><td>Nullable{CategoricalArrays.CategoricalValue{String,UInt32}}()</td><td>Nullable{CategoricalArrays.CategoricalValue{String,UInt32}}()</td><td>Nullable{Float64}(1.0)</td><td>1.0</td><td>0.0</td><td>0.0</td><td>CategoricalArrays.CategoricalValue{String,UInt32} \"W\"</td><td>4.0</td><td>Nullable{Float64}()</td><td>true</td><td>true</td><td>CategoricalArrays.CategoricalValue{String,UInt32} \"GNF\"</td><td>CategoricalArrays.CategoricalValue{String,UInt32} \"NFO\"</td><td>CategoricalArrays.CategoricalValue{String,UInt32} \"GN\"</td><td>CategoricalArrays.CategoricalValue{String,UInt32} \"NF\"</td><td>CategoricalArrays.CategoricalValue{String,UInt32} \"FO\"</td><td>CategoricalArrays.CategoricalValue{String,UInt32} \"NW\"</td><td>Nullable{Bool}()</td><td>0.13887392574438628</td><td>1.0</td><td>0.2090750102403841</td><td>CategoricalArrays.CategoricalValue{String,UInt32} \"NW\"</td><td>1.0</td></tr><tr><th>22</th><td>22</td><td>22</td><td>CategoricalArrays.CategoricalValue{String,UInt32} \"DAN\"</td><td>CategoricalArrays.CategoricalValue{String,UInt32} \"ULTD\"</td><td>CategoricalArrays.CategoricalValue{String,UInt32} \"NW\"</td><td>1</td><td>CategoricalArrays.CategoricalValue{String,UInt32} \"NW\"</td><td>CategoricalArrays.CategoricalValue{String,UInt32} \"NW\"</td><td>1.0</td><td>CategoricalArrays.CategoricalValue{String,UInt32} \"NW\"</td><td>false</td><td>1.0701913926670101</td><td>0.3643010487767763</td><td>3.5767650699715463</td><td>2.639924020385679</td><td>true</td><td>1.0</td><td>1.0</td><td>0.7058903438902338</td><td>0.7058903438902338</td><td>CategoricalArrays.CategoricalValue{String,UInt32} \"NW\"</td><td>Nullable{CategoricalArrays.CategoricalValue{String,UInt32}}()</td><td>Nullable{CategoricalArrays.CategoricalValue{String,UInt32}}()</td><td>Nullable{Float64}(1.0)</td><td>1.0</td><td>0.0</td><td>0.0</td><td>CategoricalArrays.CategoricalValue{String,UInt32} \"NW\"</td><td>4.0</td><td>Nullable{Float64}()</td><td>true</td><td>true</td><td>CategoricalArrays.CategoricalValue{String,UInt32} \"ULT\"</td><td>CategoricalArrays.CategoricalValue{String,UInt32} \"LTD\"</td><td>CategoricalArrays.CategoricalValue{String,UInt32} \"UL\"</td><td>CategoricalArrays.CategoricalValue{String,UInt32} \"LT\"</td><td>CategoricalArrays.CategoricalValue{String,UInt32} \"TD\"</td><td>CategoricalArrays.CategoricalValue{String,UInt32} \"NW\"</td><td>Nullable{Bool}()</td><td>0.13887392574438628</td><td>1.0</td><td>0.10708209244674337</td><td>CategoricalArrays.CategoricalValue{String,UInt32} \"NW\"</td><td>1.0</td></tr><tr><th>23</th><td>23</td><td>23</td><td>CategoricalArrays.CategoricalValue{String,UInt32} \"DAN\"</td><td>CategoricalArrays.CategoricalValue{String,UInt32} \"TORE\"</td><td>CategoricalArrays.CategoricalValue{String,UInt32} \"W\"</td><td>0</td><td>CategoricalArrays.CategoricalValue{String,UInt32} \"NW\"</td><td>CategoricalArrays.CategoricalValue{String,UInt32} \"W\"</td><td>1.0</td><td>CategoricalArrays.CategoricalValue{String,UInt32} \"W\"</td><td>false</td><td>0.577408604436377</td><td>0.4280341017081728</td><td>3.554663204248558</td><td>2.6777721948561526</td><td>false</td><td>0.0</td><td>1.0</td><td>-0.14937450272820418</td><td>0.14937450272820418</td><td>CategoricalArrays.CategoricalValue{String,UInt32} \"TORE\"</td><td>Nullable{CategoricalArrays.CategoricalValue{String,UInt32}}(\"1\")</td><td>Nullable{CategoricalArrays.CategoricalValue{String,UInt32}}(\"0\")</td><td>Nullable{Float64}(1.0)</td><td>1.0</td><td>0.7764035833751035</td><td>0.46297921668933645</td><td>CategoricalArrays.CategoricalValue{String,UInt32} \"NW\"</td><td>4.0</td><td>Nullable{Float64}()</td><td>false</td><td>false</td><td>CategoricalArrays.CategoricalValue{String,UInt32} \"TOR\"</td><td>CategoricalArrays.CategoricalValue{String,UInt32} \"ORE\"</td><td>CategoricalArrays.CategoricalValue{String,UInt32} \"TO\"</td><td>CategoricalArrays.CategoricalValue{String,UInt32} \"OR\"</td><td>CategoricalArrays.CategoricalValue{String,UInt32} \"RE\"</td><td>CategoricalArrays.CategoricalValue{String,UInt32} \"TORE\"</td><td>Nullable{Bool}()</td><td>0.2062368170069923</td><td>1.0</td><td>0.25987500414963216</td><td>CategoricalArrays.CategoricalValue{String,UInt32} \"W\"</td><td>1.0</td></tr><tr><th>24</th><td>24</td><td>24</td><td>CategoricalArrays.CategoricalValue{String,UInt32} \"DAN\"</td><td>CategoricalArrays.CategoricalValue{String,UInt32} \"EMMF\"</td><td>CategoricalArrays.CategoricalValue{String,UInt32} \"NW\"</td><td>1</td><td>CategoricalArrays.CategoricalValue{String,UInt32} \"NW\"</td><td>CategoricalArrays.CategoricalValue{String,UInt32} \"NW\"</td><td>1.0</td><td>CategoricalArrays.CategoricalValue{String,UInt32} \"NW\"</td><td>false</td><td>0.9016247683482205</td><td>0.3878599918442827</td><td>3.5941068076141134</td><td>2.932484798417013</td><td>true</td><td>1.0</td><td>1.0</td><td>0.5137647765039377</td><td>0.5137647765039377</td><td>CategoricalArrays.CategoricalValue{String,UInt32} \"NW\"</td><td>Nullable{CategoricalArrays.CategoricalValue{String,UInt32}}()</td><td>Nullable{CategoricalArrays.CategoricalValue{String,UInt32}}()</td><td>Nullable{Float64}(1.0)</td><td>1.0</td><td>0.0</td><td>0.0</td><td>CategoricalArrays.CategoricalValue{String,UInt32} \"NW\"</td><td>4.0</td><td>Nullable{Float64}()</td><td>true</td><td>true</td><td>CategoricalArrays.CategoricalValue{String,UInt32} \"EMM\"</td><td>CategoricalArrays.CategoricalValue{String,UInt32} \"MMF\"</td><td>CategoricalArrays.CategoricalValue{String,UInt32} \"EM\"</td><td>CategoricalArrays.CategoricalValue{String,UInt32} \"MM\"</td><td>CategoricalArrays.CategoricalValue{String,UInt32} \"MF\"</td><td>CategoricalArrays.CategoricalValue{String,UInt32} \"NW\"</td><td>Nullable{Bool}()</td><td>0.13887392574438628</td><td>1.0</td><td>0.10708209244674337</td><td>CategoricalArrays.CategoricalValue{String,UInt32} \"NW\"</td><td>1.0</td></tr><tr><th>25</th><td>25</td><td>25</td><td>CategoricalArrays.CategoricalValue{String,UInt32} \"DAN\"</td><td>CategoricalArrays.CategoricalValue{String,UInt32} \"TORE\"</td><td>CategoricalArrays.CategoricalValue{String,UInt32} \"W\"</td><td>0</td><td>CategoricalArrays.CategoricalValue{String,UInt32} \"NW\"</td><td>CategoricalArrays.CategoricalValue{String,UInt32} \"W\"</td><td>1.0</td><td>CategoricalArrays.CategoricalValue{String,UInt32} \"NW\"</td><td>true</td><td>0.3853523740703553</td><td>0.5964833433121565</td><td>3.651219532101871</td><td>3.0182156402692573</td><td>false</td><td>1.0</td><td>0.0</td><td>0.2111309692418012</td><td>0.2111309692418012</td><td>CategoricalArrays.CategoricalValue{String,UInt32} \"TORE\"</td><td>Nullable{CategoricalArrays.CategoricalValue{String,UInt32}}(\"1\")</td><td>Nullable{CategoricalArrays.CategoricalValue{String,UInt32}}(\"0\")</td><td>Nullable{Float64}(1.0)</td><td>1.0</td><td>0.9781915299087764</td><td>0.6512510552354452</td><td>CategoricalArrays.CategoricalValue{String,UInt32} \"NW\"</td><td>4.0</td><td>Nullable{Float64}()</td><td>false</td><td>false</td><td>CategoricalArrays.CategoricalValue{String,UInt32} \"TOR\"</td><td>CategoricalArrays.CategoricalValue{String,UInt32} \"ORE\"</td><td>CategoricalArrays.CategoricalValue{String,UInt32} \"TO\"</td><td>CategoricalArrays.CategoricalValue{String,UInt32} \"OR\"</td><td>CategoricalArrays.CategoricalValue{String,UInt32} \"RE\"</td><td>CategoricalArrays.CategoricalValue{String,UInt32} \"TORE\"</td><td>Nullable{Bool}()</td><td>0.2062368170069923</td><td>1.0</td><td>0.16316744279843487</td><td>CategoricalArrays.CategoricalValue{String,UInt32} \"NW\"</td><td>0.0</td></tr><tr><th>26</th><td>26</td><td>26</td><td>CategoricalArrays.CategoricalValue{String,UInt32} \"DAN\"</td><td>CategoricalArrays.CategoricalValue{String,UInt32} \"DHMI\"</td><td>CategoricalArrays.CategoricalValue{String,UInt32} \"NW\"</td><td>1</td><td>CategoricalArrays.CategoricalValue{String,UInt32} \"NW\"</td><td>CategoricalArrays.CategoricalValue{String,UInt32} \"NW\"</td><td>1.0</td><td>CategoricalArrays.CategoricalValue{String,UInt32} \"NW\"</td><td>false</td><td>0.8647927715047106</td><td>0.44695882263929626</td><td>3.6839444749468058</td><td>3.1070220343608788</td><td>true</td><td>1.0</td><td>1.0</td><td>0.4178339488654143</td><td>0.4178339488654143</td><td>CategoricalArrays.CategoricalValue{String,UInt32} \"NW\"</td><td>Nullable{CategoricalArrays.CategoricalValue{String,UInt32}}()</td><td>Nullable{CategoricalArrays.CategoricalValue{String,UInt32}}()</td><td>Nullable{Float64}(1.0)</td><td>1.0</td><td>0.0</td><td>0.0</td><td>CategoricalArrays.CategoricalValue{String,UInt32} \"NW\"</td><td>4.0</td><td>Nullable{Float64}()</td><td>true</td><td>true</td><td>CategoricalArrays.CategoricalValue{String,UInt32} \"DHM\"</td><td>CategoricalArrays.CategoricalValue{String,UInt32} \"HMI\"</td><td>CategoricalArrays.CategoricalValue{String,UInt32} \"DH\"</td><td>CategoricalArrays.CategoricalValue{String,UInt32} \"HM\"</td><td>CategoricalArrays.CategoricalValue{String,UInt32} \"MI\"</td><td>CategoricalArrays.CategoricalValue{String,UInt32} \"NW\"</td><td>Nullable{Bool}()</td><td>0.13887392574438628</td><td>1.0</td><td>0.10708209244674337</td><td>CategoricalArrays.CategoricalValue{String,UInt32} \"NW\"</td><td>1.0</td></tr><tr><th>27</th><td>27</td><td>27</td><td>CategoricalArrays.CategoricalValue{String,UInt32} \"DAN\"</td><td>CategoricalArrays.CategoricalValue{String,UInt32} \"WEND\"</td><td>CategoricalArrays.CategoricalValue{String,UInt32} \"W\"</td><td>0</td><td>CategoricalArrays.CategoricalValue{String,UInt32} \"NW\"</td><td>CategoricalArrays.CategoricalValue{String,UInt32} \"W\"</td><td>1.0</td><td>CategoricalArrays.CategoricalValue{String,UInt32} \"NW\"</td><td>true</td><td>0.46736454685530865</td><td>0.5234295802804377</td><td>3.7636286152515255</td><td>3.18277581434661</td><td>false</td><td>1.0</td><td>0.0</td><td>0.056065033425129085</td><td>0.056065033425129085</td><td>CategoricalArrays.CategoricalValue{String,UInt32} \"WEND\"</td><td>Nullable{CategoricalArrays.CategoricalValue{String,UInt32}}(\"1\")</td><td>Nullable{CategoricalArrays.CategoricalValue{String,UInt32}}(\"0\")</td><td>Nullable{Float64}(1.0)</td><td>1.0</td><td>0.7648313116810445</td><td>0.4373545660742638</td><td>CategoricalArrays.CategoricalValue{String,UInt32} \"NW\"</td><td>4.0</td><td>Nullable{Float64}()</td><td>false</td><td>false</td><td>CategoricalArrays.CategoricalValue{String,UInt32} \"WEN\"</td><td>CategoricalArrays.CategoricalValue{String,UInt32} \"END\"</td><td>CategoricalArrays.CategoricalValue{String,UInt32} \"WE\"</td><td>CategoricalArrays.CategoricalValue{String,UInt32} \"EN\"</td><td>CategoricalArrays.CategoricalValue{String,UInt32} \"ND\"</td><td>CategoricalArrays.CategoricalValue{String,UInt32} \"WEND\"</td><td>Nullable{Bool}()</td><td>0.11514119807185226</td><td>0.0</td><td>0.08722512223687921</td><td>CategoricalArrays.CategoricalValue{String,UInt32} \"NW\"</td><td>0.0</td></tr><tr><th>28</th><td>28</td><td>28</td><td>CategoricalArrays.CategoricalValue{String,UInt32} \"DAN\"</td><td>CategoricalArrays.CategoricalValue{String,UInt32} \"BANG\"</td><td>CategoricalArrays.CategoricalValue{String,UInt32} \"W\"</td><td>0</td><td>CategoricalArrays.CategoricalValue{String,UInt32} \"NW\"</td><td>CategoricalArrays.CategoricalValue{String,UInt32} \"W\"</td><td>1.0</td><td>CategoricalArrays.CategoricalValue{String,UInt32} \"NW\"</td><td>true</td><td>0.22323460794969824</td><td>0.49732597537238743</td><td>3.764563344345236</td><td>3.3522815204777654</td><td>false</td><td>1.0</td><td>0.0</td><td>0.2740913674226892</td><td>0.2740913674226892</td><td>CategoricalArrays.CategoricalValue{String,UInt32} \"BANG\"</td><td>Nullable{CategoricalArrays.CategoricalValue{String,UInt32}}(\"1\")</td><td>Nullable{CategoricalArrays.CategoricalValue{String,UInt32}}(\"0\")</td><td>Nullable{Float64}(1.0)</td><td>1.0</td><td>1.1517622394735756</td><td>0.6713096213091817</td><td>CategoricalArrays.CategoricalValue{String,UInt32} \"NW\"</td><td>4.0</td><td>Nullable{Float64}()</td><td>false</td><td>false</td><td>CategoricalArrays.CategoricalValue{String,UInt32} \"BAN\"</td><td>CategoricalArrays.CategoricalValue{String,UInt32} \"ANG\"</td><td>CategoricalArrays.CategoricalValue{String,UInt32} \"BA\"</td><td>CategoricalArrays.CategoricalValue{String,UInt32} \"AN\"</td><td>CategoricalArrays.CategoricalValue{String,UInt32} \"NG\"</td><td>CategoricalArrays.CategoricalValue{String,UInt32} \"BANG\"</td><td>Nullable{Bool}()</td><td>0.1129526080898336</td><td>0.0</td><td>0.08697661530559922</td><td>CategoricalArrays.CategoricalValue{String,UInt32} \"NW\"</td><td>0.0</td></tr><tr><th>29</th><td>29</td><td>29</td><td>CategoricalArrays.CategoricalValue{String,UInt32} \"DAN\"</td><td>CategoricalArrays.CategoricalValue{String,UInt32} \"KRRU\"</td><td>CategoricalArrays.CategoricalValue{String,UInt32} \"NW\"</td><td>1</td><td>CategoricalArrays.CategoricalValue{String,UInt32} \"NW\"</td><td>CategoricalArrays.CategoricalValue{String,UInt32} \"NW\"</td><td>1.0</td><td>CategoricalArrays.CategoricalValue{String,UInt32} \"W\"</td><td>false</td><td>0.740993952453921</td><td>0.5259402866425057</td><td>3.7848026454724777</td><td>3.418039865632699</td><td>true</td><td>0.0</td><td>0.0</td><td>0.21505366581141527</td><td>0.21505366581141527</td><td>CategoricalArrays.CategoricalValue{String,UInt32} \"NW\"</td><td>Nullable{CategoricalArrays.CategoricalValue{String,UInt32}}()</td><td>Nullable{CategoricalArrays.CategoricalValue{String,UInt32}}()</td><td>Nullable{Float64}(1.0)</td><td>1.0</td><td>0.0</td><td>0.0</td><td>CategoricalArrays.CategoricalValue{String,UInt32} \"W\"</td><td>4.0</td><td>Nullable{Float64}()</td><td>true</td><td>true</td><td>CategoricalArrays.CategoricalValue{String,UInt32} \"KRR\"</td><td>CategoricalArrays.CategoricalValue{String,UInt32} \"RRU\"</td><td>CategoricalArrays.CategoricalValue{String,UInt32} \"KR\"</td><td>CategoricalArrays.CategoricalValue{String,UInt32} \"RR\"</td><td>CategoricalArrays.CategoricalValue{String,UInt32} \"RU\"</td><td>CategoricalArrays.CategoricalValue{String,UInt32} \"NW\"</td><td>Nullable{Bool}()</td><td>0.13887392574438628</td><td>1.0</td><td>0.2090750102403841</td><td>CategoricalArrays.CategoricalValue{String,UInt32} \"W\"</td><td>0.0</td></tr><tr><th>30</th><td>30</td><td>30</td><td>CategoricalArrays.CategoricalValue{String,UInt32} \"DAN\"</td><td>CategoricalArrays.CategoricalValue{String,UInt32} \"TSHA\"</td><td>CategoricalArrays.CategoricalValue{String,UInt32} \"NW\"</td><td>1</td><td>CategoricalArrays.CategoricalValue{String,UInt32} \"NW\"</td><td>CategoricalArrays.CategoricalValue{String,UInt32} \"NW\"</td><td>1.0</td><td>CategoricalArrays.CategoricalValue{String,UInt32} \"NW\"</td><td>false</td><td>0.7097616493731254</td><td>0.3903843738408997</td><td>3.934321656599878</td><td>3.5055456620079206</td><td>true</td><td>1.0</td><td>1.0</td><td>0.31937727553222567</td><td>0.31937727553222567</td><td>CategoricalArrays.CategoricalValue{String,UInt32} \"NW\"</td><td>Nullable{CategoricalArrays.CategoricalValue{String,UInt32}}()</td><td>Nullable{CategoricalArrays.CategoricalValue{String,UInt32}}()</td><td>Nullable{Float64}(1.0)</td><td>1.0</td><td>0.0</td><td>0.0</td><td>CategoricalArrays.CategoricalValue{String,UInt32} \"NW\"</td><td>4.0</td><td>Nullable{Float64}()</td><td>true</td><td>true</td><td>CategoricalArrays.CategoricalValue{String,UInt32} \"TSH\"</td><td>CategoricalArrays.CategoricalValue{String,UInt32} \"SHA\"</td><td>CategoricalArrays.CategoricalValue{String,UInt32} \"TS\"</td><td>CategoricalArrays.CategoricalValue{String,UInt32} \"SH\"</td><td>CategoricalArrays.CategoricalValue{String,UInt32} \"HA\"</td><td>CategoricalArrays.CategoricalValue{String,UInt32} \"NW\"</td><td>Nullable{Bool}()</td><td>0.13887392574438628</td><td>0.0</td><td>0.10708209244674337</td><td>CategoricalArrays.CategoricalValue{String,UInt32} \"NW\"</td><td>1.0</td></tr><tr><th>&vellip;</th><td>&vellip;</td><td>&vellip;</td><td>&vellip;</td><td>&vellip;</td><td>&vellip;</td><td>&vellip;</td><td>&vellip;</td><td>&vellip;</td><td>&vellip;</td><td>&vellip;</td><td>&vellip;</td><td>&vellip;</td><td>&vellip;</td><td>&vellip;</td><td>&vellip;</td><td>&vellip;</td><td>&vellip;</td><td>&vellip;</td><td>&vellip;</td><td>&vellip;</td><td>&vellip;</td><td>&vellip;</td><td>&vellip;</td><td>&vellip;</td><td>&vellip;</td><td>&vellip;</td><td>&vellip;</td><td>&vellip;</td><td>&vellip;</td><td>&vellip;</td><td>&vellip;</td><td>&vellip;</td><td>&vellip;</td><td>&vellip;</td><td>&vellip;</td><td>&vellip;</td><td>&vellip;</td><td>&vellip;</td><td>&vellip;</td><td>&vellip;</td><td>&vellip;</td><td>&vellip;</td><td>&vellip;</td><td>&vellip;</td></tr></tbody></table>"
      ],
      "text/plain": [
       "316871×44 DataFrames.DataFrame\n",
       "│ Row    │ ID     │ trial │ subject │ stimulus │ lex  │ acc │ Response │\n",
       "├────────┼────────┼───────┼─────────┼──────────┼──────┼─────┼──────────┤\n",
       "│ 1      │ 1      │ 1     │ \"DAN\"   │ \"TORE\"   │ \"W\"  │ 0   │ \"NW\"     │\n",
       "│ 2      │ 2      │ 2     │ \"DAN\"   │ \"EFTD\"   │ \"NW\" │ 1   │ \"NW\"     │\n",
       "│ 3      │ 3      │ 3     │ \"DAN\"   │ \"WEND\"   │ \"W\"  │ 0   │ \"NW\"     │\n",
       "│ 4      │ 4      │ 4     │ \"DAN\"   │ \"ULKH\"   │ \"NW\" │ 1   │ \"NW\"     │\n",
       "│ 5      │ 5      │ 5     │ \"DAN\"   │ \"BANG\"   │ \"W\"  │ 0   │ \"NW\"     │\n",
       "│ 6      │ 6      │ 6     │ \"DAN\"   │ \"BANG\"   │ \"W\"  │ 0   │ \"NW\"     │\n",
       "│ 7      │ 7      │ 7     │ \"DAN\"   │ \"ULNX\"   │ \"NW\" │ 1   │ \"NW\"     │\n",
       "│ 8      │ 8      │ 8     │ \"DAN\"   │ \"TORE\"   │ \"W\"  │ 0   │ \"NW\"     │\n",
       "│ 9      │ 9      │ 9     │ \"DAN\"   │ \"PSHA\"   │ \"NW\" │ 1   │ \"NW\"     │\n",
       "│ 10     │ 10     │ 10    │ \"DAN\"   │ \"AHMF\"   │ \"NW\" │ 1   │ \"NW\"     │\n",
       "│ 11     │ 11     │ 11    │ \"DAN\"   │ \"BOOR\"   │ \"W\"  │ 0   │ \"NW\"     │\n",
       "⋮\n",
       "│ 316860 │ 168805 │ 61131 │ \"CAU\"   │ \"SULN\"   │ \"NW\" │ 1   │ \"NW\"     │\n",
       "│ 316861 │ 168806 │ 61132 │ \"CAU\"   │ \"VECS\"   │ \"NW\" │ 1   │ \"NW\"     │\n",
       "│ 316862 │ 168807 │ 61133 │ \"CAU\"   │ \"NIRK\"   │ \"NW\" │ 0   │ \"W\"      │\n",
       "│ 316863 │ 168808 │ 61134 │ \"CAU\"   │ \"TACK\"   │ \"W\"  │ 1   │ \"W\"      │\n",
       "│ 316864 │ 168809 │ 61135 │ \"CAU\"   │ \"THUS\"   │ \"W\"  │ 0   │ \"NW\"     │\n",
       "│ 316865 │ 168810 │ 61136 │ \"CAU\"   │ \"SESC\"   │ \"NW\" │ 1   │ \"NW\"     │\n",
       "│ 316866 │ 168811 │ 61137 │ \"CAU\"   │ \"PEST\"   │ \"W\"  │ 1   │ \"W\"      │\n",
       "│ 316867 │ 168812 │ 61138 │ \"CAU\"   │ \"VARV\"   │ \"NW\" │ 1   │ \"NW\"     │\n",
       "│ 316868 │ 168813 │ 61139 │ \"CAU\"   │ \"THUS\"   │ \"W\"  │ 0   │ \"NW\"     │\n",
       "│ 316869 │ 168814 │ 61140 │ \"CAU\"   │ \"ILSS\"   │ \"NW\" │ 1   │ \"NW\"     │\n",
       "│ 316870 │ 168815 │ 61141 │ \"CAU\"   │ \"THUS\"   │ \"W\"  │ 0   │ \"NW\"     │\n",
       "│ 316871 │ 168816 │ 61142 │ \"CAU\"   │ \"SESP\"   │ \"NW\" │ 1   │ \"NW\"     │\n",
       "\n",
       "│ Row    │ Outcomes │ Block │ dec.HOG │ dec.HOG.0 │ actN       │ actW      │\n",
       "├────────┼──────────┼───────┼─────────┼───────────┼────────────┼───────────┤\n",
       "│ 1      │ \"W\"      │ 1.0   │ \"W\"     │ false     │ 0.0        │ 0.0       │\n",
       "│ 2      │ \"NW\"     │ 1.0   │ \"NW\"    │ true      │ 0.0        │ 0.143779  │\n",
       "│ 3      │ \"W\"      │ 1.0   │ \"NW\"    │ false     │ 0.2788     │ 0.112151  │\n",
       "│ 4      │ \"NW\"     │ 1.0   │ \"NW\"    │ true      │ 0.146731   │ 0.277915  │\n",
       "│ 5      │ \"W\"      │ 1.0   │ \"NW\"    │ false     │ 0.308002   │ 0.265771  │\n",
       "│ 6      │ \"W\"      │ 1.0   │ \"W\"     │ true      │ 0.197122   │ 0.588197  │\n",
       "│ 7      │ \"NW\"     │ 1.0   │ \"W\"     │ false     │ 0.418882   │ 0.341182  │\n",
       "│ 8      │ \"W\"      │ 1.0   │ \"NW\"    │ true      │ 0.360428   │ 0.621845  │\n",
       "│ 9      │ \"NW\"     │ 1.0   │ \"NW\"    │ true      │ 0.33511    │ 0.425221  │\n",
       "│ 10     │ \"NW\"     │ 1.0   │ \"W\"     │ false     │ 0.41788    │ 0.327966  │\n",
       "│ 11     │ \"W\"      │ 1.0   │ \"NW\"    │ false     │ 0.568139   │ 0.36111   │\n",
       "⋮\n",
       "│ 316860 │ \"NW\"     │ 62.0  │ \"NW\"    │ false     │ -0.0107789 │ -0.822389 │\n",
       "│ 316861 │ \"NW\"     │ 62.0  │ \"NW\"    │ false     │ 1.56647    │ 0.692916  │\n",
       "│ 316862 │ \"NW\"     │ 62.0  │ \"NW\"    │ false     │ 0.437929   │ -0.287423 │\n",
       "│ 316863 │ \"W\"      │ 62.0  │ \"W\"     │ false     │ 0.940894   │ 0.93073   │\n",
       "│ 316864 │ \"W\"      │ 62.0  │ \"NW\"    │ false     │ 0.590329   │ 0.527254  │\n",
       "│ 316865 │ \"NW\"     │ 62.0  │ \"NW\"    │ false     │ 0.567104   │ 0.149525  │\n",
       "│ 316866 │ \"W\"      │ 62.0  │ \"NW\"    │ false     │ 0.861793   │ 0.791049  │\n",
       "│ 316867 │ \"NW\"     │ 62.0  │ \"W\"     │ true      │ 0.087818   │ 0.410775  │\n",
       "│ 316868 │ \"W\"      │ 62.0  │ \"W\"     │ true      │ 0.46241    │ 0.598664  │\n",
       "│ 316869 │ \"NW\"     │ 62.0  │ \"W\"     │ false     │ 1.16386    │ 0.821032  │\n",
       "│ 316870 │ \"W\"      │ 62.0  │ \"W\"     │ true      │ 0.251063   │ 0.40381   │\n",
       "│ 316871 │ \"NW\"     │ 62.0  │ \"W\"     │ false     │ 1.37533    │ 1.17785   │\n",
       "\n",
       "│ Row    │ priorN   │ priorW   │ first │ agr │ acc.model │ diff       │\n",
       "├────────┼──────────┼──────────┼───────┼─────┼───────────┼────────────┤\n",
       "│ 1      │ 0.0      │ 0.0      │ true  │ 0.0 │ 1.0       │ 0.0        │\n",
       "│ 2      │ 0.0      │ 0.507456 │ true  │ 1.0 │ 1.0       │ -0.143779  │\n",
       "│ 3      │ 0.5904   │ 0.54424  │ true  │ 1.0 │ 0.0       │ -0.166649  │\n",
       "│ 4      │ 0.595976 │ 0.978676 │ true  │ 1.0 │ 1.0       │ -0.131184  │\n",
       "│ 5      │ 1.09361  │ 1.02517  │ true  │ 1.0 │ 0.0       │ -0.042231  │\n",
       "│ 6      │ 1.12503  │ 1.33373  │ false │ 0.0 │ 1.0       │ 0.391075   │\n",
       "│ 7      │ 1.14514  │ 1.30466  │ true  │ 0.0 │ 0.0       │ 0.0776997  │\n",
       "│ 8      │ 1.47725  │ 1.35529  │ false │ 1.0 │ 0.0       │ 0.261417   │\n",
       "│ 9      │ 1.5133   │ 1.33184  │ true  │ 1.0 │ 1.0       │ -0.0901113 │\n",
       "│ 10     │ 1.89503  │ 1.39364  │ true  │ 0.0 │ 0.0       │ 0.089914   │\n",
       "│ 11     │ 2.23727  │ 1.46356  │ true  │ 1.0 │ 0.0       │ -0.207029  │\n",
       "⋮\n",
       "│ 316860 │ 2557.93  │ 2595.15  │ false │ 1.0 │ 1.0       │ 0.81161    │\n",
       "│ 316861 │ 2557.67  │ 2594.94  │ false │ 1.0 │ 1.0       │ 0.873559   │\n",
       "│ 316862 │ 2557.81  │ 2595.12  │ false │ 0.0 │ 1.0       │ 0.725352   │\n",
       "│ 316863 │ 2557.6   │ 2595.07  │ false │ 1.0 │ 1.0       │ -0.0101646 │\n",
       "│ 316864 │ 2557.85  │ 2595.05  │ true  │ 1.0 │ 0.0       │ -0.0630757 │\n",
       "│ 316865 │ 2557.93  │ 2595.22  │ false │ 1.0 │ 1.0       │ 0.417579   │\n",
       "│ 316866 │ 2557.81  │ 2595.26  │ false │ 0.0 │ 0.0       │ -0.0707435 │\n",
       "│ 316867 │ 2558.02  │ 2595.21  │ false │ 0.0 │ 0.0       │ -0.322957  │\n",
       "│ 316868 │ 2557.78  │ 2595.32  │ false │ 0.0 │ 1.0       │ 0.136254   │\n",
       "│ 316869 │ 2557.84  │ 2595.46  │ false │ 0.0 │ 0.0       │ 0.342832   │\n",
       "│ 316870 │ 2557.88  │ 2595.66  │ false │ 0.0 │ 1.0       │ 0.152746   │\n",
       "│ 316871 │ 2557.91  │ 2595.69  │ false │ 0.0 │ 0.0       │ 0.19748    │\n",
       "\n",
       "│ Row    │ diff.abs  │ id     │ first.app │ dist  │ first.app.num │\n",
       "├────────┼───────────┼────────┼───────────┼───────┼───────────────┤\n",
       "│ 1      │ 0.0       │ \"TORE\" │ \"1\"       │ \"0\"   │ 1.0           │\n",
       "│ 2      │ 0.143779  │ \"NW\"   │ #NULL     │ #NULL │ 1.0           │\n",
       "│ 3      │ 0.166649  │ \"WEND\" │ \"1\"       │ \"0\"   │ 1.0           │\n",
       "│ 4      │ 0.131184  │ \"NW\"   │ #NULL     │ #NULL │ 1.0           │\n",
       "│ 5      │ 0.042231  │ \"BANG\" │ \"1\"       │ \"0\"   │ 1.0           │\n",
       "│ 6      │ 0.391075  │ \"BANG\" │ \"1\"       │ \"0\"   │ 1.0           │\n",
       "│ 7      │ 0.0776997 │ \"NW\"   │ #NULL     │ #NULL │ 1.0           │\n",
       "│ 8      │ 0.261417  │ \"TORE\" │ \"1\"       │ \"0\"   │ 1.0           │\n",
       "│ 9      │ 0.0901113 │ \"NW\"   │ #NULL     │ #NULL │ 1.0           │\n",
       "│ 10     │ 0.089914  │ \"NW\"   │ #NULL     │ #NULL │ 1.0           │\n",
       "│ 11     │ 0.207029  │ \"BOOR\" │ \"1\"       │ \"0\"   │ 1.0           │\n",
       "⋮\n",
       "│ 316860 │ 0.81161   │ \"NW\"   │ \"12\"      │ #NULL │ 7.0           │\n",
       "│ 316861 │ 0.873559  │ \"NW\"   │ \"12\"      │ #NULL │ 7.0           │\n",
       "│ 316862 │ 0.725352  │ \"NW\"   │ \"12\"      │ #NULL │ 7.0           │\n",
       "│ 316863 │ 0.0101646 │ \"TACK\" │ \"19\"      │ \"59\"  │ 14.0          │\n",
       "│ 316864 │ 0.0630757 │ \"THUS\" │ #NULL     │ \"38\"  │ #NULL         │\n",
       "│ 316865 │ 0.417579  │ \"NW\"   │ \"12\"      │ #NULL │ 7.0           │\n",
       "│ 316866 │ 0.0707435 │ \"PEST\" │ \"22\"      │ \"59\"  │ 17.0          │\n",
       "│ 316867 │ 0.322957  │ \"NW\"   │ \"12\"      │ #NULL │ 7.0           │\n",
       "│ 316868 │ 0.136254  │ \"THUS\" │ #NULL     │ \"38\"  │ #NULL         │\n",
       "│ 316869 │ 0.342832  │ \"NW\"   │ \"12\"      │ #NULL │ 7.0           │\n",
       "│ 316870 │ 0.152746  │ \"THUS\" │ #NULL     │ \"38\"  │ #NULL         │\n",
       "│ 316871 │ 0.19748   │ \"NW\"   │ \"12\"      │ #NULL │ 7.0           │\n",
       "\n",
       "│ Row    │ first.trial │ priorsWDS │ actsWDS  │ dec.FINAL │ unique │ old20 │\n",
       "├────────┼─────────────┼───────────┼──────────┼───────────┼────────┼───────┤\n",
       "│ 1      │ 1.0         │ 0.0       │ 0.0      │ \"NW\"      │ 0.0    │ 0.0   │\n",
       "│ 2      │ 1.0         │ 0.0       │ 0.0      │ \"NW\"      │ 0.0    │ 0.0   │\n",
       "│ 3      │ 1.0         │ 0.0       │ 0.0      │ \"NW\"      │ 2.0    │ #NULL │\n",
       "│ 4      │ 1.0         │ 0.0       │ 0.0      │ \"NW\"      │ 2.0    │ #NULL │\n",
       "│ 5      │ 1.0         │ 0.0       │ 0.0      │ \"NW\"      │ 3.0    │ #NULL │\n",
       "│ 6      │ 1.0         │ 0.36      │ 0.36     │ \"NW\"      │ 3.0    │ #NULL │\n",
       "│ 7      │ 1.0         │ 0.0       │ 0.0      │ \"W\"       │ 3.0    │ #NULL │\n",
       "│ 8      │ 1.0         │ 0.425038  │ 0.311505 │ \"NW\"      │ 3.0    │ #NULL │\n",
       "│ 9      │ 1.0         │ 0.0       │ 0.0      │ \"NW\"      │ 3.0    │ #NULL │\n",
       "│ 10     │ 1.0         │ 0.0       │ 0.0      │ \"W\"       │ 3.0    │ #NULL │\n",
       "│ 11     │ 1.0         │ 0.0       │ 0.0      │ \"NW\"      │ 4.0    │ #NULL │\n",
       "⋮\n",
       "│ 316860 │ 11130.0     │ 48.2858   │ 1.15619  │ \"NW\"      │ 111.0  │ 2.95  │\n",
       "│ 316861 │ 11131.0     │ 48.2573   │ 0.979915 │ \"NW\"      │ 111.0  │ 2.85  │\n",
       "│ 316862 │ 11133.0     │ 48.2605   │ 0.87239  │ \"NW\"      │ 111.0  │ 2.9   │\n",
       "│ 316863 │ 18717.0     │ 3.9062    │ 0.547241 │ \"W\"       │ 111.0  │ 2.5   │\n",
       "│ 316864 │ 61135.0     │ 0.0       │ 0.0      │ \"NW\"      │ 112.0  │ 2.85  │\n",
       "│ 316865 │ 11135.0     │ 48.2524   │ 0.811746 │ \"NW\"      │ 112.0  │ 2.7   │\n",
       "│ 316866 │ 21217.0     │ 4.93306   │ 0.234932 │ \"W\"       │ 112.0  │ 2.1   │\n",
       "│ 316867 │ 11136.0     │ 48.2434   │ 0.667542 │ \"W\"       │ 112.0  │ 2.75  │\n",
       "│ 316868 │ 61135.0     │ 0.399833  │ 0.327616 │ \"NW\"      │ 112.0  │ 2.85  │\n",
       "│ 316869 │ 11137.0     │ 48.2954   │ 0.838318 │ \"W\"       │ 112.0  │ 3.0   │\n",
       "│ 316870 │ 61135.0     │ 0.647918  │ 0.530961 │ \"NW\"      │ 112.0  │ 2.85  │\n",
       "│ 316871 │ 11139.0     │ 48.3093   │ 0.785433 │ \"W\"       │ 112.0  │ 2.5   │\n",
       "\n",
       "│ Row    │ Correct │ acc.f │ first.tri │ last.tri │ first.bi │ mid.bi │\n",
       "├────────┼─────────┼───────┼───────────┼──────────┼──────────┼────────┤\n",
       "│ 1      │ false   │ false │ \"TOR\"     │ \"ORE\"    │ \"TO\"     │ \"OR\"   │\n",
       "│ 2      │ true    │ true  │ \"EFT\"     │ \"FTD\"    │ \"EF\"     │ \"FT\"   │\n",
       "│ 3      │ false   │ false │ \"WEN\"     │ \"END\"    │ \"WE\"     │ \"EN\"   │\n",
       "│ 4      │ true    │ true  │ \"ULK\"     │ \"LKH\"    │ \"UL\"     │ \"LK\"   │\n",
       "│ 5      │ false   │ false │ \"BAN\"     │ \"ANG\"    │ \"BA\"     │ \"AN\"   │\n",
       "│ 6      │ false   │ false │ \"BAN\"     │ \"ANG\"    │ \"BA\"     │ \"AN\"   │\n",
       "│ 7      │ true    │ true  │ \"ULN\"     │ \"LNX\"    │ \"UL\"     │ \"LN\"   │\n",
       "│ 8      │ false   │ false │ \"TOR\"     │ \"ORE\"    │ \"TO\"     │ \"OR\"   │\n",
       "│ 9      │ true    │ true  │ \"PSH\"     │ \"SHA\"    │ \"PS\"     │ \"SH\"   │\n",
       "│ 10     │ true    │ true  │ \"AHM\"     │ \"HMF\"    │ \"AH\"     │ \"HM\"   │\n",
       "│ 11     │ false   │ false │ \"BOO\"     │ \"OOR\"    │ \"BO\"     │ \"OO\"   │\n",
       "⋮\n",
       "│ 316860 │ true    │ true  │ \"SUL\"     │ \"ULN\"    │ \"SU\"     │ \"UL\"   │\n",
       "│ 316861 │ true    │ true  │ \"VEC\"     │ \"ECS\"    │ \"VE\"     │ \"EC\"   │\n",
       "│ 316862 │ false   │ false │ \"NIR\"     │ \"IRK\"    │ \"NI\"     │ \"IR\"   │\n",
       "│ 316863 │ true    │ true  │ \"TAC\"     │ \"ACK\"    │ \"TA\"     │ \"AC\"   │\n",
       "│ 316864 │ false   │ false │ \"THU\"     │ \"HUS\"    │ \"TH\"     │ \"HU\"   │\n",
       "│ 316865 │ true    │ true  │ \"SES\"     │ \"ESC\"    │ \"SE\"     │ \"ES\"   │\n",
       "│ 316866 │ true    │ true  │ \"PES\"     │ \"EST\"    │ \"PE\"     │ \"ES\"   │\n",
       "│ 316867 │ true    │ true  │ \"VAR\"     │ \"ARV\"    │ \"VA\"     │ \"AR\"   │\n",
       "│ 316868 │ false   │ false │ \"THU\"     │ \"HUS\"    │ \"TH\"     │ \"HU\"   │\n",
       "│ 316869 │ true    │ true  │ \"ILS\"     │ \"LSS\"    │ \"IL\"     │ \"LS\"   │\n",
       "│ 316870 │ false   │ false │ \"THU\"     │ \"HUS\"    │ \"TH\"     │ \"HU\"   │\n",
       "│ 316871 │ true    │ true  │ \"SES\"     │ \"ESP\"    │ \"SE\"     │ \"ES\"   │\n",
       "\n",
       "│ Row    │ last.bi │ id.f   │ dec.GAM │ GAM      │ acc.gam │ GAM2      │\n",
       "├────────┼─────────┼────────┼─────────┼──────────┼─────────┼───────────┤\n",
       "│ 1      │ \"RE\"    │ \"TORE\" │ #NULL   │ 0.206237 │ 1.0     │ 0.259875  │\n",
       "│ 2      │ \"TD\"    │ \"NW\"   │ #NULL   │ 0.138874 │ 1.0     │ 0.107082  │\n",
       "│ 3      │ \"ND\"    │ \"WEND\" │ #NULL   │ 0.115141 │ 0.0     │ 0.0872251 │\n",
       "│ 4      │ \"KH\"    │ \"NW\"   │ #NULL   │ 0.138874 │ 0.0     │ 0.107082  │\n",
       "│ 5      │ \"NG\"    │ \"BANG\" │ #NULL   │ 0.112953 │ 0.0     │ 0.0869766 │\n",
       "│ 6      │ \"NG\"    │ \"BANG\" │ #NULL   │ 0.112953 │ 0.0     │ 0.146428  │\n",
       "│ 7      │ \"NX\"    │ \"NW\"   │ #NULL   │ 0.138874 │ 1.0     │ 0.209075  │\n",
       "│ 8      │ \"RE\"    │ \"TORE\" │ #NULL   │ 0.206237 │ 1.0     │ 0.163167  │\n",
       "│ 9      │ \"HA\"    │ \"NW\"   │ #NULL   │ 0.138874 │ 1.0     │ 0.107082  │\n",
       "│ 10     │ \"MF\"    │ \"NW\"   │ #NULL   │ 0.138874 │ 1.0     │ 0.209075  │\n",
       "│ 11     │ \"OR\"    │ \"BOOR\" │ #NULL   │ 0.225603 │ 1.0     │ 0.168775  │\n",
       "⋮\n",
       "│ 316860 │ \"LN\"    │ \"NW\"   │ #NULL   │ 0.107226 │ 1.0     │ 0.0957574 │\n",
       "│ 316861 │ \"CS\"    │ \"NW\"   │ #NULL   │ 0.107226 │ 0.0     │ 0.0957574 │\n",
       "│ 316862 │ \"RK\"    │ \"NW\"   │ #NULL   │ 0.107226 │ 1.0     │ 0.0957574 │\n",
       "│ 316863 │ \"CK\"    │ \"TACK\" │ #NULL   │ 0.620366 │ 0.0     │ 0.676423  │\n",
       "│ 316864 │ \"US\"    │ \"THUS\" │ #NULL   │ 0.36226  │ 0.0     │ 0.301941  │\n",
       "│ 316865 │ \"SC\"    │ \"NW\"   │ #NULL   │ 0.107226 │ 1.0     │ 0.0957574 │\n",
       "│ 316866 │ \"ST\"    │ \"PEST\" │ #NULL   │ 0.785315 │ 0.0     │ 0.74588   │\n",
       "│ 316867 │ \"RV\"    │ \"NW\"   │ #NULL   │ 0.107226 │ 1.0     │ 0.139363  │\n",
       "│ 316868 │ \"US\"    │ \"THUS\" │ #NULL   │ 0.36226  │ 0.0     │ 0.399232  │\n",
       "│ 316869 │ \"SS\"    │ \"NW\"   │ #NULL   │ 0.107226 │ 1.0     │ 0.139363  │\n",
       "│ 316870 │ \"US\"    │ \"THUS\" │ #NULL   │ 0.36226  │ 1.0     │ 0.399232  │\n",
       "│ 316871 │ \"SP\"    │ \"NW\"   │ #NULL   │ 0.107226 │ 0.0     │ 0.139363  │\n",
       "\n",
       "│ Row    │ dec.GAM2 │ acc.gam2 │\n",
       "├────────┼──────────┼──────────┤\n",
       "│ 1      │ \"NW\"     │ 0.0      │\n",
       "│ 2      │ \"NW\"     │ 1.0      │\n",
       "│ 3      │ \"NW\"     │ 0.0      │\n",
       "│ 4      │ \"NW\"     │ 1.0      │\n",
       "│ 5      │ \"NW\"     │ 0.0      │\n",
       "│ 6      │ \"NW\"     │ 0.0      │\n",
       "│ 7      │ \"W\"      │ 0.0      │\n",
       "│ 8      │ \"NW\"     │ 0.0      │\n",
       "│ 9      │ \"NW\"     │ 1.0      │\n",
       "│ 10     │ \"NW\"     │ 1.0      │\n",
       "│ 11     │ \"NW\"     │ 0.0      │\n",
       "⋮\n",
       "│ 316860 │ \"NW\"     │ 1.0      │\n",
       "│ 316861 │ \"NW\"     │ 1.0      │\n",
       "│ 316862 │ \"NW\"     │ 1.0      │\n",
       "│ 316863 │ \"W\"      │ 1.0      │\n",
       "│ 316864 │ \"NW\"     │ 0.0      │\n",
       "│ 316865 │ \"NW\"     │ 1.0      │\n",
       "│ 316866 │ \"W\"      │ 1.0      │\n",
       "│ 316867 │ \"NW\"     │ 1.0      │\n",
       "│ 316868 │ \"NW\"     │ 0.0      │\n",
       "│ 316869 │ \"NW\"     │ 1.0      │\n",
       "│ 316870 │ \"NW\"     │ 0.0      │\n",
       "│ 316871 │ \"NW\"     │ 1.0      │"
      ]
     },
     "execution_count": 10,
     "metadata": {},
     "output_type": "execute_result"
    }
   ],
   "source": [
    "@rget(baboon)"
   ]
  },
  {
   "cell_type": "code",
   "execution_count": 11,
   "metadata": {
    "collapsed": false
   },
   "outputs": [
    {
     "name": "stdout",
     "output_type": "stream",
     "text": [
      "ID                  Array{Int32,1}\n",
      "trial               Array{Int32,1}\n",
      "subject             CategoricalArrays.CategoricalArray{String,1,UInt32}\n",
      "stimulus            CategoricalArrays.CategoricalArray{String,1,UInt32}\n",
      "lex                 CategoricalArrays.CategoricalArray{String,1,UInt32}\n",
      "acc                 Array{Int32,1}\n",
      "Response            CategoricalArrays.CategoricalArray{String,1,UInt32}\n",
      "Outcomes            CategoricalArrays.CategoricalArray{String,1,UInt32}\n",
      "Block               Array{Float64,1}\n",
      "dec.HOG             CategoricalArrays.CategoricalArray{String,1,UInt32}\n",
      "dec.HOG.0           BitArray{1}\n",
      "actN                Array{Float64,1}\n",
      "actW                Array{Float64,1}\n",
      "priorN              Array{Float64,1}\n",
      "priorW              Array{Float64,1}\n",
      "first               BitArray{1}\n",
      "agr                 Array{Float64,1}\n",
      "acc.model           Array{Float64,1}\n",
      "diff                Array{Float64,1}\n",
      "diff.abs            Array{Float64,1}\n",
      "id                  CategoricalArrays.CategoricalArray{String,1,UInt32}\n",
      "first.app           CategoricalArrays.NullableCategoricalArray{String,1,UInt32}\n",
      "dist                CategoricalArrays.NullableCategoricalArray{String,1,UInt32}\n",
      "first.app.num       NullableArrays.NullableArray{Float64,1}\n",
      "first.trial         Array{Float64,1}\n",
      "priorsWDS           Array{Float64,1}\n",
      "actsWDS             Array{Float64,1}\n",
      "dec.FINAL           CategoricalArrays.CategoricalArray{String,1,UInt32}\n",
      "unique              Array{Float64,1}\n",
      "old20               NullableArrays.NullableArray{Float64,1}\n",
      "Correct             BitArray{1}\n",
      "acc.f               BitArray{1}\n",
      "first.tri           CategoricalArrays.CategoricalArray{String,1,UInt32}\n",
      "last.tri            CategoricalArrays.CategoricalArray{String,1,UInt32}\n",
      "first.bi            CategoricalArrays.CategoricalArray{String,1,UInt32}\n",
      "mid.bi              CategoricalArrays.CategoricalArray{String,1,UInt32}\n",
      "last.bi             CategoricalArrays.CategoricalArray{String,1,UInt32}\n",
      "id.f                CategoricalArrays.CategoricalArray{String,1,UInt32}\n",
      "dec.GAM             NullableArrays.NullableArray{Bool,1}\n",
      "GAM                 Array{Float64,1}\n",
      "acc.gam             Array{Float64,1}\n",
      "GAM2                Array{Float64,1}\n",
      "dec.GAM2            CategoricalArrays.CategoricalArray{String,1,UInt32}\n",
      "acc.gam2            Array{Float64,1}\n"
     ]
    }
   ],
   "source": [
    "for (n,v) in eachcol(baboon)\n",
    "    println(rpad(n, 20), typeof(v))\n",
    "end"
   ]
  },
  {
   "cell_type": "markdown",
   "metadata": {},
   "source": [
    "In Julia column names with embedded `.` characters must be quoted in an awkward way.  It is better to replace the `.` characters with `_`."
   ]
  },
  {
   "cell_type": "code",
   "execution_count": 13,
   "metadata": {
    "collapsed": false
   },
   "outputs": [
    {
     "name": "stdout",
     "output_type": "stream",
     "text": [
      "ID                  Array{Int32,1}\n",
      "trial               Array{Int32,1}\n",
      "subject             CategoricalArrays.CategoricalArray{String,1,UInt32}\n",
      "stimulus            CategoricalArrays.CategoricalArray{String,1,UInt32}\n",
      "lex                 CategoricalArrays.CategoricalArray{String,1,UInt32}\n",
      "acc                 Array{Int32,1}\n",
      "Response            CategoricalArrays.CategoricalArray{String,1,UInt32}\n",
      "Outcomes            CategoricalArrays.CategoricalArray{String,1,UInt32}\n",
      "Block               Array{Float64,1}\n",
      "dec_HOG             CategoricalArrays.CategoricalArray{String,1,UInt32}\n",
      "dec_HOG_0           DataArrays.DataArray{Int64,1}\n",
      "actN                Array{Float64,1}\n",
      "actW                Array{Float64,1}\n",
      "priorN              Array{Float64,1}\n",
      "priorW              Array{Float64,1}\n",
      "first               BitArray{1}\n",
      "agr                 Array{Float64,1}\n",
      "acc_model           Array{Float64,1}\n",
      "diff                Array{Float64,1}\n",
      "diff_abs            Array{Float64,1}\n",
      "id                  CategoricalArrays.CategoricalArray{String,1,UInt32}\n",
      "first_app           CategoricalArrays.NullableCategoricalArray{String,1,UInt32}\n",
      "dist                CategoricalArrays.NullableCategoricalArray{String,1,UInt32}\n",
      "first_app_num       NullableArrays.NullableArray{Float64,1}\n",
      "first_trial         Array{Float64,1}\n",
      "priorsWDS           Array{Float64,1}\n",
      "actsWDS             Array{Float64,1}\n",
      "dec_FINAL           CategoricalArrays.CategoricalArray{String,1,UInt32}\n",
      "unique              Array{Float64,1}\n",
      "old20               NullableArrays.NullableArray{Float64,1}\n",
      "Correct             BitArray{1}\n",
      "acc_f               BitArray{1}\n",
      "first_tri           CategoricalArrays.CategoricalArray{String,1,UInt32}\n",
      "last_tri            CategoricalArrays.CategoricalArray{String,1,UInt32}\n",
      "first_bi            CategoricalArrays.CategoricalArray{String,1,UInt32}\n",
      "mid_bi              CategoricalArrays.CategoricalArray{String,1,UInt32}\n",
      "last_bi             CategoricalArrays.CategoricalArray{String,1,UInt32}\n",
      "id_f                CategoricalArrays.CategoricalArray{String,1,UInt32}\n",
      "dec_GAM             NullableArrays.NullableArray{Bool,1}\n",
      "GAM                 Array{Float64,1}\n",
      "acc_gam             Array{Float64,1}\n",
      "GAM2                Array{Float64,1}\n",
      "dec_GAM2            CategoricalArrays.CategoricalArray{String,1,UInt32}\n",
      "acc_gam2            Array{Float64,1}\n"
     ]
    }
   ],
   "source": [
    "nms_ = [Symbol(replace(string(nm), '.', '_')) for nm in names(baboon)]\n",
    "names!(baboon, nms_)\n",
    "baboon[:dec_HOG_0] = convert(Vector{Int}, baboon[:dec_HOG_0])\n",
    "for (n,v) in eachcol(baboon)\n",
    "    println(rpad(n, 20), typeof(v))\n",
    "end"
   ]
  },
  {
   "cell_type": "code",
   "execution_count": 14,
   "metadata": {
    "collapsed": false
   },
   "outputs": [
    {
     "data": {
      "text/plain": [
       "Generalized Linear Mixed Model fit by minimizing the Laplace approximation to the deviance\n",
       "  Formula: acc ~ 1 + dec_HOG_0 + (1 | stimulus) + (1 | subject)\n",
       "  Distribution: Distributions.Bernoulli{Float64}\n",
       "  Link: GLM.LogitLink()\n",
       "\n",
       "  Deviance (Laplace approximation): 344103.0381\n",
       "\n",
       "Variance components:\n",
       "              Column     Variance   Std.Dev. \n",
       " stimulus (Intercept)  0.729003375 0.8538169\n",
       " subject  (Intercept)  0.019953879 0.1412582\n",
       "\n",
       " Number of obs: 316871; levels of grouping factors: 8139, 6\n",
       "\n",
       "Fixed-effects parameters:\n",
       "              Estimate Std.Error  z value P(>|z|)\n",
       "(Intercept)    1.06353 0.0587911  18.0901  <1e-72\n",
       "dec_HOG_0    -0.176357 0.0131468 -13.4144  <1e-40\n"
      ]
     },
     "execution_count": 14,
     "metadata": {},
     "output_type": "execute_result"
    }
   ],
   "source": [
    "mm1 = fit!(glmm(acc ~ 1 + dec_HOG_0 + (1 | stimulus) + (1 | subject), baboon, Bernoulli()))"
   ]
  },
  {
   "cell_type": "code",
   "execution_count": 15,
   "metadata": {
    "collapsed": false
   },
   "outputs": [
    {
     "name": "stdout",
     "output_type": "stream",
     "text": [
      " 16.931767 seconds (210.08 k allocations: 1.302 GB, 1.59% gc time)\n"
     ]
    },
    {
     "data": {
      "text/plain": [
       "Generalized Linear Mixed Model fit by minimizing the Laplace approximation to the deviance\n",
       "  Formula: acc ~ 1 + dec_HOG_0 + (1 | stimulus) + (1 | subject)\n",
       "  Distribution: Distributions.Bernoulli{Float64}\n",
       "  Link: GLM.LogitLink()\n",
       "\n",
       "  Deviance (Laplace approximation): 344103.8657\n",
       "\n",
       "Variance components:\n",
       "              Column     Variance   Std.Dev.  \n",
       " stimulus (Intercept)  0.728887359 0.85374900\n",
       " subject  (Intercept)  0.021818356 0.14771038\n",
       "\n",
       " Number of obs: 316871; levels of grouping factors: 8139, 6\n",
       "\n",
       "Fixed-effects parameters:\n",
       "              Estimate Std.Error  z value P(>|z|)\n",
       "(Intercept)    1.01788 0.0613767  16.5841  <1e-61\n",
       "dec_HOG_0    -0.169316 0.0131424 -12.8832  <1e-37\n"
      ]
     },
     "execution_count": 15,
     "metadata": {},
     "output_type": "execute_result"
    }
   ],
   "source": [
    "@time mm1a = fit!(glmm(\n",
    "acc ~ 1 + dec_HOG_0 + (1 | stimulus) + (1 | subject), baboon, Bernoulli()), fast = true)"
   ]
  },
  {
   "cell_type": "code",
   "execution_count": 16,
   "metadata": {
    "collapsed": false
   },
   "outputs": [
    {
     "data": {
      "text/plain": [
       "Initial parameter vector: [1.0,1.0]\n",
       "Initial objective value:  344296.1817233196\n",
       "\n",
       "Optimizer (from NLopt):   LN_BOBYQA\n",
       "Lower bounds:             [0.0,0.0]\n",
       "ftol_rel:                 1.0e-12\n",
       "ftol_abs:                 1.0e-8\n",
       "xtol_rel:                 0.0\n",
       "xtol_abs:                 [1.0e-10,1.0e-10]\n",
       "\n",
       "Function evaluations:     35\n",
       "Final parameter vector:   [0.853749,0.14771]\n",
       "Final objective value:    344103.86574724223\n",
       "Return code:              FTOL_REACHED\n"
      ]
     },
     "execution_count": 16,
     "metadata": {},
     "output_type": "execute_result"
    }
   ],
   "source": [
    "mm1a.LMM.optsum"
   ]
  },
  {
   "cell_type": "code",
   "execution_count": 18,
   "metadata": {
    "collapsed": false
   },
   "outputs": [
    {
     "name": "stdout",
     "output_type": "stream",
     "text": [
      " 55.617273 seconds (248.00 k allocations: 4.008 GB, 0.89% gc time)\n"
     ]
    },
    {
     "data": {
      "text/plain": [
       "Generalized Linear Mixed Model fit by minimizing the Laplace approximation to the deviance\n",
       "  Formula: acc ~ 1 + dec_HOG_0 + (1 | stimulus) + (1 | subject)\n",
       "  Distribution: Distributions.Bernoulli{Float64}\n",
       "  Link: GLM.LogitLink()\n",
       "\n",
       "  Deviance (Laplace approximation): 344103.0381\n",
       "\n",
       "Variance components:\n",
       "              Column     Variance   Std.Dev. \n",
       " stimulus (Intercept)  0.729003375 0.8538169\n",
       " subject  (Intercept)  0.019953879 0.1412582\n",
       "\n",
       " Number of obs: 316871; levels of grouping factors: 8139, 6\n",
       "\n",
       "Fixed-effects parameters:\n",
       "              Estimate Std.Error  z value P(>|z|)\n",
       "(Intercept)    1.06353 0.0587911  18.0901  <1e-72\n",
       "dec_HOG_0    -0.176357 0.0131468 -13.4144  <1e-40\n"
      ]
     },
     "execution_count": 18,
     "metadata": {},
     "output_type": "execute_result"
    }
   ],
   "source": [
    "@time mm1 = fit!(glmm(\n",
    "    acc ~ 1 + dec_HOG_0 + (1 | stimulus) + (1 | subject), baboon, Bernoulli()))"
   ]
  },
  {
   "cell_type": "code",
   "execution_count": 19,
   "metadata": {
    "collapsed": false
   },
   "outputs": [
    {
     "data": {
      "text/plain": [
       "Initial parameter vector: [1.0,1.0]\n",
       "Initial objective value:  344295.9382916122\n",
       "\n",
       "Optimizer (from NLopt):   LN_BOBYQA\n",
       "Lower bounds:             [0.0,0.0]\n",
       "ftol_rel:                 1.0e-12\n",
       "ftol_abs:                 1.0e-8\n",
       "xtol_rel:                 0.0\n",
       "xtol_abs:                 [1.0e-10,1.0e-10]\n",
       "\n",
       "Function evaluations:     81\n",
       "Final parameter vector:   [1.06353,-0.176357,0.853817,0.141258]\n",
       "Final objective value:    344103.03806697327\n",
       "Return code:              FTOL_REACHED\n"
      ]
     },
     "execution_count": 19,
     "metadata": {},
     "output_type": "execute_result"
    }
   ],
   "source": [
    "mm1.LMM.optsum"
   ]
  },
  {
   "cell_type": "code",
   "execution_count": 20,
   "metadata": {
    "collapsed": false
   },
   "outputs": [
    {
     "name": "stdout",
     "output_type": "stream",
     "text": [
      "369.137164 seconds (137.69 M allocations: 72.137 GB, 2.48% gc time)\n"
     ]
    },
    {
     "data": {
      "text/plain": [
       "Generalized Linear Mixed Model fit by minimizing the Laplace approximation to the deviance\n",
       "  Formula: acc ~ 1 + dec_HOG_0 + (1 | stimulus) + (1 | first_tri) + (1 | last_tri) + (1 | subject)\n",
       "  Distribution: Distributions.Bernoulli{Float64}\n",
       "  Link: GLM.LogitLink()\n",
       "\n",
       "  Deviance (Laplace approximation): 337966.5911\n",
       "\n",
       "Variance components:\n",
       "               Column     Variance   Std.Dev.  \n",
       " stimulus  (Intercept)  0.016587106 0.12879094\n",
       " first_tri (Intercept)  0.225344613 0.47470476\n",
       " last_tri  (Intercept)  0.331961738 0.57616121\n",
       " subject   (Intercept)  0.021963997 0.14820255\n",
       "\n",
       " Number of obs: 316871; levels of grouping factors: 8139, 1991, 1539, 6\n",
       "\n",
       "Fixed-effects parameters:\n",
       "              Estimate Std.Error  z value P(>|z|)\n",
       "(Intercept)    1.09765 0.0648028  16.9383  <1e-63\n",
       "dec_HOG_0    -0.132323 0.0130988 -10.1019  <1e-23\n"
      ]
     },
     "execution_count": 20,
     "metadata": {},
     "output_type": "execute_result"
    }
   ],
   "source": [
    "@time mm2 = fit!(glmm(\n",
    "    acc ~ 1 + dec_HOG_0 + (1 | stimulus) + (1 | first_tri) + (1 | last_tri) + (1 | subject),\n",
    "    baboon, Bernoulli()))"
   ]
  }
 ],
 "metadata": {
  "kernelspec": {
   "display_name": "Julia 0.5.0",
   "language": "julia",
   "name": "julia-0.5"
  },
  "language_info": {
   "file_extension": ".jl",
   "mimetype": "application/julia",
   "name": "julia",
   "version": "0.5.0"
  }
 },
 "nbformat": 4,
 "nbformat_minor": 2
}
