{
 "cells": [
  {
   "cell_type": "markdown",
   "metadata": {},
   "source": [
    "# Representation of mixed-effects models\n",
    "\n",
    "The representation of a linear mixed-effects model\n",
    "```jl\n",
    "type LinearMixedModel{T <: AbstractFloat} <: MixedModel\n",
    "    formula::Formula\n",
    "    mf::ModelFrame\n",
    "    wttrms::Vector\n",
    "    trms::Vector\n",
    "    sqrtwts::Diagonal{T}\n",
    "    Λ::Vector\n",
    "    A::Hermitian\n",
    "    L::LowerTriangular\n",
    "    optsum::OptSummary{T}\n",
    "end\n",
    "```\n",
    "underlies all the other types of mixed-effects models. The members of this struct are\n",
    "* `formula`: the formula for the model\n",
    "* `mf`: the model frame, the `terms` component for labelling fixed effects\n",
    "* `wttrms`: a length `nt` vector of weighted model matrices. The last two elements are `X` and `y`.\n",
    "* `trms`: a vector of unweighted model matrices.  If `isempty(sqrtwts)` the same object as `wttrms`\n",
    "* `Λ`: a length `nt - 2` vector of lower triangular matrices\n",
    "* `sqrtwts`: the `Diagonal` matrix of the square roots of the case weights.  Allowed to be size 0\n",
    "* `A`: a Hermitian blocked matrix representing `hcat(Z,X,y)'hcat(Z,X,y)`\n",
    "* `L`: a LowerTriangular blocked matrix - the Cholesky factor of `Λ'AΛ+I`\n",
    "* `opt`: an [`OptSummary`](@ref) object\n",
    "\n",
    "If there are no case weights then the size of `sqrtwts` is $0\\times 0$ and `wttrms` is the same as `trms`.  To describe the other components, it is helpful to consider a few simple examples.\n",
    "\n",
    "## A model with a single, scalar random-effects term"
   ]
  },
  {
   "cell_type": "code",
   "execution_count": 1,
   "metadata": {
    "collapsed": false
   },
   "outputs": [],
   "source": [
    "using Feather, LinearAlgebra, MixedModels"
   ]
  },
  {
   "cell_type": "code",
   "execution_count": 2,
   "metadata": {
    "collapsed": false
   },
   "outputs": [],
   "source": [
    "dsfilename = Pkg.dir(\"MixedModels\", \"test\", \"data\", \"Dyestuff.feather\")\n",
    "dyestuff = Feather.read(dsfilename, nullable = false);"
   ]
  },
  {
   "cell_type": "code",
   "execution_count": 3,
   "metadata": {
    "collapsed": false
   },
   "outputs": [],
   "source": [
    "m1 = lmm(Yield ~ 1 + (1 | Batch), dyestuff);"
   ]
  },
  {
   "cell_type": "markdown",
   "metadata": {},
   "source": [
    "In the model formula there are three terms: the _response term_, `Yield`, the _Intercept_ term, `1`, which is part of the fixed-effects, and the scalar random-effects term, `(1 | Batch)`.  Random-effects terms consist of an expression on the left-hand side of the `|`, which is evaluated as a model matrix, and an expression on the right hand side: `Batch`, in this case, which is evaluated to a categorical array called the _grouping factor_ for the term.  When the left-hand side evaluates to a model matrix with a single column, as it does here, the term is said to be a _scalar random-effects term_.\n",
    "\n",
    "The `trms` member contains these three terms in the order `random-effects`, `fixed-effects`, `response`."
   ]
  },
  {
   "cell_type": "code",
   "execution_count": 4,
   "metadata": {
    "collapsed": false
   },
   "outputs": [
    {
     "data": {
      "text/plain": [
       "3-element Array{Any,1}:\n",
       " MixedModels.ScalarReMat{Float64,String,Int32}(CategoricalArrays.CategoricalValue{String,Int32}[\"A\",\"A\",\"A\",\"A\",\"A\",\"B\",\"B\",\"B\",\"B\",\"B\"  …  \"E\",\"E\",\"E\",\"E\",\"E\",\"F\",\"F\",\"F\",\"F\",\"F\"],[1.0,1.0,1.0,1.0,1.0,1.0,1.0,1.0,1.0,1.0  …  1.0,1.0,1.0,1.0,1.0,1.0,1.0,1.0,1.0,1.0],:Batch,String[\"(Intercept)\"])\n",
       " [1.0; 1.0; … ; 1.0; 1.0]                                                                                                                                                                                                                                                                               \n",
       " [1545.0; 1440.0; … ; 1480.0; 1445.0]                                                                                                                                                                                                                                                                   "
      ]
     },
     "execution_count": 4,
     "metadata": {},
     "output_type": "execute_result"
    }
   ],
   "source": [
    "m1.trms"
   ]
  },
  {
   "cell_type": "markdown",
   "metadata": {},
   "source": [
    "The `ScalarReMat` is a compact representation of the _indicator matrix_ for the grouping factor.  Its columns are indicators of the 6 levels of the grouping factor, `Batch`."
   ]
  },
  {
   "cell_type": "code",
   "execution_count": 5,
   "metadata": {
    "collapsed": false
   },
   "outputs": [
    {
     "data": {
      "text/plain": [
       "30×6 Array{Float64,2}:\n",
       " 1.0  0.0  0.0  0.0  0.0  0.0\n",
       " 1.0  0.0  0.0  0.0  0.0  0.0\n",
       " 1.0  0.0  0.0  0.0  0.0  0.0\n",
       " 1.0  0.0  0.0  0.0  0.0  0.0\n",
       " 1.0  0.0  0.0  0.0  0.0  0.0\n",
       " 0.0  1.0  0.0  0.0  0.0  0.0\n",
       " 0.0  1.0  0.0  0.0  0.0  0.0\n",
       " 0.0  1.0  0.0  0.0  0.0  0.0\n",
       " 0.0  1.0  0.0  0.0  0.0  0.0\n",
       " 0.0  1.0  0.0  0.0  0.0  0.0\n",
       " 0.0  0.0  1.0  0.0  0.0  0.0\n",
       " 0.0  0.0  1.0  0.0  0.0  0.0\n",
       " 0.0  0.0  1.0  0.0  0.0  0.0\n",
       " ⋮                        ⋮  \n",
       " 0.0  0.0  0.0  1.0  0.0  0.0\n",
       " 0.0  0.0  0.0  1.0  0.0  0.0\n",
       " 0.0  0.0  0.0  0.0  1.0  0.0\n",
       " 0.0  0.0  0.0  0.0  1.0  0.0\n",
       " 0.0  0.0  0.0  0.0  1.0  0.0\n",
       " 0.0  0.0  0.0  0.0  1.0  0.0\n",
       " 0.0  0.0  0.0  0.0  1.0  0.0\n",
       " 0.0  0.0  0.0  0.0  0.0  1.0\n",
       " 0.0  0.0  0.0  0.0  0.0  1.0\n",
       " 0.0  0.0  0.0  0.0  0.0  1.0\n",
       " 0.0  0.0  0.0  0.0  0.0  1.0\n",
       " 0.0  0.0  0.0  0.0  0.0  1.0"
      ]
     },
     "execution_count": 5,
     "metadata": {},
     "output_type": "execute_result"
    }
   ],
   "source": [
    "full(m1.trms[1])"
   ]
  },
  {
   "cell_type": "markdown",
   "metadata": {},
   "source": [
    "The `A` member is a blocked matrix with $3$ blocks in each dimension, corresponding to the 3 terms.  The $(i, j)$ block is `m1.trms[i]'m1.trms[j]`  Because of symmetry only the blocks in the lower triangle are stored explicitly.  (Generally the term _Hermitian_ is used in Julia rather than _symmetric_ even for real-valued matrices, where they are synonyms.)"
   ]
  },
  {
   "cell_type": "code",
   "execution_count": 6,
   "metadata": {
    "collapsed": false
   },
   "outputs": [
    {
     "data": {
      "text/plain": [
       "6×6 Diagonal{Float64}:\n",
       " 5.0   ⋅    ⋅    ⋅    ⋅    ⋅ \n",
       "  ⋅   5.0   ⋅    ⋅    ⋅    ⋅ \n",
       "  ⋅    ⋅   5.0   ⋅    ⋅    ⋅ \n",
       "  ⋅    ⋅    ⋅   5.0   ⋅    ⋅ \n",
       "  ⋅    ⋅    ⋅    ⋅   5.0   ⋅ \n",
       "  ⋅    ⋅    ⋅    ⋅    ⋅   5.0"
      ]
     },
     "execution_count": 6,
     "metadata": {},
     "output_type": "execute_result"
    }
   ],
   "source": [
    "m1.A[1, 1]"
   ]
  },
  {
   "cell_type": "code",
   "execution_count": 7,
   "metadata": {
    "collapsed": false
   },
   "outputs": [
    {
     "data": {
      "text/plain": [
       "1×6 Array{Float64,2}:\n",
       " 5.0  5.0  5.0  5.0  5.0  5.0"
      ]
     },
     "execution_count": 7,
     "metadata": {},
     "output_type": "execute_result"
    }
   ],
   "source": [
    "m1.A[2, 1]"
   ]
  },
  {
   "cell_type": "code",
   "execution_count": 8,
   "metadata": {
    "collapsed": false
   },
   "outputs": [
    {
     "data": {
      "text/plain": [
       "1×1 Array{Float64,2}:\n",
       " 30.0"
      ]
     },
     "execution_count": 8,
     "metadata": {},
     "output_type": "execute_result"
    }
   ],
   "source": [
    "m1.A[2, 2]"
   ]
  },
  {
   "cell_type": "code",
   "execution_count": 9,
   "metadata": {
    "collapsed": false
   },
   "outputs": [
    {
     "data": {
      "text/plain": [
       "1×6 Array{Float64,2}:\n",
       " 7525.0  7640.0  7820.0  7490.0  8000.0  7350.0"
      ]
     },
     "execution_count": 9,
     "metadata": {},
     "output_type": "execute_result"
    }
   ],
   "source": [
    "m1.A[3, 1]"
   ]
  },
  {
   "cell_type": "code",
   "execution_count": 10,
   "metadata": {
    "collapsed": false
   },
   "outputs": [
    {
     "data": {
      "text/plain": [
       "1×1 Array{Float64,2}:\n",
       " 45825.0"
      ]
     },
     "execution_count": 10,
     "metadata": {},
     "output_type": "execute_result"
    }
   ],
   "source": [
    "m1.A[3, 2]"
   ]
  },
  {
   "cell_type": "code",
   "execution_count": 11,
   "metadata": {
    "collapsed": false
   },
   "outputs": [
    {
     "data": {
      "text/plain": [
       "1×1 Array{Float64,2}:\n",
       " 7.01129e7"
      ]
     },
     "execution_count": 11,
     "metadata": {},
     "output_type": "execute_result"
    }
   ],
   "source": [
    "m1.A[3, 3]"
   ]
  },
  {
   "cell_type": "markdown",
   "metadata": {},
   "source": [
    "Blocks on the diagonal of `A` will be positive-semi-definite Hermitian matrices.  More importantly, diagonal blocks corresponding to scalar random-effects terms are diagonal matrices.\n",
    "\n",
    "The `Λ` member is a vector of lower-triangular matrices whose values are modified during the iterations.  They correspond to the random-effects terms.  In the case of a scalar random-effects term, the corresponding element of `Λ` is a multiple of the identity.  The multiple is the parameter $\\theta$ over which the log-likelihood is optimized."
   ]
  },
  {
   "cell_type": "code",
   "execution_count": 12,
   "metadata": {
    "collapsed": false
   },
   "outputs": [
    {
     "data": {
      "text/plain": [
       "1-element Array{UniformScaling{Float64},1}:\n",
       " UniformScaling{Float64}\n",
       "1.0*I"
      ]
     },
     "execution_count": 12,
     "metadata": {},
     "output_type": "execute_result"
    }
   ],
   "source": [
    "m1.Λ"
   ]
  },
  {
   "cell_type": "code",
   "execution_count": 13,
   "metadata": {
    "collapsed": false
   },
   "outputs": [
    {
     "data": {
      "text/plain": [
       "1-element Array{UniformScaling{Float64},1}:\n",
       " UniformScaling{Float64}\n",
       "0.75258*I"
      ]
     },
     "execution_count": 13,
     "metadata": {},
     "output_type": "execute_result"
    }
   ],
   "source": [
    "setθ!(m1, [0.75258]);\n",
    "m1.Λ"
   ]
  },
  {
   "cell_type": "markdown",
   "metadata": {},
   "source": [
    "After setting a value of $\\theta$ the blocked lower Cholesky is updated.\n",
    "```jl\n",
    "function cholBlocked!{T}(m::LinearMixedModel{T})\n",
    "    A, Λ, L = m.A.data.blocks, m.Λ, m.L.data.blocks\n",
    "    n = LinAlg.checksquare(A)\n",
    "    for j in 1:n, i in j:n\n",
    "        inject!(L[i, j], A[i, j])  # like copy! but L can be more general than A\n",
    "    end\n",
    "    for (j, λ) in enumerate(Λ)\n",
    "        for i in j:n\n",
    "            A_mul_B!(L[i, j], λ)\n",
    "        end\n",
    "        for jj in 1:j\n",
    "            Ac_mul_B!(λ, L[j, jj])\n",
    "        end\n",
    "        L[j, j] += I\n",
    "    end\n",
    "    for j in 1:n\n",
    "        Ljj = L[j, j]\n",
    "        cholUnblocked!(Ljj, Val{:L})\n",
    "        Ljjlt = isa(Ljj, Diagonal) ? Ljj : LowerTriangular(Ljj)\n",
    "        for i in (j + 1):n\n",
    "            LinAlg.A_rdiv_Bc!(L[i, j], Ljjlt)\n",
    "        end\n",
    "        for i in (j + 1):n\n",
    "            Lij = L[i, j]\n",
    "            Lii = L[i, i]\n",
    "            rankUpdate!(-one(T), Lij, isa(Lii, Diagonal) ? Lii : Hermitian(Lii, :L))\n",
    "            for jj in (i + 1):n\n",
    "                A_mul_Bc!(-one(T), L[jj, j], Lij, one(T), L[jj, i])\n",
    "            end\n",
    "        end\n",
    "    end\n",
    "    m\n",
    "end\n",
    "```"
   ]
  }
 ],
 "metadata": {
  "kernelspec": {
   "display_name": "Julia 0.5.0",
   "language": "julia",
   "name": "julia-0.5"
  },
  "language_info": {
   "file_extension": ".jl",
   "mimetype": "application/julia",
   "name": "julia",
   "version": "0.5.0"
  }
 },
 "nbformat": 4,
 "nbformat_minor": 2
}
