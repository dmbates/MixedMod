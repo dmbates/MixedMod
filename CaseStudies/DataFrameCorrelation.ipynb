{
 "cells": [
  {
   "cell_type": "markdown",
   "metadata": {},
   "source": [
    "# Correlation of numeric columns\n",
    "\n",
    "Recently a colleague who works with very large data frames (millions of rows, hundreds of columns) mentioned that one task, evaluating a correlation matrix of the numeric columns, was taking a long time.\n",
    "\n",
    "`DataFrame` columns may be `Array`s or `DataArrays.DataArray`s or, more recently, `NullableArray`s or `CategoricalArray`s or `DataArrays.PooledDataArray`s.  All of these are \"parameterized types\".  That is, they are array-like containers, the contents of which could be numeric or character strings or ...\n",
    "\n",
    "The objective is a function that takes two arguments, a `DataFrame` and a (possibly empty) vector of names (as `Symbol`s) of columns to consider.  If the vector of names is empty then all columns are considered.\n",
    "\n",
    "First load the packages to be used"
   ]
  },
  {
   "cell_type": "code",
   "execution_count": 1,
   "metadata": {
    "collapsed": false
   },
   "outputs": [],
   "source": [
    "using BenchmarkTools, DataFrames, NamedArrays, RCall"
   ]
  },
  {
   "cell_type": "markdown",
   "metadata": {},
   "source": [
    "Before creating the final function consider the task of determining if a column is \"numeric\".  This, obviously, is based on the column type not the contents.  It is common to write a *predicate function*, which just means a function that returns `true` or `false`, in such cases.  The default predicate is `false`.  Other methods are defined for the types we wish to consider as *numeric*.  The definitions are easier than the explanations."
   ]
  },
  {
   "cell_type": "code",
   "execution_count": 2,
   "metadata": {
    "collapsed": false
   },
   "outputs": [
    {
     "data": {
      "text/plain": [
       "isnumeric (generic function with 2 methods)"
      ]
     },
     "execution_count": 2,
     "metadata": {},
     "output_type": "execute_result"
    }
   ],
   "source": [
    "isnumeric{T<:Number}(::AbstractArray{T}) = true\n",
    "isnumeric(::Any) = false"
   ]
  },
  {
   "cell_type": "markdown",
   "metadata": {},
   "source": [
    "The second method will be the default.  The first method overrides the second for any type of array of numbers.\n",
    "\n",
    "To provide an example data frame"
   ]
  },
  {
   "cell_type": "code",
   "execution_count": 3,
   "metadata": {
    "collapsed": false
   },
   "outputs": [
    {
     "name": "stderr",
     "output_type": "stream",
     "text": [
      "WARNING: RCall.jl: Loading required package: lme4\n",
      "Loading required package: Matrix\n"
     ]
    },
    {
     "data": {
      "text/html": [
       "<table class=\"data-frame\"><thead><tr><th></th><th>lea</th><th>school</th><th>student</th><th>score</th><th>gender</th><th>age</th><th>gcsescore</th><th>gcsecnt</th></tr></thead><tbody><tr><th>1</th><td>CategoricalArrays.CategoricalValue{String,UInt32} \"1\"</td><td>CategoricalArrays.CategoricalValue{String,UInt32} \"1\"</td><td>CategoricalArrays.CategoricalValue{String,UInt32} \"1\"</td><td>4.0</td><td>CategoricalArrays.CategoricalValue{String,UInt32} \"F\"</td><td>3.0</td><td>6.625</td><td>0.3393157114303298</td></tr><tr><th>2</th><td>CategoricalArrays.CategoricalValue{String,UInt32} \"1\"</td><td>CategoricalArrays.CategoricalValue{String,UInt32} \"1\"</td><td>CategoricalArrays.CategoricalValue{String,UInt32} \"2\"</td><td>10.0</td><td>CategoricalArrays.CategoricalValue{String,UInt32} \"F\"</td><td>-3.0</td><td>7.625</td><td>1.3393157114303298</td></tr><tr><th>3</th><td>CategoricalArrays.CategoricalValue{String,UInt32} \"1\"</td><td>CategoricalArrays.CategoricalValue{String,UInt32} \"1\"</td><td>CategoricalArrays.CategoricalValue{String,UInt32} \"3\"</td><td>10.0</td><td>CategoricalArrays.CategoricalValue{String,UInt32} \"F\"</td><td>-4.0</td><td>7.25</td><td>0.9643157114303298</td></tr><tr><th>4</th><td>CategoricalArrays.CategoricalValue{String,UInt32} \"1\"</td><td>CategoricalArrays.CategoricalValue{String,UInt32} \"1\"</td><td>CategoricalArrays.CategoricalValue{String,UInt32} \"4\"</td><td>10.0</td><td>CategoricalArrays.CategoricalValue{String,UInt32} \"F\"</td><td>-2.0</td><td>7.5</td><td>1.2143157114303298</td></tr><tr><th>5</th><td>CategoricalArrays.CategoricalValue{String,UInt32} \"1\"</td><td>CategoricalArrays.CategoricalValue{String,UInt32} \"1\"</td><td>CategoricalArrays.CategoricalValue{String,UInt32} \"5\"</td><td>8.0</td><td>CategoricalArrays.CategoricalValue{String,UInt32} \"F\"</td><td>-1.0</td><td>6.444</td><td>0.15831571143032974</td></tr><tr><th>6</th><td>CategoricalArrays.CategoricalValue{String,UInt32} \"1\"</td><td>CategoricalArrays.CategoricalValue{String,UInt32} \"1\"</td><td>CategoricalArrays.CategoricalValue{String,UInt32} \"6\"</td><td>10.0</td><td>CategoricalArrays.CategoricalValue{String,UInt32} \"F\"</td><td>4.0</td><td>7.75</td><td>1.4643157114303298</td></tr><tr><th>7</th><td>CategoricalArrays.CategoricalValue{String,UInt32} \"1\"</td><td>CategoricalArrays.CategoricalValue{String,UInt32} \"1\"</td><td>CategoricalArrays.CategoricalValue{String,UInt32} \"7\"</td><td>6.0</td><td>CategoricalArrays.CategoricalValue{String,UInt32} \"F\"</td><td>1.0</td><td>6.75</td><td>0.4643157114303298</td></tr><tr><th>8</th><td>CategoricalArrays.CategoricalValue{String,UInt32} \"1\"</td><td>CategoricalArrays.CategoricalValue{String,UInt32} \"1\"</td><td>CategoricalArrays.CategoricalValue{String,UInt32} \"8\"</td><td>8.0</td><td>CategoricalArrays.CategoricalValue{String,UInt32} \"F\"</td><td>4.0</td><td>6.909</td><td>0.6233157114303296</td></tr><tr><th>9</th><td>CategoricalArrays.CategoricalValue{String,UInt32} \"1\"</td><td>CategoricalArrays.CategoricalValue{String,UInt32} \"1\"</td><td>CategoricalArrays.CategoricalValue{String,UInt32} \"9\"</td><td>4.0</td><td>CategoricalArrays.CategoricalValue{String,UInt32} \"F\"</td><td>3.0</td><td>6.375</td><td>0.08931571143032979</td></tr><tr><th>10</th><td>CategoricalArrays.CategoricalValue{String,UInt32} \"1\"</td><td>CategoricalArrays.CategoricalValue{String,UInt32} \"1\"</td><td>CategoricalArrays.CategoricalValue{String,UInt32} \"10\"</td><td>10.0</td><td>CategoricalArrays.CategoricalValue{String,UInt32} \"F\"</td><td>0.0</td><td>7.75</td><td>1.4643157114303298</td></tr><tr><th>11</th><td>CategoricalArrays.CategoricalValue{String,UInt32} \"1\"</td><td>CategoricalArrays.CategoricalValue{String,UInt32} \"1\"</td><td>CategoricalArrays.CategoricalValue{String,UInt32} \"11\"</td><td>10.0</td><td>CategoricalArrays.CategoricalValue{String,UInt32} \"F\"</td><td>-1.0</td><td>7.857</td><td>1.57131571143033</td></tr><tr><th>12</th><td>CategoricalArrays.CategoricalValue{String,UInt32} \"1\"</td><td>CategoricalArrays.CategoricalValue{String,UInt32} \"1\"</td><td>CategoricalArrays.CategoricalValue{String,UInt32} \"12\"</td><td>8.0</td><td>CategoricalArrays.CategoricalValue{String,UInt32} \"F\"</td><td>1.0</td><td>7.333</td><td>1.04731571143033</td></tr><tr><th>13</th><td>CategoricalArrays.CategoricalValue{String,UInt32} \"1\"</td><td>CategoricalArrays.CategoricalValue{String,UInt32} \"1\"</td><td>CategoricalArrays.CategoricalValue{String,UInt32} \"13\"</td><td>10.0</td><td>CategoricalArrays.CategoricalValue{String,UInt32} \"F\"</td><td>1.0</td><td>7.75</td><td>1.4643157114303298</td></tr><tr><th>14</th><td>CategoricalArrays.CategoricalValue{String,UInt32} \"1\"</td><td>CategoricalArrays.CategoricalValue{String,UInt32} \"2\"</td><td>CategoricalArrays.CategoricalValue{String,UInt32} \"14\"</td><td>10.0</td><td>CategoricalArrays.CategoricalValue{String,UInt32} \"M\"</td><td>0.0</td><td>7.7</td><td>1.41431571143033</td></tr><tr><th>15</th><td>CategoricalArrays.CategoricalValue{String,UInt32} \"1\"</td><td>CategoricalArrays.CategoricalValue{String,UInt32} \"2\"</td><td>CategoricalArrays.CategoricalValue{String,UInt32} \"15\"</td><td>10.0</td><td>CategoricalArrays.CategoricalValue{String,UInt32} \"M\"</td><td>-4.0</td><td>6.3</td><td>0.014315711430329614</td></tr><tr><th>16</th><td>CategoricalArrays.CategoricalValue{String,UInt32} \"1\"</td><td>CategoricalArrays.CategoricalValue{String,UInt32} \"2\"</td><td>CategoricalArrays.CategoricalValue{String,UInt32} \"16\"</td><td>10.0</td><td>CategoricalArrays.CategoricalValue{String,UInt32} \"M\"</td><td>5.0</td><td>7.3</td><td>1.0143157114303296</td></tr><tr><th>17</th><td>CategoricalArrays.CategoricalValue{String,UInt32} \"1\"</td><td>CategoricalArrays.CategoricalValue{String,UInt32} \"2\"</td><td>CategoricalArrays.CategoricalValue{String,UInt32} \"17\"</td><td>8.0</td><td>CategoricalArrays.CategoricalValue{String,UInt32} \"M\"</td><td>-3.0</td><td>6.636</td><td>0.3503157114303299</td></tr><tr><th>18</th><td>CategoricalArrays.CategoricalValue{String,UInt32} \"1\"</td><td>CategoricalArrays.CategoricalValue{String,UInt32} \"2\"</td><td>CategoricalArrays.CategoricalValue{String,UInt32} \"18\"</td><td>10.0</td><td>CategoricalArrays.CategoricalValue{String,UInt32} \"M\"</td><td>4.0</td><td>7.272</td><td>0.98631571143033</td></tr><tr><th>19</th><td>CategoricalArrays.CategoricalValue{String,UInt32} \"1\"</td><td>CategoricalArrays.CategoricalValue{String,UInt32} \"2\"</td><td>CategoricalArrays.CategoricalValue{String,UInt32} \"19\"</td><td>10.0</td><td>CategoricalArrays.CategoricalValue{String,UInt32} \"M\"</td><td>0.0</td><td>7.2</td><td>0.91431571143033</td></tr><tr><th>20</th><td>CategoricalArrays.CategoricalValue{String,UInt32} \"1\"</td><td>CategoricalArrays.CategoricalValue{String,UInt32} \"2\"</td><td>CategoricalArrays.CategoricalValue{String,UInt32} \"20\"</td><td>4.0</td><td>CategoricalArrays.CategoricalValue{String,UInt32} \"M\"</td><td>-3.0</td><td>6.454</td><td>0.16831571143032953</td></tr><tr><th>21</th><td>CategoricalArrays.CategoricalValue{String,UInt32} \"1\"</td><td>CategoricalArrays.CategoricalValue{String,UInt32} \"2\"</td><td>CategoricalArrays.CategoricalValue{String,UInt32} \"21\"</td><td>6.0</td><td>CategoricalArrays.CategoricalValue{String,UInt32} \"M\"</td><td>4.0</td><td>6.818</td><td>0.5323157114303294</td></tr><tr><th>22</th><td>CategoricalArrays.CategoricalValue{String,UInt32} \"1\"</td><td>CategoricalArrays.CategoricalValue{String,UInt32} \"2\"</td><td>CategoricalArrays.CategoricalValue{String,UInt32} \"22\"</td><td>10.0</td><td>CategoricalArrays.CategoricalValue{String,UInt32} \"M\"</td><td>-5.0</td><td>7.3</td><td>1.0143157114303296</td></tr><tr><th>23</th><td>CategoricalArrays.CategoricalValue{String,UInt32} \"1\"</td><td>CategoricalArrays.CategoricalValue{String,UInt32} \"2\"</td><td>CategoricalArrays.CategoricalValue{String,UInt32} \"23\"</td><td>2.0</td><td>CategoricalArrays.CategoricalValue{String,UInt32} \"M\"</td><td>-1.0</td><td>6.2</td><td>-0.08568428856967003</td></tr><tr><th>24</th><td>CategoricalArrays.CategoricalValue{String,UInt32} \"1\"</td><td>CategoricalArrays.CategoricalValue{String,UInt32} \"2\"</td><td>CategoricalArrays.CategoricalValue{String,UInt32} \"24\"</td><td>10.0</td><td>CategoricalArrays.CategoricalValue{String,UInt32} \"M\"</td><td>-2.0</td><td>7.111</td><td>0.8253157114303296</td></tr><tr><th>25</th><td>CategoricalArrays.CategoricalValue{String,UInt32} \"1\"</td><td>CategoricalArrays.CategoricalValue{String,UInt32} \"2\"</td><td>CategoricalArrays.CategoricalValue{String,UInt32} \"25\"</td><td>10.0</td><td>CategoricalArrays.CategoricalValue{String,UInt32} \"M\"</td><td>2.0</td><td>6.8</td><td>0.5143157114303296</td></tr><tr><th>26</th><td>CategoricalArrays.CategoricalValue{String,UInt32} \"1\"</td><td>CategoricalArrays.CategoricalValue{String,UInt32} \"2\"</td><td>CategoricalArrays.CategoricalValue{String,UInt32} \"26\"</td><td>8.0</td><td>CategoricalArrays.CategoricalValue{String,UInt32} \"M\"</td><td>-4.0</td><td>6.5</td><td>0.2143157114303298</td></tr><tr><th>27</th><td>CategoricalArrays.CategoricalValue{String,UInt32} \"1\"</td><td>CategoricalArrays.CategoricalValue{String,UInt32} \"2\"</td><td>CategoricalArrays.CategoricalValue{String,UInt32} \"27\"</td><td>10.0</td><td>CategoricalArrays.CategoricalValue{String,UInt32} \"M\"</td><td>-5.0</td><td>6.727</td><td>0.4413157114303301</td></tr><tr><th>28</th><td>CategoricalArrays.CategoricalValue{String,UInt32} \"1\"</td><td>CategoricalArrays.CategoricalValue{String,UInt32} \"2\"</td><td>CategoricalArrays.CategoricalValue{String,UInt32} \"28\"</td><td>6.0</td><td>CategoricalArrays.CategoricalValue{String,UInt32} \"M\"</td><td>-6.0</td><td>7.0</td><td>0.7143157114303298</td></tr><tr><th>29</th><td>CategoricalArrays.CategoricalValue{String,UInt32} \"1\"</td><td>CategoricalArrays.CategoricalValue{String,UInt32} \"2\"</td><td>CategoricalArrays.CategoricalValue{String,UInt32} \"29\"</td><td>10.0</td><td>CategoricalArrays.CategoricalValue{String,UInt32} \"M\"</td><td>-2.0</td><td>7.7</td><td>1.41431571143033</td></tr><tr><th>30</th><td>CategoricalArrays.CategoricalValue{String,UInt32} \"1\"</td><td>CategoricalArrays.CategoricalValue{String,UInt32} \"2\"</td><td>CategoricalArrays.CategoricalValue{String,UInt32} \"30\"</td><td>10.0</td><td>CategoricalArrays.CategoricalValue{String,UInt32} \"M\"</td><td>3.0</td><td>7.3</td><td>1.0143157114303296</td></tr><tr><th>&vellip;</th><td>&vellip;</td><td>&vellip;</td><td>&vellip;</td><td>&vellip;</td><td>&vellip;</td><td>&vellip;</td><td>&vellip;</td><td>&vellip;</td></tr></tbody></table>"
      ],
      "text/plain": [
       "31022×8 DataFrames.DataFrame\n",
       "│ Row   │ lea   │ school │ student │ score │ gender │ age  │ gcsescore │\n",
       "├───────┼───────┼────────┼─────────┼───────┼────────┼──────┼───────────┤\n",
       "│ 1     │ \"1\"   │ \"1\"    │ \"1\"     │ 4.0   │ \"F\"    │ 3.0  │ 6.625     │\n",
       "│ 2     │ \"1\"   │ \"1\"    │ \"2\"     │ 10.0  │ \"F\"    │ -3.0 │ 7.625     │\n",
       "│ 3     │ \"1\"   │ \"1\"    │ \"3\"     │ 10.0  │ \"F\"    │ -4.0 │ 7.25      │\n",
       "│ 4     │ \"1\"   │ \"1\"    │ \"4\"     │ 10.0  │ \"F\"    │ -2.0 │ 7.5       │\n",
       "│ 5     │ \"1\"   │ \"1\"    │ \"5\"     │ 8.0   │ \"F\"    │ -1.0 │ 6.444     │\n",
       "│ 6     │ \"1\"   │ \"1\"    │ \"6\"     │ 10.0  │ \"F\"    │ 4.0  │ 7.75      │\n",
       "│ 7     │ \"1\"   │ \"1\"    │ \"7\"     │ 6.0   │ \"F\"    │ 1.0  │ 6.75      │\n",
       "│ 8     │ \"1\"   │ \"1\"    │ \"8\"     │ 8.0   │ \"F\"    │ 4.0  │ 6.909     │\n",
       "│ 9     │ \"1\"   │ \"1\"    │ \"9\"     │ 4.0   │ \"F\"    │ 3.0  │ 6.375     │\n",
       "│ 10    │ \"1\"   │ \"1\"    │ \"10\"    │ 10.0  │ \"F\"    │ 0.0  │ 7.75      │\n",
       "│ 11    │ \"1\"   │ \"1\"    │ \"11\"    │ 10.0  │ \"F\"    │ -1.0 │ 7.857     │\n",
       "⋮\n",
       "│ 31011 │ \"131\" │ \"2410\" │ \"31011\" │ 8.0   │ \"M\"    │ 3.0  │ 6.222     │\n",
       "│ 31012 │ \"131\" │ \"2410\" │ \"31012\" │ 8.0   │ \"F\"    │ 5.0  │ 7.0       │\n",
       "│ 31013 │ \"131\" │ \"2410\" │ \"31013\" │ 4.0   │ \"M\"    │ 4.0  │ 5.2       │\n",
       "│ 31014 │ \"131\" │ \"2410\" │ \"31014\" │ 6.0   │ \"F\"    │ 0.0  │ 5.888     │\n",
       "│ 31015 │ \"131\" │ \"2410\" │ \"31015\" │ 8.0   │ \"F\"    │ 1.0  │ 7.666     │\n",
       "│ 31016 │ \"131\" │ \"2410\" │ \"31016\" │ 10.0  │ \"F\"    │ -2.0 │ 7.5       │\n",
       "│ 31017 │ \"131\" │ \"2410\" │ \"31017\" │ 4.0   │ \"M\"    │ 4.0  │ 6.222     │\n",
       "│ 31018 │ \"131\" │ \"2410\" │ \"31018\" │ 4.0   │ \"M\"    │ 5.0  │ 6.3       │\n",
       "│ 31019 │ \"131\" │ \"2410\" │ \"31019\" │ 0.0   │ \"M\"    │ 4.0  │ 4.9       │\n",
       "│ 31020 │ \"131\" │ \"2410\" │ \"31020\" │ 4.0   │ \"M\"    │ 2.0  │ 5.888     │\n",
       "│ 31021 │ \"131\" │ \"2410\" │ \"31021\" │ 10.0  │ \"F\"    │ 5.0  │ 7.7       │\n",
       "│ 31022 │ \"131\" │ \"2410\" │ \"31022\" │ 4.0   │ \"F\"    │ -3.0 │ 6.454     │\n",
       "\n",
       "│ Row   │ gcsecnt    │\n",
       "├───────┼────────────┤\n",
       "│ 1     │ 0.339316   │\n",
       "│ 2     │ 1.33932    │\n",
       "│ 3     │ 0.964316   │\n",
       "│ 4     │ 1.21432    │\n",
       "│ 5     │ 0.158316   │\n",
       "│ 6     │ 1.46432    │\n",
       "│ 7     │ 0.464316   │\n",
       "│ 8     │ 0.623316   │\n",
       "│ 9     │ 0.0893157  │\n",
       "│ 10    │ 1.46432    │\n",
       "│ 11    │ 1.57132    │\n",
       "⋮\n",
       "│ 31011 │ -0.0636843 │\n",
       "│ 31012 │ 0.714316   │\n",
       "│ 31013 │ -1.08568   │\n",
       "│ 31014 │ -0.397684  │\n",
       "│ 31015 │ 1.38032    │\n",
       "│ 31016 │ 1.21432    │\n",
       "│ 31017 │ -0.0636843 │\n",
       "│ 31018 │ 0.0143157  │\n",
       "│ 31019 │ -1.38568   │\n",
       "│ 31020 │ -0.397684  │\n",
       "│ 31021 │ 1.41432    │\n",
       "│ 31022 │ 0.168316   │"
      ]
     },
     "execution_count": 3,
     "metadata": {},
     "output_type": "execute_result"
    }
   ],
   "source": [
    "R\" library(mlmRev) \";\n",
    "chem97 = rcopy(\"Chem97\")  # at present this output is messy in IJulia"
   ]
  },
  {
   "cell_type": "code",
   "execution_count": 4,
   "metadata": {
    "collapsed": false
   },
   "outputs": [
    {
     "name": "stdout",
     "output_type": "stream",
     "text": [
      "lea       CategoricalArrays.CategoricalArray{String,1,UInt32}\n",
      "school    CategoricalArrays.CategoricalArray{String,1,UInt32}\n",
      "student   CategoricalArrays.CategoricalArray{String,1,UInt32}\n",
      "score     Array{Float64,1}\n",
      "gender    CategoricalArrays.CategoricalArray{String,1,UInt32}\n",
      "age       Array{Float64,1}\n",
      "gcsescore Array{Float64,1}\n",
      "gcsecnt   Array{Float64,1}\n"
     ]
    }
   ],
   "source": [
    "for (n, v) in eachcol(chem97)\n",
    "    println(rpad(n, 10), typeof(v))\n",
    "end"
   ]
  },
  {
   "cell_type": "code",
   "execution_count": 5,
   "metadata": {
    "collapsed": false
   },
   "outputs": [
    {
     "name": "stdout",
     "output_type": "stream",
     "text": [
      "Bool[false,false,false,true,false,true,true,true]"
     ]
    }
   ],
   "source": [
    "show(isnumeric.(chem97.columns))"
   ]
  },
  {
   "cell_type": "markdown",
   "metadata": {},
   "source": [
    "### Creating the intermediate array\n",
    "\n",
    "It is an advantage to create a numeric array from the numeric columns then evaluate the correlation matrix, possibly using the `cor` function.  To provide a default value for the names to consider, create two methods, the more general method and the special case.\n",
    "\n",
    "The more general method examines the columns in turn, using the `eachcol` iterator and appends them to a numeric vector if they satisfy the conditions.  Julia vectors allow for efficient extension by \"over-allocating\" on individual extensions.  (Don't try this in `R`.)\n",
    "\n",
    "The correlation matrix is created (using `cor`) as a named array and the names installed. "
   ]
  },
  {
   "cell_type": "code",
   "execution_count": 6,
   "metadata": {
    "collapsed": false
   },
   "outputs": [
    {
     "data": {
      "text/plain": [
       "dfcor (generic function with 2 methods)"
      ]
     },
     "execution_count": 6,
     "metadata": {},
     "output_type": "execute_result"
    }
   ],
   "source": [
    "dfcor(dfr::DataFrame) = dfcor(dfr, names(dfr))\n",
    "\n",
    "function dfcor(dfr::DataFrame, cols::Vector{Symbol})\n",
    "    nms = Symbol[]\n",
    "    arr = Float64[]\n",
    "    for (n, v) in eachcol(dfr)\n",
    "        if n ∈ cols && isnumeric(v)\n",
    "            push!(nms, n)\n",
    "            append!(arr, v)\n",
    "        end\n",
    "    end\n",
    "    result = NamedArray(cor(reshape(arr, (size(dfr, 1), length(nms)))))\n",
    "    NamedArrays.setnames!(result, string.(nms), 1)\n",
    "    NamedArrays.setnames!(result, string.(nms), 2)\n",
    "    result\n",
    "end"
   ]
  },
  {
   "cell_type": "code",
   "execution_count": 7,
   "metadata": {
    "collapsed": false
   },
   "outputs": [
    {
     "data": {
      "text/plain": [
       "4×4 Named Array{Float64,2}\n",
       "    A ╲ B │       score          age    gcsescore      gcsecnt\n",
       "──────────┼───────────────────────────────────────────────────\n",
       "score     │         1.0  -0.00362303     0.662248     0.662248\n",
       "age       │ -0.00362303          1.0    0.0519797    0.0519797\n",
       "gcsescore │    0.662248    0.0519797          1.0          1.0\n",
       "gcsecnt   │    0.662248    0.0519797          1.0          1.0"
      ]
     },
     "execution_count": 7,
     "metadata": {},
     "output_type": "execute_result"
    }
   ],
   "source": [
    "dfcor(chem97)"
   ]
  },
  {
   "cell_type": "code",
   "execution_count": 8,
   "metadata": {
    "collapsed": false
   },
   "outputs": [
    {
     "data": {
      "text/plain": [
       "3×3 Named Array{Float64,2}\n",
       "    A ╲ B │       score          age    gcsescore\n",
       "──────────┼──────────────────────────────────────\n",
       "score     │         1.0  -0.00362303     0.662248\n",
       "age       │ -0.00362303          1.0    0.0519797\n",
       "gcsescore │    0.662248    0.0519797          1.0"
      ]
     },
     "execution_count": 8,
     "metadata": {},
     "output_type": "execute_result"
    }
   ],
   "source": [
    "dfcor(chem97, [:lea, :score, :age, :gcsescore])"
   ]
  },
  {
   "cell_type": "markdown",
   "metadata": {},
   "source": [
    "## A super whiz-bang version of cor\n",
    "\n",
    "In its current state `dfcor` is perfectly adequate but some of us just can't leave well enough alone.  An alternative calculation of the correlation of the columns of the intermediate array is based on a QR factorization of the intermediate array, with a column of 1's prepended.  Without going in to the details, the effect of having a column of 1's (or any non-zero constant) as the first column is to subtract the column means from the other columns.  Then extract the upper triangular matrix R for the other columns, divide each column by its Euclidean length (the `norm` function) and create the `R'R` product.  Proof that this should work is left as an exercise for the reader.\n",
    "\n",
    "The point here is that the intermediate matrix is going to be constructed by appending columns so there is no penalty in starting with a column of ones."
   ]
  },
  {
   "cell_type": "code",
   "execution_count": 9,
   "metadata": {
    "collapsed": false
   },
   "outputs": [
    {
     "data": {
      "text/plain": [
       "dfcor1 (generic function with 2 methods)"
      ]
     },
     "execution_count": 9,
     "metadata": {},
     "output_type": "execute_result"
    }
   ],
   "source": [
    "dfcor1(dfr::DataFrame) = dfcor1(dfr, names(dfr))\n",
    "\n",
    "function dfcor1(dfr::DataFrame, cols::Vector{Symbol})\n",
    "    m = size(dfr, 1)\n",
    "    nms = Symbol[]\n",
    "    arr = ones(m)\n",
    "    for (n, v) in eachcol(dfr)\n",
    "        if n ∈ cols && isnumeric(v)\n",
    "            push!(nms, n)\n",
    "            append!(arr, v)\n",
    "        end\n",
    "    end\n",
    "    n = length(nms) + 1\n",
    "    R = full(UpperTriangular(view(qrfact!(reshape(arr, (m, n)))[:R], \n",
    "                2:n, 2:n)))\n",
    "    for j in 1:size(R, 2)\n",
    "        colj = view(R, 1:j, j)\n",
    "        colj ./= norm(colj)\n",
    "    end\n",
    "    Rt = UpperTriangular(R)\n",
    "    result = NamedArray(Rt'Rt)\n",
    "    NamedArrays.setnames!(result, string.(nms), 1)\n",
    "    NamedArrays.setnames!(result, string.(nms), 2)\n",
    "    result\n",
    "end"
   ]
  },
  {
   "cell_type": "code",
   "execution_count": 10,
   "metadata": {
    "collapsed": false
   },
   "outputs": [
    {
     "data": {
      "text/plain": [
       "4×4 Named Array{Float64,2}\n",
       "    A ╲ B │       score          age    gcsescore      gcsecnt\n",
       "──────────┼───────────────────────────────────────────────────\n",
       "score     │         1.0  -0.00362303     0.662248     0.662248\n",
       "age       │ -0.00362303          1.0    0.0519797    0.0519797\n",
       "gcsescore │    0.662248    0.0519797          1.0          1.0\n",
       "gcsecnt   │    0.662248    0.0519797          1.0          1.0"
      ]
     },
     "execution_count": 10,
     "metadata": {},
     "output_type": "execute_result"
    }
   ],
   "source": [
    "dfcor1(chem97)"
   ]
  },
  {
   "cell_type": "markdown",
   "metadata": {},
   "source": [
    "Unfortunately, on benchmarks `dfcor` is faster - about 2 to 3 times faster - than `dfcor1`. In a way, I think this reflects the fact that `cor` is very carefully written.  There may be some slight advantage in accuracy for `dfcor1`, but it is unlikely to be noticeable."
   ]
  },
  {
   "cell_type": "code",
   "execution_count": 11,
   "metadata": {
    "collapsed": false
   },
   "outputs": [
    {
     "data": {
      "text/plain": [
       "BenchmarkTools.Trial: \n",
       "  memory estimate:  2.61 mb\n",
       "  allocs estimate:  188\n",
       "  --------------\n",
       "  minimum time:     485.034 μs (0.00% GC)\n",
       "  median time:      524.309 μs (0.00% GC)\n",
       "  mean time:        641.506 μs (15.22% GC)\n",
       "  maximum time:     2.442 ms (52.99% GC)\n",
       "  --------------\n",
       "  samples:          7778\n",
       "  evals/sample:     1\n",
       "  time tolerance:   5.00%\n",
       "  memory tolerance: 1.00%"
      ]
     },
     "execution_count": 11,
     "metadata": {},
     "output_type": "execute_result"
    }
   ],
   "source": [
    "@benchmark dfcor(chem97)"
   ]
  },
  {
   "cell_type": "code",
   "execution_count": 12,
   "metadata": {
    "collapsed": false
   },
   "outputs": [
    {
     "data": {
      "text/plain": [
       "BenchmarkTools.Trial: \n",
       "  memory estimate:  1.90 mb\n",
       "  allocs estimate:  196\n",
       "  --------------\n",
       "  minimum time:     1.226 ms (0.00% GC)\n",
       "  median time:      1.526 ms (0.00% GC)\n",
       "  mean time:        1.576 ms (4.48% GC)\n",
       "  maximum time:     3.984 ms (20.77% GC)\n",
       "  --------------\n",
       "  samples:          3170\n",
       "  evals/sample:     1\n",
       "  time tolerance:   5.00%\n",
       "  memory tolerance: 1.00%"
      ]
     },
     "execution_count": 12,
     "metadata": {},
     "output_type": "execute_result"
    }
   ],
   "source": [
    "@benchmark dfcor1(chem97)"
   ]
  }
 ],
 "metadata": {
  "anaconda-cloud": {},
  "kernelspec": {
   "display_name": "Julia 0.5.0",
   "language": "julia",
   "name": "julia-0.5"
  },
  "language_info": {
   "file_extension": ".jl",
   "mimetype": "application/julia",
   "name": "julia",
   "version": "0.5.0"
  }
 },
 "nbformat": 4,
 "nbformat_minor": 2
}
