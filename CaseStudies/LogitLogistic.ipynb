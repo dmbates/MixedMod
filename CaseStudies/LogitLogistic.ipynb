{
 "cells": [
  {
   "cell_type": "markdown",
   "metadata": {},
   "source": [
    "# Logit and Logistic of array values\n",
    "\n",
    "This notebook illustrates the level of control and flexibility available in Julia functions.  The task is to evaluate the *logistic* function $(-\\infty, \\infty)\\rightarrow(0,1)$\n",
    "\n",
    "\\begin{equation}\n",
    "x \\rightarrow \\frac{1}{1 + e^{-x}}\n",
    "\\end{equation}\n",
    "\n",
    "and its inverse, the *logit* or \"log-odds\" function $(0,1)\\rightarrow(-\\infty, \\infty)$\n",
    "\n",
    "\\begin{equation}\n",
    "p \\rightarrow \\log\\left(\\frac{p}{1-p}\\right)\n",
    "\\end{equation}\n",
    "\n",
    "on an array of numeric values.\n",
    "\n",
    "The first priority is to evaluate these functions accurately and robustly.  This usually means watching for edge cases (e.g. very large positive or negative $x$ or values of $p$ that are close to zero or to one).\n",
    "\n",
    "The second priority is evaluate them quickly and flexibly. When fitting a logistic regression model to very large data sets these functions may be evaluated hundreds of times on arrays with millions of elements.\n",
    "\n",
    "In \"vectorized\" languages, such as [`R`](http://www.r-project.org) or [`Matlab/Octave`](http://octave.org) and, to some extent, [`Python`](http://python.org), the obvious choice is to work on vectors.  In fact, the language often hides the fact that vectorization is occuring.\n",
    "\n",
    "## logit and logistic in R\n",
    "\n",
    "The [`RCall`](https://github.com/JuliaStats/RCall.jl) for Julia starts an embedded R process and provides for two-way communication with it.  In a [`Jupyter`](http://jupyter.org) notebook like this a Julia string prepended with `R` is evaluated in the R process.  String delimiters are `\"` or `\"\"\"`.  In the second case the string can span multiple lines and can contain `\"` characters. "
   ]
  },
  {
   "cell_type": "code",
   "execution_count": 1,
   "metadata": {
    "collapsed": false
   },
   "outputs": [],
   "source": [
    "using RCall"
   ]
  },
  {
   "cell_type": "code",
   "execution_count": 2,
   "metadata": {
    "collapsed": false
   },
   "outputs": [],
   "source": [
    "R\" logit <- function(p) log(p / (1 - p)) \";"
   ]
  },
  {
   "cell_type": "markdown",
   "metadata": {},
   "source": [
    "Create a vector of 100,000,000 random values between 0 and 1 on which to evaluate `logit`.  This is done in `Julia` after setting the random number seed, to allow for reproducibility."
   ]
  },
  {
   "cell_type": "code",
   "execution_count": 2,
   "metadata": {
    "collapsed": true
   },
   "outputs": [],
   "source": [
    "srand(1234321)\n",
    "pvals = rand(100_000_000);"
   ]
  },
  {
   "cell_type": "markdown",
   "metadata": {},
   "source": [
    "Copy the vector to the `R` process under the same name."
   ]
  },
  {
   "cell_type": "code",
   "execution_count": 4,
   "metadata": {
    "collapsed": true
   },
   "outputs": [],
   "source": [
    "@rput pvals;"
   ]
  },
  {
   "cell_type": "code",
   "execution_count": 5,
   "metadata": {
    "collapsed": false
   },
   "outputs": [
    {
     "name": "stdout",
     "output_type": "stream",
     "text": [
      "   user  system elapsed \n",
      "  5.412   0.164   5.576 \n"
     ]
    }
   ],
   "source": [
    "R\"\"\" print(system.time(xvals <- logit(pvals))) \"\"\";"
   ]
  },
  {
   "cell_type": "markdown",
   "metadata": {},
   "source": [
    "The first few values of `pvals` and `xvals` are"
   ]
  },
  {
   "cell_type": "code",
   "execution_count": 6,
   "metadata": {
    "collapsed": false
   },
   "outputs": [
    {
     "name": "stdout",
     "output_type": "stream",
     "text": [
      "List of 2\n",
      " $ pvals: num [1:100000000] 0.0944 0.9366 0.2583 0.9309 0.5553 ...\n",
      " $ xvals: num [1:100000000] -2.261 2.693 -1.055 2.601 0.222 ...\n",
      "NULL\n"
     ]
    }
   ],
   "source": [
    "R\" print(str(list(pvals=pvals, xvals=xvals))) \";"
   ]
  },
  {
   "cell_type": "markdown",
   "metadata": {},
   "source": [
    "Similarly, a vectorized logistic function can be defined as"
   ]
  },
  {
   "cell_type": "code",
   "execution_count": 7,
   "metadata": {
    "collapsed": false
   },
   "outputs": [
    {
     "name": "stdout",
     "output_type": "stream",
     "text": [
      "   user  system elapsed \n",
      "  3.472   0.156   3.631 \n"
     ]
    }
   ],
   "source": [
    "R\"\"\"\n",
    "logistic <- function(x) 1 / (1 + exp(-x))\n",
    "print(system.time(pvalsnew <- logistic(xvals)))\n",
    "\"\"\";"
   ]
  },
  {
   "cell_type": "code",
   "execution_count": 8,
   "metadata": {
    "collapsed": false
   },
   "outputs": [
    {
     "data": {
      "text/plain": [
       "RCall.RObject{RCall.LglSxp}\n",
       "[1] FALSE\n"
      ]
     },
     "execution_count": 8,
     "metadata": {},
     "output_type": "execute_result"
    }
   ],
   "source": [
    "R\" all(pvals == pvalsnew) \"; # check for 'round trip' identity"
   ]
  },
  {
   "cell_type": "markdown",
   "metadata": {},
   "source": [
    "The problem with the \"round trip\" check is that floating point arithmetic is not exact.  Numbers are represented in a finite precision.  `pvalsnew` is close to `pvals` but not exactly equal."
   ]
  },
  {
   "cell_type": "code",
   "execution_count": 9,
   "metadata": {
    "collapsed": false
   },
   "outputs": [
    {
     "name": "stdout",
     "output_type": "stream",
     "text": [
      "List of 3\n",
      " $ pvals: num [1:100000000] 0.0944 0.9366 0.2583 0.9309 0.5553 ...\n",
      " $ xvals: num [1:100000000] -2.261 2.693 -1.055 2.601 0.222 ...\n",
      " $ pvn  : num [1:100000000] 0.0944 0.9366 0.2583 0.9309 0.5553 ...\n",
      "NULL\n"
     ]
    }
   ],
   "source": [
    "R\" print(str(list(pvals=pvals, xvals=xvals, pvn=pvalsnew))) \";"
   ]
  },
  {
   "cell_type": "markdown",
   "metadata": {},
   "source": [
    "`R` has an `all.equal` function that compares floating point values using a tolerance on the differences."
   ]
  },
  {
   "cell_type": "code",
   "execution_count": 10,
   "metadata": {
    "collapsed": false
   },
   "outputs": [
    {
     "name": "stdout",
     "output_type": "stream",
     "text": [
      "[1] TRUE\n"
     ]
    }
   ],
   "source": [
    "R\" print(all.equal(pvals, pvalsnew)) \";"
   ]
  },
  {
   "cell_type": "markdown",
   "metadata": {},
   "source": [
    "## The problem with vectorization\n",
    "\n",
    "Vectorized languages are wonderful environment when you begin programming because all the messy loop-related baggage is eliminated at the expense of some overhead.  The evaluation of `logistic(xvals)` is done in 5 stages\n",
    "\n",
    "1. Allocate a vector, `t1`, of 100,000,000 doubles and loop over `x` writing `-x` into `t1`.\n",
    "2. Allocate a vector, `t2`, of 100,000,000 doubles and loop over `t1` writing `exp(t1)` into `t2`.\n",
    "3. Allocate a vector, `t3`, of 100,000,000 doubles and loop over `t2` writing `1 + t2` into `t3`.\n",
    "4. Allocate a vector, `result`, of 100,000,000 doubles and loop over `t3` writing `1 / t3` into `result`.\n",
    "5. Return `result`\n",
    "\n",
    "Because R allows for missing data in any vector the scalar arithmetic is more complicated than just looping over the vector.  Every scalar addition in, e.g. `1 + t2` has a check on both addends to see if they are `NA`.  Furthermore, the \"recycling rule\" that cycles over the `1` operand while looping over the indices of `t2` is further logic implemented inside the loop.\n",
    "\n",
    "Notice that there are 3 temporary vectors allocated and the `result` must also be allocated.  This storage must later be \"garbage collected\".\n",
    "\n",
    "## Functional programming in Julia\n",
    "\n",
    "The operations could be performed in exactly the same way in Julia. Currently some Julia arithmetic and math functions are vectorized and some aren't.  In future releases vectorization will need to be explicitly stated by appending a `.` to a function name or prepending a `.` to an operator."
   ]
  },
  {
   "cell_type": "code",
   "execution_count": null,
   "metadata": {
    "collapsed": false
   },
   "outputs": [],
   "source": [
    "vlogistic(x::Vector) = 1 ./ (1 .+ exp.(-x));\n",
    "vlogit(p::Vector) = log.(p ./ (1 .- p))\n",
    "xvals = vlogit(pvals)\n",
    "show(xvals[1:5])"
   ]
  },
  {
   "cell_type": "markdown",
   "metadata": {},
   "source": [
    "Check for approximate equality"
   ]
  },
  {
   "cell_type": "code",
   "execution_count": null,
   "metadata": {
    "collapsed": false
   },
   "outputs": [],
   "source": [
    "pvals ≈ vlogistic(xvals)"
   ]
  },
  {
   "cell_type": "markdown",
   "metadata": {},
   "source": [
    "The timings show that the Julia code is faster than the R functions but it still allocates a considerable amount of storage and uses time in garbage collection (gc)."
   ]
  },
  {
   "cell_type": "code",
   "execution_count": null,
   "metadata": {
    "collapsed": false
   },
   "outputs": [],
   "source": [
    "@time vlogit(pvals);"
   ]
  },
  {
   "cell_type": "code",
   "execution_count": null,
   "metadata": {
    "collapsed": false
   },
   "outputs": [],
   "source": [
    "@time vlogistic(xvals);"
   ]
  },
  {
   "cell_type": "markdown",
   "metadata": {},
   "source": [
    "However, there is no need to allocate the intermediate values when operating on only one value."
   ]
  },
  {
   "cell_type": "code",
   "execution_count": 3,
   "metadata": {
    "collapsed": false
   },
   "outputs": [
    {
     "name": "stdout",
     "output_type": "stream",
     "text": [
      "[-2.2608,2.69298,-1.05468,2.60097,0.222041]"
     ]
    },
    {
     "name": "stderr",
     "output_type": "stream",
     "text": [
      "WARNING: Method definition logit(Any) in module Main at In[1]:1 overwritten at In[3]:1.\n",
      "WARNING: Method definition logistic(Any) in module Main at In[1]:2 overwritten at In[3]:2.\n"
     ]
    }
   ],
   "source": [
    "logit(p) = log(p / (one(p) - p));\n",
    "logistic(x) = inv(one(x) + exp(-x));\n",
    "sxvals = logit.(pvals);\n",
    "show(sxvals[1:5])"
   ]
  },
  {
   "cell_type": "code",
   "execution_count": 4,
   "metadata": {
    "collapsed": false
   },
   "outputs": [
    {
     "name": "stdout",
     "output_type": "stream",
     "text": [
      "  2.740797 seconds (159 allocations: 762.948 MB, 2.27% gc time)\n"
     ]
    }
   ],
   "source": [
    "@time logit.(pvals);"
   ]
  },
  {
   "cell_type": "markdown",
   "metadata": {},
   "source": [
    "This type of evaluation is in the \"functional programming\" style where simple functions are mapped over arrays.  Julia allows for results to be pre-allocated as, e.g."
   ]
  },
  {
   "cell_type": "code",
   "execution_count": 6,
   "metadata": {
    "collapsed": false
   },
   "outputs": [
    {
     "name": "stdout",
     "output_type": "stream",
     "text": [
      "  2.631148 seconds (3.43 k allocations: 140.514 KB)\n"
     ]
    }
   ],
   "source": [
    "@time map!(logit, sxvals, pvals);"
   ]
  },
  {
   "cell_type": "markdown",
   "metadata": {},
   "source": [
    "In this case there isn't much of a savings in time but there is a saving in the amount of storage allocated.  This becomes important when, e.g. fitting a generalized linear model or a generalized linear mixed model."
   ]
  },
  {
   "cell_type": "code",
   "execution_count": 8,
   "metadata": {
    "collapsed": false
   },
   "outputs": [
    {
     "name": "stdout",
     "output_type": "stream",
     "text": [
      "  2.116498 seconds (4.67 k allocations: 197.003 KB)\n"
     ]
    }
   ],
   "source": [
    "pvalsnew = similar(sxvals); @time map!(logistic, pvalsnew, sxvals);"
   ]
  },
  {
   "cell_type": "markdown",
   "metadata": {},
   "source": [
    "helps with the amount of allocation but doesn't actually run substantially faster.\n",
    "\n",
    "There is a way to make the evaluation of the `log` and `exp` functions slightly faster, which is to use the [`@fastmath`](http://docs.julialang.org/en/stable/manual/performance-tips.html?highlight=fastmath#performance-annotations) macro in the definitions of the scalar functions.  "
   ]
  },
  {
   "cell_type": "code",
   "execution_count": 9,
   "metadata": {
    "collapsed": false
   },
   "outputs": [
    {
     "data": {
      "text/plain": [
       "flogistic (generic function with 1 method)"
      ]
     },
     "execution_count": 9,
     "metadata": {},
     "output_type": "execute_result"
    }
   ],
   "source": [
    "@fastmath flogit(p) = log(p / (one(p) + p))\n",
    "function flogistic(x)\n",
    "    expmx = @fastmath(exp(-x))\n",
    "    inv(one(expmx) + expmx)\n",
    "end"
   ]
  },
  {
   "cell_type": "code",
   "execution_count": 11,
   "metadata": {
    "collapsed": false
   },
   "outputs": [
    {
     "name": "stdout",
     "output_type": "stream",
     "text": [
      "  2.382810 seconds (5.07 k allocations: 220.258 KB)\n"
     ]
    }
   ],
   "source": [
    "@time map!(flogit, sxvals, pvals);"
   ]
  },
  {
   "cell_type": "code",
   "execution_count": 12,
   "metadata": {
    "collapsed": false
   },
   "outputs": [
    {
     "name": "stdout",
     "output_type": "stream",
     "text": [
      "  1.978709 seconds (4.93 k allocations: 210.208 KB)\n"
     ]
    }
   ],
   "source": [
    "@time map!(flogistic, pvalsnew, sxvals);"
   ]
  },
  {
   "cell_type": "markdown",
   "metadata": {},
   "source": [
    "## Multiple threads\n",
    "\n",
    "Some multithreading capability is available in v0.5.0 of Julia.  Later versions with enhance these capabilities.  Before starting this notebook I set the environment variable `JULIA_NUM_THREADS=4` as this is running on a 4-core processor.\n",
    "\n",
    "It is easiest to use multiple threads on a simple loop.  Define a function that overwrites the values in one array with the logit or logistic of the values in another array.  By convention, a `!` is appended to the name of such a *mutating function*, which modifies one or more of its arguments."
   ]
  },
  {
   "cell_type": "code",
   "execution_count": 13,
   "metadata": {
    "collapsed": false
   },
   "outputs": [
    {
     "data": {
      "text/plain": [
       "logit! (generic function with 1 method)"
      ]
     },
     "execution_count": 13,
     "metadata": {},
     "output_type": "execute_result"
    }
   ],
   "source": [
    "function logit!(dest, src)\n",
    "    length(dest) == length(src) || throw(DimensionMismatch())\n",
    "    Threads.@threads for i in eachindex(dest, src)\n",
    "        @inbounds dest[i] = flogit(src[i])\n",
    "    end\n",
    "    dest\n",
    "end"
   ]
  },
  {
   "cell_type": "code",
   "execution_count": 14,
   "metadata": {
    "collapsed": false
   },
   "outputs": [
    {
     "name": "stdout",
     "output_type": "stream",
     "text": [
      "  2.281610 seconds (13.87 k allocations: 597.863 KB)\n"
     ]
    }
   ],
   "source": [
    "@time logit!(sxvals, pvals);"
   ]
  },
  {
   "cell_type": "markdown",
   "metadata": {},
   "source": [
    "The scaling is very good with 4 threads being"
   ]
  },
  {
   "cell_type": "code",
   "execution_count": null,
   "metadata": {
    "collapsed": false
   },
   "outputs": [],
   "source": [
    "1.66/0.571"
   ]
  },
  {
   "cell_type": "markdown",
   "metadata": {},
   "source": [
    "times as fast as a single thread."
   ]
  }
 ],
 "metadata": {
  "anaconda-cloud": {},
  "kernelspec": {
   "display_name": "Julia 0.5.0",
   "language": "julia",
   "name": "julia-0.5"
  },
  "language_info": {
   "file_extension": ".jl",
   "mimetype": "application/julia",
   "name": "julia",
   "version": "0.5.0"
  }
 },
 "nbformat": 4,
 "nbformat_minor": 2
}
