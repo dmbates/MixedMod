{
 "cells": [
  {
   "cell_type": "markdown",
   "metadata": {},
   "source": [
    "# Checking fixed-effects rank"
   ]
  },
  {
   "cell_type": "markdown",
   "metadata": {},
   "source": [
    "A `MixedModels.LinearMixedModel` can be constructed without being fit.\n",
    "\n",
    "For the purposes of examples, load the dataset stored with the `MixedModels` package."
   ]
  },
  {
   "cell_type": "code",
   "execution_count": 1,
   "metadata": {},
   "outputs": [
    {
     "name": "stderr",
     "output_type": "stream",
     "text": [
      "WARNING: Method definition model_response(DataFrames.ModelFrame) in module DataFrames at /home/bates/.julia/v0.6/DataFrames/src/statsmodels/formula.jl:352 overwritten in module MixedModels at /home/bates/.julia/v0.6/MixedModels/src/pls.jl:58.\n"
     ]
    },
    {
     "data": {
      "text/plain": [
       "Dict{Symbol,DataFrames.DataFrame} with 61 entries:\n",
       "  :bs10          => 1104×6 DataFrames.DataFrame…\n",
       "  :Genetics      => 60×5 DataFrames.DataFrame…\n",
       "  :Contraception => 1934×6 DataFrames.DataFrame…\n",
       "  :Mmmec         => 354×6 DataFrames.DataFrame…\n",
       "  :kb07          => 1790×10 DataFrames.DataFrame…\n",
       "  :Rail          => 18×2 DataFrames.DataFrame…\n",
       "  :KKL           => 53765×24 DataFrames.DataFrame…\n",
       "  :Bond          => 21×3 DataFrames.DataFrame…\n",
       "  :VerbAgg       => 7584×9 DataFrames.DataFrame…\n",
       "  :ergoStool     => 36×3 DataFrames.DataFrame…\n",
       "  :s3bbx         => 2449×6 DataFrames.DataFrame…\n",
       "  :cake          => 270×5 DataFrames.DataFrame…\n",
       "  :Cultivation   => 24×4 DataFrames.DataFrame…\n",
       "  :Pastes        => 60×4 DataFrames.DataFrame…\n",
       "  :Exam          => 4059×5 DataFrames.DataFrame…\n",
       "  :Socatt        => 1056×9 DataFrames.DataFrame…\n",
       "  :WWheat        => 60×3 DataFrames.DataFrame…\n",
       "  :Pixel         => 102×5 DataFrames.DataFrame…\n",
       "  :Arabidopsis   => 625×8 DataFrames.DataFrame…\n",
       "  :TeachingII    => 96×14 DataFrames.DataFrame…\n",
       "  :AvgDailyGain  => 32×6 DataFrames.DataFrame…\n",
       "  :InstEval      => 73421×7 DataFrames.DataFrame…\n",
       "  :Poems         => 275996×7 DataFrames.DataFrame…\n",
       "  :d3            => 130418×5 DataFrames.DataFrame…\n",
       "  :Hsb82         => 7185×8 DataFrames.DataFrame…\n",
       "  ⋮              => ⋮"
      ]
     },
     "execution_count": 1,
     "metadata": {},
     "output_type": "execute_result"
    }
   ],
   "source": [
    "using DataFrames, MixedModels, RData\n",
    "const dat = convert(Dict{Symbol,DataFrame},\n",
    "    load(Pkg.dir(\"MixedModels\", \"test\", \"dat.rda\")))"
   ]
  },
  {
   "cell_type": "markdown",
   "metadata": {},
   "source": [
    "A model for the `sleepstudy` data with random-effects for the intercept and for the days of sleep deprivation, `U`, by subject, `G` is declared as"
   ]
  },
  {
   "cell_type": "code",
   "execution_count": 2,
   "metadata": {
    "collapsed": true
   },
   "outputs": [],
   "source": [
    "m = lmm(@formula(Y ~ 1 + U + (1+U|G)), dat[:sleepstudy]);"
   ]
  },
  {
   "cell_type": "markdown",
   "metadata": {},
   "source": [
    "The fields in `m`"
   ]
  },
  {
   "cell_type": "code",
   "execution_count": 3,
   "metadata": {},
   "outputs": [
    {
     "data": {
      "text/plain": [
       "6-element Array{Symbol,1}:\n",
       " :formula\n",
       " :trms   \n",
       " :sqrtwts\n",
       " :A      \n",
       " :L      \n",
       " :optsum "
      ]
     },
     "execution_count": 3,
     "metadata": {},
     "output_type": "execute_result"
    }
   ],
   "source": [
    "fieldnames(m)"
   ]
  },
  {
   "cell_type": "markdown",
   "metadata": {},
   "source": [
    "include `trms`, a vector of `AbstractTerms`, and two blocked arrays, `A` and `L`.  The last two terms are always `MatrixTerm`s representing the fixed-effects model matrix, $\\bf X$, and the response vector, $\\bf y$.  The terms preceding these two are always random-effects terms."
   ]
  },
  {
   "cell_type": "code",
   "execution_count": 4,
   "metadata": {},
   "outputs": [
    {
     "data": {
      "text/plain": [
       "3-element Array{DataType,1}:\n",
       " MixedModels.VectorFactorReTerm{Float64,String,UInt8}\n",
       " MixedModels.MatrixTerm{Float64,Array{Float64,2}}    \n",
       " MixedModels.MatrixTerm{Float64,Array{Float64,2}}    "
      ]
     },
     "execution_count": 4,
     "metadata": {},
     "output_type": "execute_result"
    }
   ],
   "source": [
    "typeof.(m.trms)"
   ]
  },
  {
   "cell_type": "markdown",
   "metadata": {},
   "source": [
    "The `A` field is a blocked matrix"
   ]
  },
  {
   "cell_type": "code",
   "execution_count": 5,
   "metadata": {},
   "outputs": [
    {
     "data": {
      "text/plain": [
       "BlockArrays.BlockArray{Float64,2,AbstractArray{Float64,2}}"
      ]
     },
     "execution_count": 5,
     "metadata": {},
     "output_type": "execute_result"
    }
   ],
   "source": [
    "typeof(m.A)"
   ]
  },
  {
   "cell_type": "markdown",
   "metadata": {},
   "source": [
    "whose rows and columns of blocks correspond to the terms."
   ]
  },
  {
   "cell_type": "code",
   "execution_count": 6,
   "metadata": {},
   "outputs": [
    {
     "data": {
      "text/plain": [
       "(3, 3)"
      ]
     },
     "execution_count": 6,
     "metadata": {},
     "output_type": "execute_result"
    }
   ],
   "source": [
    "nblocks(m.A)"
   ]
  },
  {
   "cell_type": "markdown",
   "metadata": {},
   "source": [
    "The second last diagonal block in `A` is $\\bf X'X$."
   ]
  },
  {
   "cell_type": "code",
   "execution_count": 7,
   "metadata": {},
   "outputs": [
    {
     "data": {
      "text/plain": [
       "2×2 Array{Float64,2}:\n",
       " 180.0   810.0\n",
       " 810.0  5130.0"
      ]
     },
     "execution_count": 7,
     "metadata": {},
     "output_type": "execute_result"
    }
   ],
   "source": [
    "m.A[Block(2,2)]"
   ]
  },
  {
   "cell_type": "markdown",
   "metadata": {},
   "source": [
    "This can be verified by noting"
   ]
  },
  {
   "cell_type": "code",
   "execution_count": 8,
   "metadata": {},
   "outputs": [
    {
     "data": {
      "text/html": [
       "<table class=\"data-frame\"><thead><tr><th></th><th>Y</th><th>U</th><th>G</th></tr></thead><tbody><tr><th>1</th><td>249.56</td><td>0.0</td><td>308</td></tr><tr><th>2</th><td>258.7047</td><td>1.0</td><td>308</td></tr><tr><th>3</th><td>250.8006</td><td>2.0</td><td>308</td></tr><tr><th>4</th><td>321.4398</td><td>3.0</td><td>308</td></tr><tr><th>5</th><td>356.8519</td><td>4.0</td><td>308</td></tr><tr><th>6</th><td>414.6901</td><td>5.0</td><td>308</td></tr><tr><th>7</th><td>382.2038</td><td>6.0</td><td>308</td></tr><tr><th>8</th><td>290.1486</td><td>7.0</td><td>308</td></tr><tr><th>9</th><td>430.5853</td><td>8.0</td><td>308</td></tr><tr><th>10</th><td>466.3535</td><td>9.0</td><td>308</td></tr><tr><th>11</th><td>222.7339</td><td>0.0</td><td>309</td></tr><tr><th>12</th><td>205.2658</td><td>1.0</td><td>309</td></tr><tr><th>13</th><td>202.9778</td><td>2.0</td><td>309</td></tr><tr><th>14</th><td>204.707</td><td>3.0</td><td>309</td></tr><tr><th>15</th><td>207.7161</td><td>4.0</td><td>309</td></tr><tr><th>16</th><td>215.9618</td><td>5.0</td><td>309</td></tr><tr><th>17</th><td>213.6303</td><td>6.0</td><td>309</td></tr><tr><th>18</th><td>217.7272</td><td>7.0</td><td>309</td></tr><tr><th>19</th><td>224.2957</td><td>8.0</td><td>309</td></tr><tr><th>20</th><td>237.3142</td><td>9.0</td><td>309</td></tr><tr><th>21</th><td>199.0539</td><td>0.0</td><td>310</td></tr><tr><th>22</th><td>194.3322</td><td>1.0</td><td>310</td></tr><tr><th>23</th><td>234.32</td><td>2.0</td><td>310</td></tr><tr><th>24</th><td>232.8416</td><td>3.0</td><td>310</td></tr><tr><th>25</th><td>229.3074</td><td>4.0</td><td>310</td></tr><tr><th>26</th><td>220.4579</td><td>5.0</td><td>310</td></tr><tr><th>27</th><td>235.4208</td><td>6.0</td><td>310</td></tr><tr><th>28</th><td>255.7511</td><td>7.0</td><td>310</td></tr><tr><th>29</th><td>261.0125</td><td>8.0</td><td>310</td></tr><tr><th>30</th><td>247.5153</td><td>9.0</td><td>310</td></tr><tr><th>&vellip;</th><td>&vellip;</td><td>&vellip;</td><td>&vellip;</td></tr></tbody></table>"
      ],
      "text/plain": [
       "180×3 DataFrames.DataFrame\n",
       "│ Row │ Y       │ U   │ G     │\n",
       "├─────┼─────────┼─────┼───────┤\n",
       "│ 1   │ 249.56  │ 0.0 │ \"308\" │\n",
       "│ 2   │ 258.705 │ 1.0 │ \"308\" │\n",
       "│ 3   │ 250.801 │ 2.0 │ \"308\" │\n",
       "│ 4   │ 321.44  │ 3.0 │ \"308\" │\n",
       "│ 5   │ 356.852 │ 4.0 │ \"308\" │\n",
       "│ 6   │ 414.69  │ 5.0 │ \"308\" │\n",
       "│ 7   │ 382.204 │ 6.0 │ \"308\" │\n",
       "│ 8   │ 290.149 │ 7.0 │ \"308\" │\n",
       "│ 9   │ 430.585 │ 8.0 │ \"308\" │\n",
       "│ 10  │ 466.353 │ 9.0 │ \"308\" │\n",
       "│ 11  │ 222.734 │ 0.0 │ \"309\" │\n",
       "⋮\n",
       "│ 169 │ 350.781 │ 8.0 │ \"371\" │\n",
       "│ 170 │ 369.469 │ 9.0 │ \"371\" │\n",
       "│ 171 │ 269.412 │ 0.0 │ \"372\" │\n",
       "│ 172 │ 273.474 │ 1.0 │ \"372\" │\n",
       "│ 173 │ 297.597 │ 2.0 │ \"372\" │\n",
       "│ 174 │ 310.632 │ 3.0 │ \"372\" │\n",
       "│ 175 │ 287.173 │ 4.0 │ \"372\" │\n",
       "│ 176 │ 329.608 │ 5.0 │ \"372\" │\n",
       "│ 177 │ 334.482 │ 6.0 │ \"372\" │\n",
       "│ 178 │ 343.22  │ 7.0 │ \"372\" │\n",
       "│ 179 │ 369.142 │ 8.0 │ \"372\" │\n",
       "│ 180 │ 364.124 │ 9.0 │ \"372\" │"
      ]
     },
     "execution_count": 8,
     "metadata": {},
     "output_type": "execute_result"
    }
   ],
   "source": [
    "dat[:sleepstudy]"
   ]
  },
  {
   "cell_type": "code",
   "execution_count": 9,
   "metadata": {},
   "outputs": [
    {
     "data": {
      "text/plain": [
       "180×2 Array{Float64,2}:\n",
       " 1.0  0.0\n",
       " 1.0  1.0\n",
       " 1.0  2.0\n",
       " 1.0  3.0\n",
       " 1.0  4.0\n",
       " 1.0  5.0\n",
       " 1.0  6.0\n",
       " 1.0  7.0\n",
       " 1.0  8.0\n",
       " 1.0  9.0\n",
       " 1.0  0.0\n",
       " 1.0  1.0\n",
       " 1.0  2.0\n",
       " ⋮       \n",
       " 1.0  8.0\n",
       " 1.0  9.0\n",
       " 1.0  0.0\n",
       " 1.0  1.0\n",
       " 1.0  2.0\n",
       " 1.0  3.0\n",
       " 1.0  4.0\n",
       " 1.0  5.0\n",
       " 1.0  6.0\n",
       " 1.0  7.0\n",
       " 1.0  8.0\n",
       " 1.0  9.0"
      ]
     },
     "execution_count": 9,
     "metadata": {},
     "output_type": "execute_result"
    }
   ],
   "source": [
    "X = m.trms[end - 1].x   # the model matrix X"
   ]
  },
  {
   "cell_type": "code",
   "execution_count": 10,
   "metadata": {},
   "outputs": [
    {
     "data": {
      "text/plain": [
       "2×2 Array{Float64,2}:\n",
       " 180.0   810.0\n",
       " 810.0  5130.0"
      ]
     },
     "execution_count": 10,
     "metadata": {},
     "output_type": "execute_result"
    }
   ],
   "source": [
    "X'X"
   ]
  },
  {
   "cell_type": "markdown",
   "metadata": {},
   "source": [
    "A pivoted Cholesky decomposition of this matrix returns the computational rank, which is also the rank of $\\bf X$."
   ]
  },
  {
   "cell_type": "code",
   "execution_count": 11,
   "metadata": {},
   "outputs": [
    {
     "data": {
      "text/plain": [
       "Base.LinAlg.CholeskyPivoted{Float64,Array{Float64,2}}([71.624 810.0; 11.3091 7.2184], 'L', [2, 1], 2, 0.0, 0)"
      ]
     },
     "execution_count": 11,
     "metadata": {},
     "output_type": "execute_result"
    }
   ],
   "source": [
    "Lpiv = cholfact(Symmetric(m.A[Block(2,2)], :L), Val{true})"
   ]
  },
  {
   "cell_type": "code",
   "execution_count": 12,
   "metadata": {},
   "outputs": [
    {
     "data": {
      "text/html": [
       "2"
      ],
      "text/plain": [
       "2"
      ]
     },
     "execution_count": 12,
     "metadata": {},
     "output_type": "execute_result"
    }
   ],
   "source": [
    "rank(Lpiv)"
   ]
  },
  {
   "cell_type": "markdown",
   "metadata": {},
   "source": [
    "An optional argument, `tol`, in the call to `cholfact` specifies the tolerance for determining the rank.  It defaults to zero which would correspond to exact rank deficiency.  A more reasonable value may be $\\sqrt{\\epsilon}$ where $\\epsilon$ is the relative machine precision."
   ]
  },
  {
   "cell_type": "code",
   "execution_count": 13,
   "metadata": {},
   "outputs": [
    {
     "data": {
      "text/html": [
       "1.4901161193847656e-8"
      ],
      "text/plain": [
       "1.4901161193847656e-8"
      ]
     },
     "execution_count": 13,
     "metadata": {},
     "output_type": "execute_result"
    }
   ],
   "source": [
    "√eps()"
   ]
  },
  {
   "cell_type": "markdown",
   "metadata": {},
   "source": [
    "As explained in the documentation for [`dpstrf`](https://software.intel.com/en-us/mkl-developer-reference-fortran-pstrf), this value should be negated to be used as a relative tolerance.  Otherwise it is used as an absolute tolerance which usually is not what you want."
   ]
  },
  {
   "cell_type": "code",
   "execution_count": 14,
   "metadata": {},
   "outputs": [
    {
     "data": {
      "text/plain": [
       "Base.LinAlg.CholeskyPivoted{Float64,Array{Float64,2}}([71.624 810.0; 11.3091 7.2184], 'L', [2, 1], 2, -1.4901161193847656e-8, 0)"
      ]
     },
     "execution_count": 14,
     "metadata": {},
     "output_type": "execute_result"
    }
   ],
   "source": [
    "Lpiv = cholfact(Symmetric(m.A[Block(2,2)], :L), Val{true}, tol = -√eps())"
   ]
  }
 ],
 "metadata": {
  "kernelspec": {
   "display_name": "Julia 0.6.1",
   "language": "julia",
   "name": "julia-0.6"
  },
  "language_info": {
   "file_extension": ".jl",
   "mimetype": "application/julia",
   "name": "julia",
   "version": "0.6.1"
  }
 },
 "nbformat": 4,
 "nbformat_minor": 2
}
