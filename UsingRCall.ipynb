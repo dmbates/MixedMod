{
 "cells": [
  {
   "cell_type": "code",
   "execution_count": 1,
   "metadata": {},
   "outputs": [],
   "source": [
    "using RCall"
   ]
  },
  {
   "cell_type": "code",
   "execution_count": 2,
   "metadata": {},
   "outputs": [
    {
     "name": "stdout",
     "output_type": "stream",
     "text": [
      " table [1:4, 1:2, 1:2, 1:2] 0 0 35 0 0 0 17 0 118 154 ...\n",
      " - attr(*, \"dimnames\")=List of 4\n",
      "  ..$ Class   : chr [1:4] \"1st\" \"2nd\" \"3rd\" \"Crew\"\n",
      "  ..$ Sex     : chr [1:2] \"Male\" \"Female\"\n",
      "  ..$ Age     : chr [1:2] \"Child\" \"Adult\"\n",
      "  ..$ Survived: chr [1:2] \"No\" \"Yes\"\n"
     ]
    }
   ],
   "source": [
    "R\"\"\"\n",
    "str(Titanic)\n",
    "\"\"\";"
   ]
  },
  {
   "cell_type": "code",
   "execution_count": 3,
   "metadata": {},
   "outputs": [
    {
     "data": {
      "text/html": [
       "<table class=\"data-frame\"><thead><tr><th></th><th>carb</th><th>optden</th></tr></thead><tbody><tr><th>1</th><td>0.1</td><td>0.086</td></tr><tr><th>2</th><td>0.3</td><td>0.269</td></tr><tr><th>3</th><td>0.5</td><td>0.446</td></tr><tr><th>4</th><td>0.6</td><td>0.538</td></tr><tr><th>5</th><td>0.7</td><td>0.626</td></tr><tr><th>6</th><td>0.9</td><td>0.782</td></tr></tbody></table>"
      ],
      "text/plain": [
       "6×2 DataFrames.DataFrame\n",
       "│ Row │ carb │ optden │\n",
       "├─────┼──────┼────────┤\n",
       "│ 1   │ 0.1  │ 0.086  │\n",
       "│ 2   │ 0.3  │ 0.269  │\n",
       "│ 3   │ 0.5  │ 0.446  │\n",
       "│ 4   │ 0.6  │ 0.538  │\n",
       "│ 5   │ 0.7  │ 0.626  │\n",
       "│ 6   │ 0.9  │ 0.782  │"
      ]
     },
     "execution_count": 3,
     "metadata": {},
     "output_type": "execute_result"
    }
   ],
   "source": [
    "form = rcopy(R\"Formaldehyde\")"
   ]
  }
 ],
 "metadata": {
  "kernelspec": {
   "display_name": "Julia 0.5.1",
   "language": "julia",
   "name": "julia-0.5"
  },
  "language_info": {
   "file_extension": ".jl",
   "mimetype": "application/julia",
   "name": "julia",
   "version": "0.5.1"
  }
 },
 "nbformat": 4,
 "nbformat_minor": 1
}
