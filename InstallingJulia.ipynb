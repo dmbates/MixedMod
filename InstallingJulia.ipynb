{
 "cells": [
  {
   "cell_type": "markdown",
   "metadata": {
    "collapsed": true
   },
   "source": [
    "# Mixed-effects Models in Julia\n",
    "\n",
    "## Using JuliaBox\n",
    "\n",
    "- [`juliabox.com`](https://juliabox.com) provides a browser interface to `Julia` through [`Jupyter`](https://jupyter.org) notebooks.\n",
    "    - a good environment for classroom demonstrations\n",
    "    - works best in live demo mode\n",
    "    - the `Sync` tab allows access to [`github.com`](https://github.com) repositories or `Google Drive` directories.\n",
    "    - the `Files` tab provides uploading/downloading of files or folders\n",
    "    - the `Console` provides shell access\n",
    "    - Jupyter notebooks can be run from the `Jupyter` tab \n",
    "    \n",
    "## JuliaPro\n",
    "\n",
    "- the web site for the open source system is [`julialang.org`](https://julialang.org)\n",
    "- [`juliacomputing.com`](https://juliacomputing.com) is a commercial company formed by core developers to provide commercial support\n",
    "- They provide a prepackaged version called `JuliaPro` for Windows and Mac OSX.\n",
    "- You do need to create a login or use your google or facebook login.\n",
    "\n",
    "## Downloads page\n",
    "\n",
    "- https://julialang.org/downloads\n",
    "\n",
    "# Running Julia\n",
    "\n",
    "- the REPL (read-eval-print-loop) provided by the application or the command-line\n",
    "- Jupyter notebooks\n",
    "   - also used for python, R\n",
    "   - need the `IJulia` package for Julia installed (it was updated within the last few hours)\n",
    "- Juno within the Atom editor (part of JuliaPro) provides an integrated development environment (IDE)\n",
    "\n",
    "## Importing data\n",
    "\n",
    "- the easiest approach is to use `RCall` or `PyCall/Pandas`\n",
    "- [`feather`](https://github.com/wesm/feather) is a language-agnostic form of dataframe storage.  The R package is `feather`, Julia package is `Feather` and I forget what the Python package is.\n",
    "   - when reading a Feather file in Julia use `nullable=false` for the time being\n",
    "- there is the `readtable` function in `DataFrames` and a `CSV` package for reading CSV files.\n"
   ]
  }
 ],
 "metadata": {
  "anaconda-cloud": {},
  "kernelspec": {
   "display_name": "Julia 0.6.0",
   "language": "julia",
   "name": "julia-0.6"
  },
  "language_info": {
   "file_extension": ".jl",
   "mimetype": "application/julia",
   "name": "julia",
   "version": "0.6.0"
  },
  "nbpresent": {
   "slides": {
    "178fc5e3-72e2-45c4-88e1-fcbee82f9c3d": {
     "id": "178fc5e3-72e2-45c4-88e1-fcbee82f9c3d",
     "prev": null,
     "regions": {
      "0d947757-45ab-4c8c-80f7-bad57262aa4b": {
       "attrs": {
        "height": 0.8,
        "width": 0.8,
        "x": 0.1,
        "y": 0.1
       },
       "content": {
        "cell": "dcc3061d-c197-4cf0-a35c-c9154aa0eb4c",
        "part": "whole"
       },
       "id": "0d947757-45ab-4c8c-80f7-bad57262aa4b"
      }
     }
    }
   },
   "themes": {}
  }
 },
 "nbformat": 4,
 "nbformat_minor": 2
}
